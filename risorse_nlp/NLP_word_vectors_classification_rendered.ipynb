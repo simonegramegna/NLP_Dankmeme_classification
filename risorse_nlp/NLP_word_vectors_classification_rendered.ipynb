{
  "nbformat": 4,
  "nbformat_minor": 0,
  "metadata": {
    "kernelspec": {
      "display_name": "Python 3",
      "language": "python",
      "name": "python3"
    },
    "language_info": {
      "codemirror_mode": {
        "name": "ipython",
        "version": 3
      },
      "file_extension": ".py",
      "mimetype": "text/x-python",
      "name": "python",
      "nbconvert_exporter": "python",
      "pygments_lexer": "ipython3",
      "version": "3.5.2"
    },
    "colab": {
      "provenance": []
    },
    "accelerator": "GPU"
  },
  "cells": [
    {
      "cell_type": "markdown",
      "metadata": {
        "deletable": true,
        "editable": true,
        "id": "ExbNueiSrQvr"
      },
      "source": [
        "## Text classification using Neural Networks, Gensim and Spacy\n",
        "\n",
        "The goal of this notebook is to learn to use Neural Networks for text classification.\n",
        "\n",
        "In this notebook, we will:\n",
        "- Train a shallow model with learning embeddings\n",
        "- Download pre-trained embeddings from FastTextAi\n",
        "- Use these pre-trained embeddings\n",
        "\n",
        "However keep in mind:\n",
        "- Deep Learning can be better on text classification that simpler ML techniques, but only on very large datasets and well designed/tuned models.\n",
        "- We won't be using the most efficient (in terms of computing) techniques, as Keras is good for prototyping but rather inefficient for training small embedding models on text.\n",
        "- The following projects can replicate similar word embedding models much more efficiently: [word2vec](https://github.com/dav/word2vec) and [gensim's word2vec](https://radimrehurek.com/gensim/models/word2vec.html)   (self-supervised learning only), [fastText](https://github.com/facebookresearch/fastText) (both supervised and self-supervised learning), [Vowpal Wabbit](https://github.com/JohnLangford/vowpal_wabbit/wiki) (supervised learning).\n",
        "- Plain shallow sparse TF-IDF bigrams features without any embedding and Logistic Regression or Multinomial Naive Bayes is often competitive in small to medium datasets.\n",
        "\n",
        "\n",
        "### Sentipolc 2016\n",
        "\n",
        "It is the intention of the organizers to promote the construction of a shared dataset for both Sentipolc and the Named Entity rEcognition and Linking in Italian Tweets (NEEL-IT) Evalita 2016 task. Indeed, interest in entity-liking in Twitter is gaining increasing attention, as well as aspect-based sentiment analysis. In a world where e-commerce is part of our everyday life and social media platforms are regarded as new channels for marketing and for fostering trust of potential customers, such great interest in opinion mining from Twitter isn’t surprising. In this scenario, it is crucial to be able to mine opinions about specific aspects of objects and named entities. Therefore, we believe that besides the traditional task on message-level polarity classification, in the future editions of Evalita special focus should be given to entity-based sentiment analysis.\n",
        "The use of common data for the Sentipolc and NEEL-IT is a first step towards the long-term goal of enabling participants to develop end-to-end system from entity linking to entity-based sentiment analysis. http://www.di.unito.it/~tutreeb/sentipolc-evalita16/data.html"
      ]
    },
    {
      "cell_type": "code",
      "source": [
        "!wget http://www.di.uniba.it/~swap/sentipolc/sentipolc16_train.csv\n",
        "!wget http://www.di.uniba.it/~swap/sentipolc/sentipolc16_test.csv"
      ],
      "metadata": {
        "colab": {
          "base_uri": "https://localhost:8080/"
        },
        "id": "mjB4ElyWu1WD",
        "outputId": "2b92ea07-baa5-4d43-fff8-db0b94314c21"
      },
      "execution_count": 4,
      "outputs": [
        {
          "output_type": "stream",
          "name": "stdout",
          "text": [
            "--2023-05-09 09:00:24--  http://www.di.uniba.it/~swap/sentipolc/sentipolc16_train.csv\n",
            "Resolving www.di.uniba.it (www.di.uniba.it)... 193.204.187.10\n",
            "Connecting to www.di.uniba.it (www.di.uniba.it)|193.204.187.10|:80... connected.\n",
            "HTTP request sent, awaiting response... 200 OK\n",
            "Length: 1028257 (1004K) [text/plain]\n",
            "Saving to: ‘sentipolc16_train.csv.1’\n",
            "\n",
            "sentipolc16_train.c 100%[===================>]   1004K   157KB/s    in 7.7s    \n",
            "\n",
            "2023-05-09 09:00:33 (131 KB/s) - ‘sentipolc16_train.csv.1’ saved [1028257/1028257]\n",
            "\n",
            "--2023-05-09 09:00:33--  http://www.di.uniba.it/~swap/sentipolc/sentipolc16_test.csv\n",
            "Resolving www.di.uniba.it (www.di.uniba.it)... 193.204.187.10\n",
            "Connecting to www.di.uniba.it (www.di.uniba.it)|193.204.187.10|:80... connected.\n",
            "HTTP request sent, awaiting response... 200 OK\n",
            "Length: 327873 (320K) [text/plain]\n",
            "Saving to: ‘sentipolc16_test.csv.1’\n",
            "\n",
            "sentipolc16_test.cs 100%[===================>] 320.19K   101KB/s    in 3.2s    \n",
            "\n",
            "2023-05-09 09:00:36 (101 KB/s) - ‘sentipolc16_test.csv.1’ saved [327873/327873]\n",
            "\n"
          ]
        }
      ]
    },
    {
      "cell_type": "code",
      "metadata": {
        "deletable": true,
        "editable": true,
        "id": "uksPu2sRrQvt"
      },
      "source": [
        "import numpy as np\n",
        "import pandas as pd\n",
        "\n",
        "train= pd.read_csv('sentipolc16_train.csv')\n",
        "test = pd.read_csv('sentipolc16_test.csv')"
      ],
      "execution_count": 5,
      "outputs": []
    },
    {
      "cell_type": "code",
      "metadata": {
        "deletable": true,
        "editable": true,
        "id": "Ukd0b5mrrQv0",
        "colab": {
          "base_uri": "https://localhost:8080/"
        },
        "outputId": "3f651c43-960c-447b-d15e-420f8ea4c60d"
      },
      "source": [
        "sample_idx = 1000\n",
        "print(train[\"text\"][sample_idx])"
      ],
      "execution_count": 6,
      "outputs": [
        {
          "output_type": "stream",
          "name": "stdout",
          "text": [
            "L'abuso della parola super per i ministri del governo #Monti è il segno di quanto in Italia si fosse(sia) persa la concezione del normale \n"
          ]
        }
      ]
    },
    {
      "cell_type": "code",
      "metadata": {
        "deletable": true,
        "editable": true,
        "id": "J2qz0burrQv7",
        "colab": {
          "base_uri": "https://localhost:8080/"
        },
        "outputId": "7875c77f-e91f-41b2-8486-b66e810bf8e4"
      },
      "source": [
        "target_classes = train[\"opos\"]\n",
        "\n",
        "target_id = train[\"opos\"][sample_idx]\n",
        "print(\"Class of previous message:\", target_id)"
      ],
      "execution_count": 7,
      "outputs": [
        {
          "output_type": "stream",
          "name": "stdout",
          "text": [
            "Class of previous message: 0\n"
          ]
        }
      ]
    },
    {
      "cell_type": "markdown",
      "metadata": {
        "deletable": true,
        "editable": true,
        "id": "ZXRSh7XMrQwA"
      },
      "source": [
        "Here are all the possible classes:"
      ]
    },
    {
      "cell_type": "code",
      "metadata": {
        "deletable": true,
        "editable": true,
        "id": "4-ziROzGrQwB",
        "colab": {
          "base_uri": "https://localhost:8080/"
        },
        "outputId": "f05c7e03-1172-4eef-a9c2-c419bcb7b2fe"
      },
      "source": [
        "target_classes"
      ],
      "execution_count": 8,
      "outputs": [
        {
          "output_type": "execute_result",
          "data": {
            "text/plain": [
              "0       0\n",
              "1       0\n",
              "2       0\n",
              "3       0\n",
              "4       0\n",
              "       ..\n",
              "7405    1\n",
              "7406    1\n",
              "7407    0\n",
              "7408    1\n",
              "7409    1\n",
              "Name: opos, Length: 7410, dtype: int64"
            ]
          },
          "metadata": {},
          "execution_count": 8
        }
      ]
    },
    {
      "cell_type": "markdown",
      "metadata": {
        "deletable": true,
        "editable": true,
        "id": "FAsr1e6mrQwI"
      },
      "source": [
        "### Preprocessing text for the (supervised) CBOW model\n",
        "\n",
        "We will implement a simple classification model in Keras. Raw text requires (sometimes a lot of) preprocessing.\n",
        "\n",
        "The following cells uses Keras to preprocess text:\n",
        "- using a tokenizer. You may use different tokenizers (from scikit-learn, NLTK, custom Python function etc.). This converts the texts into sequences of indices representing the `20000` most frequent words\n",
        "- sequences have different lengths, so we pad them (add 0s at the end until the sequence is of length `1000`)\n",
        "- we convert the output classes as 1-hot encodings"
      ]
    },
    {
      "cell_type": "code",
      "metadata": {
        "deletable": true,
        "editable": true,
        "id": "WO8Raa-CrQwJ",
        "colab": {
          "base_uri": "https://localhost:8080/"
        },
        "outputId": "3c26a9ec-b9a0-4b5e-8568-ea47bb1ba71b"
      },
      "source": [
        "from keras.preprocessing.text import Tokenizer\n",
        "\n",
        "MAX_NB_WORDS = 20000\n",
        "\n",
        "# get the raw text data\n",
        "texts_train = train[\"text\"]\n",
        "texts_test =test[\"text\"]\n",
        "\n",
        "# finally, vectorize the text samples into a 2D integer tensor\n",
        "tokenizer = Tokenizer(nb_words=MAX_NB_WORDS, char_level=False)\n",
        "tokenizer.fit_on_texts(texts_train)\n",
        "\n",
        "sequences = tokenizer.texts_to_sequences(texts_train)\n",
        "sequences_test = tokenizer.texts_to_sequences(texts_test)\n",
        "\n",
        "word_index = tokenizer.word_index\n",
        "print('Found %s unique tokens.' % len(word_index))"
      ],
      "execution_count": 9,
      "outputs": [
        {
          "output_type": "stream",
          "name": "stderr",
          "text": [
            "/usr/local/lib/python3.10/dist-packages/keras/preprocessing/text.py:246: UserWarning: The `nb_words` argument in `Tokenizer` has been renamed `num_words`.\n",
            "  warnings.warn(\n"
          ]
        },
        {
          "output_type": "stream",
          "name": "stdout",
          "text": [
            "Found 21234 unique tokens.\n"
          ]
        }
      ]
    },
    {
      "cell_type": "markdown",
      "metadata": {
        "deletable": true,
        "editable": true,
        "id": "nuoLwWfsrQwP"
      },
      "source": [
        "Tokenized sequences are converted to list of token ids (with an integer code):"
      ]
    },
    {
      "cell_type": "code",
      "metadata": {
        "deletable": true,
        "editable": true,
        "scrolled": true,
        "id": "v14-T1htrQwP",
        "colab": {
          "base_uri": "https://localhost:8080/"
        },
        "outputId": "d0d5eefc-9e97-4f79-d649-7d1f55c644bb"
      },
      "source": [
        "sequences[0]"
      ],
      "execution_count": 10,
      "outputs": [
        {
          "output_type": "execute_result",
          "data": {
            "text/plain": [
              "[557,\n",
              " 11,\n",
              " 1081,\n",
              " 14,\n",
              " 47,\n",
              " 651,\n",
              " 22,\n",
              " 6520,\n",
              " 4070,\n",
              " 111,\n",
              " 10,\n",
              " 904,\n",
              " 34,\n",
              " 33,\n",
              " 15,\n",
              " 1,\n",
              " 7,\n",
              " 5,\n",
              " 6,\n",
              " 6521,\n",
              " 47,\n",
              " 977]"
            ]
          },
          "metadata": {},
          "execution_count": 10
        }
      ]
    },
    {
      "cell_type": "markdown",
      "metadata": {
        "deletable": true,
        "editable": true,
        "id": "he3oRoNLrQwX"
      },
      "source": [
        "The tokenizer object stores a mapping (vocabulary) from word strings to token ids that can be inverted to reconstruct the original message (without formatting):"
      ]
    },
    {
      "cell_type": "code",
      "metadata": {
        "deletable": true,
        "editable": true,
        "id": "HWv9H-y3rQwZ",
        "colab": {
          "base_uri": "https://localhost:8080/"
        },
        "outputId": "63864c3e-9438-48a6-9fcd-62eca75b28f1"
      },
      "source": [
        "type(tokenizer.word_index), len(tokenizer.word_index)"
      ],
      "execution_count": 11,
      "outputs": [
        {
          "output_type": "execute_result",
          "data": {
            "text/plain": [
              "(dict, 21234)"
            ]
          },
          "metadata": {},
          "execution_count": 11
        }
      ]
    },
    {
      "cell_type": "code",
      "metadata": {
        "deletable": true,
        "editable": true,
        "id": "7Whhbl7urQwd"
      },
      "source": [
        "index_to_word = dict((i, w) for w, i in tokenizer.word_index.items())"
      ],
      "execution_count": 12,
      "outputs": []
    },
    {
      "cell_type": "code",
      "metadata": {
        "deletable": true,
        "editable": true,
        "id": "r3Y-rvEkrQwh",
        "colab": {
          "base_uri": "https://localhost:8080/",
          "height": 35
        },
        "outputId": "44401130-bbb7-44e6-887d-ea2a539aa960"
      },
      "source": [
        "\" \".join([index_to_word[i] for i in sequences[0]])"
      ],
      "execution_count": 13,
      "outputs": [
        {
          "output_type": "execute_result",
          "data": {
            "text/plain": [
              "'intanto la partita per via nazionale si complica saccomanni dice che mica tutti sono mario monti http t co xptnz4x7 via linkiesta'"
            ],
            "application/vnd.google.colaboratory.intrinsic+json": {
              "type": "string"
            }
          },
          "metadata": {},
          "execution_count": 13
        }
      ]
    },
    {
      "cell_type": "markdown",
      "metadata": {
        "deletable": true,
        "editable": true,
        "id": "XifL5FgKrQwl"
      },
      "source": [
        "Let's have a closer look at the tokenized sequences:"
      ]
    },
    {
      "cell_type": "code",
      "metadata": {
        "deletable": true,
        "editable": true,
        "id": "Apr3ZqnhrQwm",
        "colab": {
          "base_uri": "https://localhost:8080/"
        },
        "outputId": "14ad0e4c-eaae-4234-eeb7-6442ea8fe558"
      },
      "source": [
        "seq_lens = [len(s) for s in sequences]\n",
        "print(\"average length: %0.1f\" % np.mean(seq_lens))\n",
        "print(\"max length: %d\" % max(seq_lens))"
      ],
      "execution_count": 14,
      "outputs": [
        {
          "output_type": "stream",
          "name": "stdout",
          "text": [
            "average length: 16.0\n",
            "max length: 40\n"
          ]
        }
      ]
    },
    {
      "cell_type": "code",
      "metadata": {
        "deletable": true,
        "editable": true,
        "id": "U6Hp4pXwrQwq",
        "colab": {
          "base_uri": "https://localhost:8080/",
          "height": 430
        },
        "outputId": "ea1d81d3-9933-4c24-8b29-3094902fd767"
      },
      "source": [
        "%matplotlib inline\n",
        "import matplotlib.pyplot as plt\n",
        "\n",
        "plt.hist(seq_lens, bins=50);"
      ],
      "execution_count": 15,
      "outputs": [
        {
          "output_type": "display_data",
          "data": {
            "text/plain": [
              "<Figure size 640x480 with 1 Axes>"
            ],
            "image/png": "[encoded data removed]"
          },
          "metadata": {}
        }
      ]
    },
    {
      "cell_type": "markdown",
      "metadata": {
        "deletable": true,
        "editable": true,
        "id": "GfCRWAGirQwv"
      },
      "source": [
        "Let's zoom on the distribution of regular sized posts. The vast majority of the posts have less than 30 symbols:"
      ]
    },
    {
      "cell_type": "markdown",
      "metadata": {
        "deletable": true,
        "editable": true,
        "id": "5W6QRDcprQw0"
      },
      "source": [
        "Let's truncate and pad all the sequences to 25 symbols to build the training set:"
      ]
    },
    {
      "cell_type": "code",
      "metadata": {
        "deletable": true,
        "editable": true,
        "id": "3DC-Ysi-rQw0",
        "colab": {
          "base_uri": "https://localhost:8080/"
        },
        "outputId": "16d9bf29-6f9f-4a0c-b11a-e3ed853eeb64"
      },
      "source": [
        "from keras.utils import pad_sequences\n",
        "\n",
        "\n",
        "MAX_SEQUENCE_LENGTH = 25\n",
        "\n",
        "# pad sequences with 0s\n",
        "x_train = pad_sequences(sequences, maxlen=MAX_SEQUENCE_LENGTH,padding='post')\n",
        "x_test = pad_sequences(sequences_test, maxlen=MAX_SEQUENCE_LENGTH,padding='post')\n",
        "\n",
        "print('Shape of data tensor:', x_train.shape)\n",
        "print('Shape of data test tensor:', x_test.shape)"
      ],
      "execution_count": 17,
      "outputs": [
        {
          "output_type": "stream",
          "name": "stdout",
          "text": [
            "Shape of data tensor: (7410, 25)\n",
            "Shape of data test tensor: (2000, 25)\n"
          ]
        }
      ]
    },
    {
      "cell_type": "code",
      "metadata": {
        "colab": {
          "base_uri": "https://localhost:8080/"
        },
        "id": "Yij15CxGZxmE",
        "outputId": "96e6f25a-e8b5-49ba-aedc-9f8d6c70a737"
      },
      "source": [
        "x_train[0]"
      ],
      "execution_count": 18,
      "outputs": [
        {
          "output_type": "execute_result",
          "data": {
            "text/plain": [
              "array([ 557,   11, 1081,   14,   47,  651,   22, 6520, 4070,  111,   10,\n",
              "        904,   34,   33,   15,    1,    7,    5,    6, 6521,   47,  977,\n",
              "          0,    0,    0], dtype=int32)"
            ]
          },
          "metadata": {},
          "execution_count": 18
        }
      ]
    },
    {
      "cell_type": "code",
      "metadata": {
        "deletable": true,
        "editable": true,
        "id": "77rTAOV3rQw6",
        "colab": {
          "base_uri": "https://localhost:8080/"
        },
        "outputId": "073bb272-5431-47f3-c70b-d5664d9e91de"
      },
      "source": [
        "from keras.utils.np_utils import to_categorical\n",
        "y_train = train[\"opos\"]\n",
        "y_test = test[\"opos\"]\n",
        "\n",
        "y_train = to_categorical(np.asarray(y_train))\n",
        "print('Shape of label tensor:', y_train.shape)"
      ],
      "execution_count": 19,
      "outputs": [
        {
          "output_type": "stream",
          "name": "stdout",
          "text": [
            "Shape of label tensor: (7410, 2)\n"
          ]
        }
      ]
    },
    {
      "cell_type": "code",
      "metadata": {
        "colab": {
          "base_uri": "https://localhost:8080/"
        },
        "id": "wSeAYSbF2ku4",
        "outputId": "a79142b7-a80d-4aa3-c293-4b84014cbea1"
      },
      "source": [
        "y_train"
      ],
      "execution_count": 20,
      "outputs": [
        {
          "output_type": "execute_result",
          "data": {
            "text/plain": [
              "array([[1., 0.],\n",
              "       [1., 0.],\n",
              "       [1., 0.],\n",
              "       ...,\n",
              "       [1., 0.],\n",
              "       [0., 1.],\n",
              "       [0., 1.]], dtype=float32)"
            ]
          },
          "metadata": {},
          "execution_count": 20
        }
      ]
    },
    {
      "cell_type": "markdown",
      "metadata": {
        "deletable": true,
        "editable": true,
        "id": "oShKBBdVrQxD"
      },
      "source": [
        "### A simple supervised model in Keras\n",
        "\n",
        "The following computes a very simple model:\n",
        "\n",
        "<img src=\"https://m2dsupsdlclass.github.io/lectures-labs/slides/06_deep_nlp/images/fasttext.svg\" style=\"width: 600px;\" />\n",
        "\n",
        "- Build an embedding layer mapping each word to a vector representation\n",
        "- Compute the vector representation of all words in each sequence and average them\n",
        "- Add a dense layer to output 20 classes (+ softmax)"
      ]
    },
    {
      "cell_type": "code",
      "metadata": {
        "deletable": true,
        "editable": true,
        "id": "6lnA30CarQxE"
      },
      "source": [
        "from keras.layers import Dense, Input, Flatten\n",
        "from keras.layers import GlobalAveragePooling1D, Embedding\n",
        "from keras.models import Model\n",
        "\n",
        "EMBEDDING_DIM = 50\n",
        "N_CLASSES = 2\n",
        "\n",
        "# input: a sequence of MAX_SEQUENCE_LENGTH integers\n",
        "sequence_input = Input(shape=(MAX_SEQUENCE_LENGTH,), dtype='int32')\n",
        "\n",
        "embedded_sequences = Embedding(MAX_NB_WORDS, EMBEDDING_DIM,\n",
        "                            input_length=MAX_SEQUENCE_LENGTH,\n",
        "                            trainable=True)(sequence_input)\n",
        "\n",
        "average = GlobalAveragePooling1D()(embedded_sequences)\n",
        "predictions = Dense(N_CLASSES, activation='softmax')(average)\n",
        "\n",
        "model = Model(sequence_input, predictions)\n",
        "model.compile(loss='categorical_crossentropy',\n",
        "              optimizer='adam', metrics=['acc'])"
      ],
      "execution_count": 21,
      "outputs": []
    },
    {
      "cell_type": "code",
      "metadata": {
        "deletable": true,
        "editable": true,
        "id": "59y4Uv5UrQxP",
        "colab": {
          "base_uri": "https://localhost:8080/"
        },
        "outputId": "682e4e18-e8e2-4f13-bd40-ce3c169f808b"
      },
      "source": [
        "history=model.fit(x_train, y_train, validation_split=0.1,\n",
        "          epochs=10, batch_size=128, verbose=2)"
      ],
      "execution_count": 22,
      "outputs": [
        {
          "output_type": "stream",
          "name": "stdout",
          "text": [
            "Epoch 1/10\n",
            "53/53 - 13s - loss: 0.6490 - acc: 0.7042 - val_loss: 0.5584 - val_acc: 0.7989 - 13s/epoch - 250ms/step\n",
            "Epoch 2/10\n",
            "53/53 - 8s - loss: 0.5852 - acc: 0.7149 - val_loss: 0.5147 - val_acc: 0.7989 - 8s/epoch - 142ms/step\n",
            "Epoch 3/10\n",
            "53/53 - 3s - loss: 0.5533 - acc: 0.7149 - val_loss: 0.5139 - val_acc: 0.7989 - 3s/epoch - 65ms/step\n",
            "Epoch 4/10\n",
            "53/53 - 2s - loss: 0.5219 - acc: 0.7196 - val_loss: 0.5121 - val_acc: 0.8111 - 2s/epoch - 41ms/step\n",
            "Epoch 5/10\n",
            "53/53 - 4s - loss: 0.4889 - acc: 0.7472 - val_loss: 0.5184 - val_acc: 0.8043 - 4s/epoch - 77ms/step\n",
            "Epoch 6/10\n",
            "53/53 - 3s - loss: 0.4518 - acc: 0.7874 - val_loss: 0.4933 - val_acc: 0.8070 - 3s/epoch - 49ms/step\n",
            "Epoch 7/10\n",
            "53/53 - 1s - loss: 0.4129 - acc: 0.8067 - val_loss: 0.5053 - val_acc: 0.7895 - 1s/epoch - 27ms/step\n",
            "Epoch 8/10\n",
            "53/53 - 1s - loss: 0.3720 - acc: 0.8469 - val_loss: 0.5148 - val_acc: 0.7719 - 1s/epoch - 26ms/step\n",
            "Epoch 9/10\n",
            "53/53 - 1s - loss: 0.3331 - acc: 0.8793 - val_loss: 0.5088 - val_acc: 0.7706 - 970ms/epoch - 18ms/step\n",
            "Epoch 10/10\n",
            "53/53 - 1s - loss: 0.2970 - acc: 0.9024 - val_loss: 0.5157 - val_acc: 0.7638 - 783ms/epoch - 15ms/step\n"
          ]
        }
      ]
    },
    {
      "cell_type": "markdown",
      "metadata": {
        "deletable": true,
        "editable": true,
        "id": "PG7mBeqJrQxV"
      },
      "source": [
        "**Exercice**\n",
        " - compute model evaluation on test set"
      ]
    },
    {
      "cell_type": "code",
      "metadata": {
        "deletable": true,
        "editable": true,
        "id": "K-MqP7zSrQxW",
        "colab": {
          "base_uri": "https://localhost:8080/"
        },
        "outputId": "22e2ed8a-0315-407a-b41a-d63fc96067c7"
      },
      "source": [
        "output_test = model.predict(x_test)\n",
        "test_casses = np.argmax(output_test, axis=-1)\n",
        "from sklearn.metrics import accuracy_score, precision_score, recall_score, f1_score\n",
        "\n",
        "print(\"test accuracy:\", accuracy_score(test_casses,y_test))\n",
        "print(\"test precision:\", precision_score(test_casses,y_test,average='macro'))\n",
        "print(\"test recall:\", recall_score(test_casses,y_test,average='macro'))\n",
        "print(\"test F1:\", f1_score(test_casses,y_test,average='macro'))"
      ],
      "execution_count": 23,
      "outputs": [
        {
          "output_type": "stream",
          "name": "stdout",
          "text": [
            "63/63 [==============================] - 0s 1ms/step\n",
            "test accuracy: 0.839\n",
            "test precision: 0.624158759929391\n",
            "test recall: 0.7243570574162679\n",
            "test F1: 0.6487047898338221\n"
          ]
        }
      ]
    },
    {
      "cell_type": "markdown",
      "metadata": {
        "deletable": true,
        "editable": true,
        "id": "ecciDY9arQxe"
      },
      "source": [
        "### Building more complex models\n",
        "\n",
        "**Exercise**\n",
        "- From the previous template, build more complex models using:\n",
        "  - 1d convolution and 1d maxpooling. Note that you will still need a GloabalAveragePooling or Flatten after the convolutions\n",
        "  - Recurrent neural networks through LSTM (you will need to reduce sequence length before)\n",
        "  \n",
        "  \n",
        "<img src=\"https://m2dsupsdlclass.github.io/lectures-labs/slides/06_deep_nlp/images/unrolled_rnn_one_output_2.svg\" style=\"width: 600px;\" />\n",
        "\n",
        "**Bonus**\n",
        "- You may try different architectures with:\n",
        "  - more intermediate layers, combination of dense, conv, recurrent\n",
        "  - different recurrent (GRU, RNN)\n",
        "  - bidirectional LSTMs\n",
        "\n",
        "Note: The goal is to build working models rather than getting better test accuracy. To achieve much better results, we'd need more computation time and data quantity. Build your model, and verify that they converge to OK results."
      ]
    },
    {
      "cell_type": "code",
      "metadata": {
        "id": "8XXisPg6ND8Y"
      },
      "source": [
        "# solutions lstm.py\n",
        "from keras.layers import LSTM, Conv1D, MaxPooling1D, Embedding, Flatten, Dense, Dropout\n",
        "EMBEDDING_DIM = 300"
      ],
      "execution_count": 24,
      "outputs": []
    },
    {
      "cell_type": "code",
      "metadata": {
        "deletable": true,
        "editable": true,
        "id": "YuumzzWZrQxf"
      },
      "source": [
        "# input: a sequence of MAX_SEQUENCE_LENGTH integers\n",
        "sequence_input = Input(shape=(MAX_SEQUENCE_LENGTH,), dtype='int32')\n",
        "embedded_sequences = Embedding(MAX_NB_WORDS, EMBEDDING_DIM,\n",
        "                            input_length=MAX_SEQUENCE_LENGTH,\n",
        "                            trainable=True) (sequence_input)\n",
        "\n",
        "# LSTM layer with a hidden size of 64\n",
        "x = LSTM(64,dropout=0.2)(embedded_sequences)\n",
        "x = Dense(30) (x)\n",
        "predictions = Dense(2, activation='softmax')(x)\n",
        "\n",
        "model = Model(sequence_input, predictions)\n",
        "model.compile(loss='categorical_crossentropy',\n",
        "              optimizer='adam',\n",
        "              metrics=['acc'])\n",
        "\n",
        "# You will get large speedups with these models by using a GPU\n",
        "# The model might take a lot of time to converge, and even more\n",
        "# if you add dropout (needed to prevent overfitting)\n"
      ],
      "execution_count": 25,
      "outputs": []
    },
    {
      "cell_type": "code",
      "metadata": {
        "colab": {
          "base_uri": "https://localhost:8080/"
        },
        "id": "FdrNvZ5D8ojO",
        "outputId": "bb820942-696b-4974-b7ad-eb515cfc13e5"
      },
      "source": [
        "model.summary()"
      ],
      "execution_count": 26,
      "outputs": [
        {
          "output_type": "stream",
          "name": "stdout",
          "text": [
            "Model: \"model_1\"\n",
            "_________________________________________________________________\n",
            " Layer (type)                Output Shape              Param #   \n",
            "=================================================================\n",
            " input_2 (InputLayer)        [(None, 25)]              0         \n",
            "                                                                 \n",
            " embedding_1 (Embedding)     (None, 25, 300)           6000000   \n",
            "                                                                 \n",
            " lstm (LSTM)                 (None, 64)                93440     \n",
            "                                                                 \n",
            " dense_1 (Dense)             (None, 30)                1950      \n",
            "                                                                 \n",
            " dense_2 (Dense)             (None, 2)                 62        \n",
            "                                                                 \n",
            "=================================================================\n",
            "Total params: 6,095,452\n",
            "Trainable params: 6,095,452\n",
            "Non-trainable params: 0\n",
            "_________________________________________________________________\n"
          ]
        }
      ]
    },
    {
      "cell_type": "code",
      "metadata": {
        "colab": {
          "base_uri": "https://localhost:8080/"
        },
        "id": "9Jtm2uIB30v0",
        "outputId": "ef5b7fb7-c857-4996-fa8c-e49d97dcebc7"
      },
      "source": [
        "model.fit(x_train,y_train,epochs=4, validation_split=0.1,\n",
        "          batch_size=128)"
      ],
      "execution_count": 27,
      "outputs": [
        {
          "output_type": "stream",
          "name": "stdout",
          "text": [
            "Epoch 1/4\n",
            "53/53 [==============================] - 20s 265ms/step - loss: 0.6034 - acc: 0.7155 - val_loss: 0.5242 - val_acc: 0.7800\n",
            "Epoch 2/4\n",
            "53/53 [==============================] - 8s 149ms/step - loss: 0.4457 - acc: 0.7995 - val_loss: 0.5296 - val_acc: 0.7530\n",
            "Epoch 3/4\n",
            "53/53 [==============================] - 4s 81ms/step - loss: 0.1798 - acc: 0.9355 - val_loss: 0.6185 - val_acc: 0.7625\n",
            "Epoch 4/4\n",
            "53/53 [==============================] - 4s 76ms/step - loss: 0.0627 - acc: 0.9777 - val_loss: 0.8818 - val_acc: 0.7085\n"
          ]
        },
        {
          "output_type": "execute_result",
          "data": {
            "text/plain": [
              "<keras.callbacks.History at 0x7fef64fdec20>"
            ]
          },
          "metadata": {},
          "execution_count": 27
        }
      ]
    },
    {
      "cell_type": "code",
      "metadata": {
        "colab": {
          "base_uri": "https://localhost:8080/"
        },
        "id": "IkBlX7d-3y-p",
        "outputId": "7d15f3fc-2735-43b0-ce57-873eeabe5980"
      },
      "source": [
        "output_test = model.predict(x_test)\n",
        "test_casses = np.argmax(output_test, axis=-1)\n",
        "\n",
        "print(\"test accuracy:\", accuracy_score(test_casses,y_test))\n",
        "print(\"test precision:\", precision_score(test_casses,y_test,average='macro'))\n",
        "print(\"test recall:\", recall_score(test_casses,y_test,average='macro'))\n",
        "print(\"test F1:\", f1_score(test_casses,y_test,average='macro'))\n"
      ],
      "execution_count": 28,
      "outputs": [
        {
          "output_type": "stream",
          "name": "stdout",
          "text": [
            "63/63 [==============================] - 0s 2ms/step\n",
            "test accuracy: 0.7375\n",
            "test precision: 0.6195388349514563\n",
            "test recall: 0.5949087032036341\n",
            "test F1: 0.6019879375810949\n"
          ]
        }
      ]
    },
    {
      "cell_type": "code",
      "metadata": {
        "deletable": true,
        "editable": true,
        "id": "ewXMxJv5rQxh"
      },
      "source": [
        "# %load solutions/conv1d.py\n",
        "from keras.layers import Conv1D, MaxPooling1D, Flatten\n",
        "\n",
        "sequence_input = Input(shape=(MAX_SEQUENCE_LENGTH,), dtype='int32')\n",
        "embedded_sequences = Embedding(MAX_NB_WORDS, EMBEDDING_DIM,\n",
        "                            input_length=MAX_SEQUENCE_LENGTH,\n",
        "                            trainable=True) (sequence_input)\n",
        "\n",
        "# A 1D convolution with 128 output channels\n",
        "x = Conv1D(128, 2, activation='relu')(embedded_sequences)\n",
        "# MaxPool divides the length of the sequence by 5\n",
        "x = MaxPooling1D(2)(x)\n",
        "# A 1D convolution with 64 output channels\n",
        "x = Conv1D(64, 2, activation='relu')(x)\n",
        "# MaxPool divides the length of the sequence by 5\n",
        "x = MaxPooling1D(2)(x)\n",
        "x = Flatten()(x)\n",
        "\n",
        "predictions = Dense(2, activation='softmax')(x)\n",
        "\n",
        "model = Model(sequence_input, predictions)\n",
        "model.compile(loss='categorical_crossentropy',\n",
        "              optimizer='adam',\n",
        "              metrics=['acc'])\n"
      ],
      "execution_count": 29,
      "outputs": []
    },
    {
      "cell_type": "code",
      "metadata": {
        "colab": {
          "base_uri": "https://localhost:8080/"
        },
        "id": "QDTEH4J099qy",
        "outputId": "9a4592cd-2464-4472-8867-449afd6cbd9e"
      },
      "source": [
        "model.summary()"
      ],
      "execution_count": 30,
      "outputs": [
        {
          "output_type": "stream",
          "name": "stdout",
          "text": [
            "Model: \"model_2\"\n",
            "_________________________________________________________________\n",
            " Layer (type)                Output Shape              Param #   \n",
            "=================================================================\n",
            " input_3 (InputLayer)        [(None, 25)]              0         \n",
            "                                                                 \n",
            " embedding_2 (Embedding)     (None, 25, 300)           6000000   \n",
            "                                                                 \n",
            " conv1d (Conv1D)             (None, 24, 128)           76928     \n",
            "                                                                 \n",
            " max_pooling1d (MaxPooling1D  (None, 12, 128)          0         \n",
            " )                                                               \n",
            "                                                                 \n",
            " conv1d_1 (Conv1D)           (None, 11, 64)            16448     \n",
            "                                                                 \n",
            " max_pooling1d_1 (MaxPooling  (None, 5, 64)            0         \n",
            " 1D)                                                             \n",
            "                                                                 \n",
            " flatten (Flatten)           (None, 320)               0         \n",
            "                                                                 \n",
            " dense_3 (Dense)             (None, 2)                 642       \n",
            "                                                                 \n",
            "=================================================================\n",
            "Total params: 6,094,018\n",
            "Trainable params: 6,094,018\n",
            "Non-trainable params: 0\n",
            "_________________________________________________________________\n"
          ]
        }
      ]
    },
    {
      "cell_type": "code",
      "metadata": {
        "colab": {
          "base_uri": "https://localhost:8080/"
        },
        "id": "3GicNxZ65Vj_",
        "outputId": "4df0eb5a-1089-43e6-a47f-8ce6ec57b487"
      },
      "source": [
        "model.fit(x_train,y_train,epochs=4, validation_split=0.1,\n",
        "          batch_size=128)"
      ],
      "execution_count": 32,
      "outputs": [
        {
          "output_type": "stream",
          "name": "stdout",
          "text": [
            "Epoch 1/4\n",
            "53/53 [==============================] - 12s 161ms/step - loss: 0.5917 - acc: 0.7093 - val_loss: 0.5302 - val_acc: 0.7989\n",
            "Epoch 2/4\n",
            "53/53 [==============================] - 6s 111ms/step - loss: 0.4531 - acc: 0.7761 - val_loss: 0.5167 - val_acc: 0.7449\n",
            "Epoch 3/4\n",
            "53/53 [==============================] - 4s 86ms/step - loss: 0.1477 - acc: 0.9523 - val_loss: 0.6990 - val_acc: 0.6748\n",
            "Epoch 4/4\n",
            "53/53 [==============================] - 3s 50ms/step - loss: 0.0217 - acc: 0.9963 - val_loss: 0.7202 - val_acc: 0.7139\n"
          ]
        },
        {
          "output_type": "execute_result",
          "data": {
            "text/plain": [
              "<keras.callbacks.History at 0x7fef79e17280>"
            ]
          },
          "metadata": {},
          "execution_count": 32
        }
      ]
    },
    {
      "cell_type": "code",
      "metadata": {
        "colab": {
          "base_uri": "https://localhost:8080/"
        },
        "id": "YiNX-sUr5WJb",
        "outputId": "1dc64fa6-acca-4a63-ca3c-725c313ed610"
      },
      "source": [
        "output_test = model.predict(x_test)\n",
        "test_casses = np.argmax(output_test, axis=-1)\n",
        "\n",
        "print(\"test accuracy:\", accuracy_score(test_casses,y_test))\n",
        "print(\"test precision:\", precision_score(test_casses,y_test,average='macro'))\n",
        "print(\"test recall:\", recall_score(test_casses,y_test,average='macro'))\n",
        "print(\"test F1:\", f1_score(test_casses,y_test,average='macro'))"
      ],
      "execution_count": 31,
      "outputs": [
        {
          "output_type": "stream",
          "name": "stdout",
          "text": [
            "63/63 [==============================] - 4s 2ms/step\n",
            "test accuracy: 0.4715\n",
            "test precision: 0.5117497793468667\n",
            "test recall: 0.5068979545985858\n",
            "test F1: 0.4301086486808525\n"
          ]
        }
      ]
    },
    {
      "cell_type": "code",
      "metadata": {
        "id": "M2mbEd2MMyde"
      },
      "source": [
        "from keras.layers import LSTM, Conv1D, MaxPooling1D\n",
        "\n",
        "# input: a sequence of MAX_SEQUENCE_LENGTH integers\n",
        "sequence_input = Input(shape=(MAX_SEQUENCE_LENGTH,), dtype='int32')\n",
        "embedded_sequences = Embedding(MAX_NB_WORDS, EMBEDDING_DIM,\n",
        "                            input_length=MAX_SEQUENCE_LENGTH,\n",
        "                            trainable=True) (sequence_input)\n",
        "\n",
        "# 1D convolution with 64 output channels\n",
        "x = Conv1D(128, 2)(embedded_sequences)\n",
        "# MaxPool divides the length of the sequence by 5\n",
        "x = MaxPooling1D(2)(x)\n",
        "# LSTM layer with a hidden size of 64\n",
        "x = LSTM(64)(x)\n",
        "x = Dense(30) (x)\n",
        "predictions = Dense(2, activation='softmax')(x)\n",
        "\n",
        "model = Model(sequence_input, predictions)\n",
        "model.compile(loss='categorical_crossentropy',\n",
        "              optimizer='adam',\n",
        "              metrics=['acc'])\n"
      ],
      "execution_count": 33,
      "outputs": []
    },
    {
      "cell_type": "code",
      "metadata": {
        "colab": {
          "base_uri": "https://localhost:8080/"
        },
        "id": "vuEZxr2M-NX5",
        "outputId": "6f645d38-1105-424b-9547-7e9bb36b450f"
      },
      "source": [
        "model.summary()"
      ],
      "execution_count": 34,
      "outputs": [
        {
          "output_type": "stream",
          "name": "stdout",
          "text": [
            "Model: \"model_3\"\n",
            "_________________________________________________________________\n",
            " Layer (type)                Output Shape              Param #   \n",
            "=================================================================\n",
            " input_4 (InputLayer)        [(None, 25)]              0         \n",
            "                                                                 \n",
            " embedding_3 (Embedding)     (None, 25, 300)           6000000   \n",
            "                                                                 \n",
            " conv1d_2 (Conv1D)           (None, 24, 128)           76928     \n",
            "                                                                 \n",
            " max_pooling1d_2 (MaxPooling  (None, 12, 128)          0         \n",
            " 1D)                                                             \n",
            "                                                                 \n",
            " lstm_1 (LSTM)               (None, 64)                49408     \n",
            "                                                                 \n",
            " dense_4 (Dense)             (None, 30)                1950      \n",
            "                                                                 \n",
            " dense_5 (Dense)             (None, 2)                 62        \n",
            "                                                                 \n",
            "=================================================================\n",
            "Total params: 6,128,348\n",
            "Trainable params: 6,128,348\n",
            "Non-trainable params: 0\n",
            "_________________________________________________________________\n"
          ]
        }
      ]
    },
    {
      "cell_type": "code",
      "metadata": {
        "deletable": true,
        "editable": true,
        "id": "d_DgldjvrQxk",
        "colab": {
          "base_uri": "https://localhost:8080/"
        },
        "outputId": "0ed1e5fa-7ea4-4e43-ba88-0f77c15679d4"
      },
      "source": [
        "model.fit(x_train, y_train, validation_split=0.1,\n",
        "          epochs=5, batch_size=128)"
      ],
      "execution_count": 35,
      "outputs": [
        {
          "output_type": "stream",
          "name": "stdout",
          "text": [
            "Epoch 1/5\n",
            "53/53 [==============================] - 12s 172ms/step - loss: 0.5876 - acc: 0.7178 - val_loss: 0.5307 - val_acc: 0.7584\n",
            "Epoch 2/5\n",
            "53/53 [==============================] - 10s 181ms/step - loss: 0.3486 - acc: 0.8514 - val_loss: 0.5857 - val_acc: 0.6937\n",
            "Epoch 3/5\n",
            "53/53 [==============================] - 3s 52ms/step - loss: 0.0922 - acc: 0.9706 - val_loss: 1.0027 - val_acc: 0.6559\n",
            "Epoch 4/5\n",
            "53/53 [==============================] - 2s 43ms/step - loss: 0.0300 - acc: 0.9898 - val_loss: 0.9602 - val_acc: 0.7233\n",
            "Epoch 5/5\n",
            "53/53 [==============================] - 3s 53ms/step - loss: 0.0101 - acc: 0.9969 - val_loss: 1.2251 - val_acc: 0.7247\n"
          ]
        },
        {
          "output_type": "execute_result",
          "data": {
            "text/plain": [
              "<keras.callbacks.History at 0x7fef814c2980>"
            ]
          },
          "metadata": {},
          "execution_count": 35
        }
      ]
    },
    {
      "cell_type": "code",
      "metadata": {
        "deletable": true,
        "editable": true,
        "id": "Nu2QveWRtQNb",
        "colab": {
          "base_uri": "https://localhost:8080/"
        },
        "outputId": "1f7ffd72-850e-4624-fdca-f1a437ee0d2d"
      },
      "source": [
        "output_test = model.predict(x_test)\n",
        "test_casses = np.argmax(output_test, axis=-1)\n",
        "\n",
        "print(\"test accuracy:\", accuracy_score(test_casses,y_test))\n",
        "print(\"test precision:\", precision_score(test_casses,y_test,average='macro'))\n",
        "print(\"test recall:\", recall_score(test_casses,y_test,average='macro'))\n",
        "print(\"test F1:\", f1_score(test_casses,y_test,average='macro'))\n"
      ],
      "execution_count": 36,
      "outputs": [
        {
          "output_type": "stream",
          "name": "stdout",
          "text": [
            "63/63 [==============================] - 1s 3ms/step\n",
            "test accuracy: 0.747\n",
            "test precision: 0.6230692850838482\n",
            "test recall: 0.6010880215678611\n",
            "test F1: 0.6083439761600681\n"
          ]
        }
      ]
    },
    {
      "cell_type": "code",
      "metadata": {
        "id": "lqO2CMeywZyo",
        "colab": {
          "base_uri": "https://localhost:8080/"
        },
        "outputId": "8695fb6b-192e-44e5-e27e-a8fea4b40935"
      },
      "source": [
        "from sklearn.metrics import confusion_matrix\n",
        "confusion_matrix= confusion_matrix(test_casses, y_test)\n",
        "print(confusion_matrix)\n"
      ],
      "execution_count": 37,
      "outputs": [
        {
          "output_type": "stream",
          "name": "stdout",
          "text": [
            "[[1342  200]\n",
            " [ 306  152]]\n"
          ]
        }
      ]
    },
    {
      "cell_type": "code",
      "metadata": {
        "id": "gKCXV0Fs1Iwv",
        "colab": {
          "base_uri": "https://localhost:8080/"
        },
        "outputId": "66109a8a-0ab5-4d1e-aafb-10f1f4d2e103"
      },
      "source": [
        "from sklearn.metrics import classification_report\n",
        "print(classification_report(test_casses, y_test))"
      ],
      "execution_count": 38,
      "outputs": [
        {
          "output_type": "stream",
          "name": "stdout",
          "text": [
            "              precision    recall  f1-score   support\n",
            "\n",
            "           0       0.81      0.87      0.84      1542\n",
            "           1       0.43      0.33      0.38       458\n",
            "\n",
            "    accuracy                           0.75      2000\n",
            "   macro avg       0.62      0.60      0.61      2000\n",
            "weighted avg       0.73      0.75      0.73      2000\n",
            "\n"
          ]
        }
      ]
    },
    {
      "cell_type": "markdown",
      "metadata": {
        "deletable": true,
        "editable": true,
        "id": "Yg5PujZArQxp"
      },
      "source": [
        "### Loading pre-trained embeddings\n",
        "\n"
      ]
    },
    {
      "cell_type": "code",
      "metadata": {
        "id": "HDwTwcG3QZiK",
        "colab": {
          "base_uri": "https://localhost:8080/"
        },
        "outputId": "0849a53f-e5fe-49cf-f36e-fbec51b13194"
      },
      "source": [
        "import os.path as op\n",
        "import gzip\n",
        "import shutil\n",
        "from urllib.request import urlretrieve\n",
        "# Get pretrained FastText Embeddings\n",
        "URL_REPRESENTATIONS = \"https://dl.fbaipublicfiles.com/fasttext/vectors-crawl/cc.it.300.vec.gz\"\n",
        "ZIP_REPRESENTATIONS = \"cc.it.300.vec.gz\"\n",
        "FILE_REPRESENTATIONS = \"cc.it.300.vec\"\n",
        "\n",
        "if not op.exists(ZIP_REPRESENTATIONS):\n",
        "    print('Downloading from %s to %s...' % (URL_REPRESENTATIONS, ZIP_REPRESENTATIONS))\n",
        "    urlretrieve(URL_REPRESENTATIONS, './' + ZIP_REPRESENTATIONS)\n",
        "    \n",
        "with gzip.open(ZIP_REPRESENTATIONS, 'rb') as f_in:\n",
        "    with open(FILE_REPRESENTATIONS, 'wb') as f_out:\n",
        "        shutil.copyfileobj(f_in, f_out)"
      ],
      "execution_count": 39,
      "outputs": [
        {
          "output_type": "stream",
          "name": "stdout",
          "text": [
            "Downloading from https://dl.fbaipublicfiles.com/fasttext/vectors-crawl/cc.it.300.vec.gz to cc.it.300.vec.gz...\n"
          ]
        }
      ]
    },
    {
      "cell_type": "code",
      "metadata": {
        "deletable": true,
        "editable": true,
        "id": "s2ruhdN7rQxp",
        "colab": {
          "base_uri": "https://localhost:8080/"
        },
        "outputId": "59185846-f5b6-45fc-8364-f265409f03b7"
      },
      "source": [
        "embeddings_index = {}\n",
        "embeddings_vectors = []\n",
        "f = open('cc.it.300.vec', 'rb')\n",
        "\n",
        "word_idx = 0\n",
        "i = 0\n",
        "for line in f:\n",
        "    if i != 0:\n",
        "      values = line.decode('utf-8').split()\n",
        "      word = values[0]\n",
        "      vector = np.asarray(values[1:], dtype='float32')\n",
        "      embeddings_index[word] = word_idx\n",
        "      embeddings_vectors.append(vector)\n",
        "      word_idx = word_idx + 1\n",
        "    i = i+1\n",
        "f.close()\n",
        "\n",
        "inv_index = {v: k for k, v in embeddings_index.items()}\n",
        "print(\"found %d different words in the file\" % word_idx)"
      ],
      "execution_count": 40,
      "outputs": [
        {
          "output_type": "stream",
          "name": "stdout",
          "text": [
            "found 2000000 different words in the file\n"
          ]
        }
      ]
    },
    {
      "cell_type": "code",
      "metadata": {
        "deletable": true,
        "editable": true,
        "id": "155s4vaVrQxt",
        "colab": {
          "base_uri": "https://localhost:8080/"
        },
        "outputId": "2022fbb8-c9c4-46ec-9dcd-a6c95d9b0e56"
      },
      "source": [
        "# Stack all embeddings in a large numpy array\n",
        "embeddings = np.vstack(embeddings_vectors)\n",
        "\n",
        "print(embeddings.shape)"
      ],
      "execution_count": 41,
      "outputs": [
        {
          "output_type": "stream",
          "name": "stdout",
          "text": [
            "(2000000, 300)\n"
          ]
        }
      ]
    },
    {
      "cell_type": "code",
      "metadata": {
        "deletable": true,
        "editable": true,
        "id": "GL_Hxg5RrQxv"
      },
      "source": [
        "def get_emb(word):\n",
        "    idx = embeddings_index.get(word)\n",
        "    if idx is None:\n",
        "        return None\n",
        "    else:\n",
        "        return embeddings[idx]"
      ],
      "execution_count": 42,
      "outputs": []
    },
    {
      "cell_type": "code",
      "metadata": {
        "deletable": true,
        "editable": true,
        "id": "TqiENnsQrQx7",
        "colab": {
          "base_uri": "https://localhost:8080/"
        },
        "outputId": "41aa76b6-e380-46ba-82aa-2055de884b5b"
      },
      "source": [
        "get_emb(\"ci\")"
      ],
      "execution_count": 43,
      "outputs": [
        {
          "output_type": "execute_result",
          "data": {
            "text/plain": [
              "array([ 8.8300e-02, -5.6700e-02, -4.2840e-01, -8.7800e-02,  1.9370e-01,\n",
              "       -1.3990e-01, -5.3600e-02, -1.0140e-01,  3.3660e-01,  2.8670e-01,\n",
              "        1.0720e-01,  6.0500e-02,  4.0150e-01,  1.0830e-01,  6.1400e-02,\n",
              "        2.3900e-02,  9.8700e-02, -2.3500e-02, -3.1700e-02,  3.4000e-03,\n",
              "        1.3490e-01, -2.3930e-01, -1.1300e-02, -5.7200e-02,  1.2720e-01,\n",
              "       -6.2200e-02,  1.6000e-02,  8.6800e-02,  1.2330e-01,  2.2320e-01,\n",
              "        3.2500e-02, -6.3400e-02, -9.6000e-02, -5.5000e-03, -7.1200e-02,\n",
              "        3.0200e-02, -1.8740e-01, -3.7200e-02, -1.9600e-02,  9.5100e-02,\n",
              "        1.2500e-02,  1.1000e-02,  1.7210e-01, -1.6990e-01, -1.2660e-01,\n",
              "        6.0000e-02,  1.9790e-01,  9.4300e-02, -1.8730e-01,  1.2780e-01,\n",
              "       -7.6600e-02,  8.3000e-02,  5.2000e-03,  1.5920e-01,  3.4600e-02,\n",
              "       -1.7000e-01, -2.3270e-01,  1.3280e-01, -2.0480e-01, -7.5900e-02,\n",
              "        1.7250e-01,  1.8630e-01,  1.6310e-01, -4.7000e-02, -1.4840e-01,\n",
              "        2.4350e-01, -2.1800e-02,  2.1400e-02,  1.6900e-01, -4.4400e-02,\n",
              "        1.4590e-01, -1.0110e-01,  1.0380e-01,  4.6000e-03, -1.9600e-02,\n",
              "       -2.3900e-01, -2.7970e-01, -2.6870e-01,  5.3200e-02,  5.4400e-02,\n",
              "        1.6160e-01, -2.7460e-01, -2.8420e-01,  2.2940e-01, -4.7670e-01,\n",
              "        1.7370e-01, -2.0830e-01, -1.0540e-01,  1.7000e-01, -2.2890e-01,\n",
              "        1.7450e-01,  1.8360e-01,  1.2770e-01,  8.0400e-02, -1.0275e+00,\n",
              "       -2.0600e-02,  1.6790e-01,  6.3300e-02,  5.5590e-01, -1.4840e-01,\n",
              "        1.5130e-01, -4.4100e-02, -1.5600e-01,  1.1600e-01, -1.0580e-01,\n",
              "        3.8820e-01, -2.5400e-02,  1.7190e-01,  1.2420e-01, -1.9710e-01,\n",
              "        1.2310e-01,  4.3120e-01,  5.6270e-01,  1.5560e-01, -3.9800e-02,\n",
              "        2.2300e-02,  1.3850e-01,  1.6500e-01,  9.8500e-02,  7.9800e-02,\n",
              "        1.5620e-01, -4.1000e-02, -7.7700e-02, -9.7400e-02,  8.6000e-03,\n",
              "        1.9650e-01, -3.4920e-01,  7.5200e-02,  8.2200e-02,  9.1700e-01,\n",
              "       -1.6400e-02,  1.9550e-01, -2.8700e-02,  6.3200e-02,  5.3900e-02,\n",
              "       -1.0660e-01,  1.0860e-01,  2.2400e-02,  3.4960e-01,  7.7800e-02,\n",
              "        2.0510e-01, -1.2780e-01, -4.1000e-02,  6.0400e-02,  1.1750e-01,\n",
              "       -8.5400e-02,  8.3500e-02, -2.2240e-01, -6.3600e-02, -4.3000e-03,\n",
              "        1.0000e-01, -7.5600e-02, -1.0790e-01,  3.1750e-01, -1.3190e-01,\n",
              "        1.4870e-01,  2.5630e-01,  1.5440e-01,  1.4210e-01, -1.4050e-01,\n",
              "        1.4100e-02, -3.9100e-02, -6.2400e-02, -2.8500e-02,  1.7000e-02,\n",
              "       -2.0100e-02, -1.8740e-01,  2.0400e-01,  5.1900e-02,  2.1800e-02,\n",
              "       -3.3790e-01,  9.3800e-02,  2.2610e-01,  9.6100e-02, -5.8700e-02,\n",
              "       -6.7000e-03,  8.3700e-02,  2.2230e-01, -8.8900e-02,  1.4270e-01,\n",
              "       -1.9270e-01,  1.4190e-01,  6.0000e-04, -8.0700e-02, -1.3010e-01,\n",
              "       -3.1900e-02, -1.6600e-02, -4.2000e-03,  2.8820e-01, -1.5900e-02,\n",
              "        8.0600e-02, -7.1000e-03, -5.8100e-02,  1.8390e-01, -8.3200e-02,\n",
              "       -9.9100e-02,  7.5800e-02,  2.3270e-01, -5.9510e-01,  3.3000e-03,\n",
              "       -2.3460e-01, -2.8210e-01, -8.1000e-02, -2.5550e-01, -2.6800e-02,\n",
              "        9.3000e-02, -3.5620e-01,  1.1610e-01, -1.8400e-02, -5.0930e-01,\n",
              "       -1.6300e-01,  8.3700e-02,  2.1070e-01, -2.0350e-01,  2.9800e-02,\n",
              "        1.4930e-01, -1.0660e-01,  8.8800e-02,  3.3080e-01,  3.5600e-02,\n",
              "       -9.0000e-03,  2.3560e-01, -9.7600e-02,  7.1000e-03,  2.0650e-01,\n",
              "        1.9110e-01, -1.3100e-01,  4.1020e-01,  5.9200e-02,  2.8500e-02,\n",
              "       -1.1440e-01,  1.0540e-01, -1.0640e-01,  3.2600e-02, -1.7060e-01,\n",
              "       -2.0700e-02, -8.9700e-02,  3.7000e-03, -9.2500e-02, -1.4250e-01,\n",
              "       -1.9080e-01, -6.4000e-03, -3.2350e-01,  2.3570e-01, -4.4700e-02,\n",
              "       -8.2200e-02,  1.9360e-01, -1.9710e-01,  1.8440e-01,  5.0090e-01,\n",
              "       -2.2530e-01,  7.7300e-02, -4.2800e-02, -6.2200e-02, -9.4700e-02,\n",
              "       -3.4200e-02, -1.4450e-01,  1.8900e-01, -4.7620e-01, -3.3300e-02,\n",
              "       -5.1100e-02,  1.3050e-01, -1.3470e-01, -2.1500e-02,  1.9070e-01,\n",
              "        2.5120e-01,  1.1200e-02, -9.4300e-02,  1.4210e-01, -5.9100e-02,\n",
              "        2.6630e-01,  7.4100e-02,  1.3140e-01,  1.7600e-02,  7.7500e-02,\n",
              "       -1.0110e-01, -2.9340e-01, -9.0600e-02,  2.8300e-01,  4.2600e-02,\n",
              "       -2.1840e-01,  1.2450e-01,  1.0410e-01,  1.0400e-01,  1.4720e-01,\n",
              "        4.8400e-02,  4.3300e-02, -2.8700e-02,  5.3000e-02, -4.6800e-02,\n",
              "       -7.0700e-02,  1.3960e-01, -1.5540e-01, -3.1100e-02, -9.9000e-02,\n",
              "       -5.6700e-02,  1.2660e-01,  1.1140e-01, -8.5400e-02, -2.3900e-02],\n",
              "      dtype=float32)"
            ]
          },
          "metadata": {},
          "execution_count": 43
        }
      ]
    },
    {
      "cell_type": "markdown",
      "metadata": {
        "deletable": true,
        "editable": true,
        "id": "LrhTtGiLrQx-"
      },
      "source": [
        "### Finding most similar words\n",
        "\n",
        "**Exercice**\n",
        "\n",
        "Build a function to find most similar words, given a word as query:\n",
        "- lookup the vector for the query word in the Glove index;\n",
        "- compute the cosine similarity between a word embedding and all other words;\n",
        "- display the top 10 most similar words.\n",
        "\n",
        "**Bonus**\n",
        "\n",
        "Change your function so that it takes multiple words as input (by averaging them)"
      ]
    },
    {
      "cell_type": "code",
      "metadata": {
        "deletable": true,
        "editable": true,
        "id": "-9dWPg2jrQx_"
      },
      "source": [
        "# %load solutions/most_similar.py\n",
        "def most_similar(words, topn=10):\n",
        "    query_emb = 0\n",
        "    # If we have a list of words instead of one word\n",
        "    # (bonus question)\n",
        "    if type(words) == list:\n",
        "        for word in words:\n",
        "            query_emb += get_emb(word)       \n",
        "    else:\n",
        "        query_emb = get_emb(words)\n",
        "        \n",
        "    #query_emb = query_emb / np.linalg.norm(query_emb)\n",
        "    \n",
        "    # Large numpy vector with all similarities\n",
        "    # between emb and all other words\n",
        "    similarities = np.dot(embeddings, query_emb)\n",
        "    \n",
        "    # topn most similar indexes \n",
        "    idxs = np.argsort(similarities)[::-1][:topn]\n",
        "    \n",
        "    # pretty return with word and similarity\n",
        "    return [(inv_index[idx], similarities[idx]) for idx in idxs]\n"
      ],
      "execution_count": 44,
      "outputs": []
    },
    {
      "cell_type": "code",
      "metadata": {
        "deletable": true,
        "editable": true,
        "id": "tccMS4JirQyC",
        "colab": {
          "base_uri": "https://localhost:8080/"
        },
        "outputId": "9272d312-930d-4619-cd9e-441a68934283"
      },
      "source": [
        "most_similar(\"cpu\")"
      ],
      "execution_count": 45,
      "outputs": [
        {
          "output_type": "execute_result",
          "data": {
            "text/plain": [
              "[('cpu', 7.150271),\n",
              " ('i7', 6.539628),\n",
              " ('i5', 5.7718916),\n",
              " ('R0', 5.4669394),\n",
              " ('CPU', 5.465336),\n",
              " ('gpu', 5.425723),\n",
              " ('ram', 5.3928967),\n",
              " ('kJ', 5.143676),\n",
              " ('nm', 5.0835543),\n",
              " ('gb', 4.7928314)]"
            ]
          },
          "metadata": {},
          "execution_count": 45
        }
      ]
    },
    {
      "cell_type": "code",
      "metadata": {
        "deletable": true,
        "editable": true,
        "id": "s1XAK3rQrQyE",
        "colab": {
          "base_uri": "https://localhost:8080/"
        },
        "outputId": "322009eb-6f09-4973-92fc-8662cb0775c9"
      },
      "source": [
        "most_similar(\"mela\")"
      ],
      "execution_count": 46,
      "outputs": [
        {
          "output_type": "execute_result",
          "data": {
            "text/plain": [
              "[('mela', 2.3820162),\n",
              " ('uva', 1.885606),\n",
              " ('bt', 1.7568856),\n",
              " ('3g', 1.7126958),\n",
              " ('Tè', 1.7035183),\n",
              " ('mele', 1.5696958),\n",
              " ('pomo', 1.5258517),\n",
              " ('M8', 1.5124705),\n",
              " ('Mela', 1.4639683),\n",
              " ('yi', 1.4282726)]"
            ]
          },
          "metadata": {},
          "execution_count": 46
        }
      ]
    },
    {
      "cell_type": "code",
      "metadata": {
        "deletable": true,
        "editable": true,
        "id": "DcH77x4HrQyI",
        "colab": {
          "base_uri": "https://localhost:8080/"
        },
        "outputId": "1bd40d35-277a-4571-dab2-8b75f059b024"
      },
      "source": [
        "most_similar(\"latte\")"
      ],
      "execution_count": 47,
      "outputs": [
        {
          "output_type": "execute_result",
          "data": {
            "text/plain": [
              "[('ml', 1.614389),\n",
              " ('tè', 1.5165406),\n",
              " ('té', 1.4574687),\n",
              " ('UHT', 1.4431446),\n",
              " ('µg', 1.3956451),\n",
              " ('latte', 1.3748871),\n",
              " ('mL', 1.3286628),\n",
              " ('pH', 1.1744329),\n",
              " ('soia', 1.1358578),\n",
              " ('Bf', 1.1308407)]"
            ]
          },
          "metadata": {},
          "execution_count": 47
        }
      ]
    },
    {
      "cell_type": "markdown",
      "metadata": {
        "deletable": true,
        "editable": true,
        "id": "wPLE9E9ZrQys"
      },
      "source": [
        "### Using pre-trained embeddings in our model\n",
        "\n",
        "We want to use these pre-trained embeddings for transfer learning. This process is rather similar than transfer learning in image recognition: the features learnt on words might help us bootstrap the learning process, and increase performance if we don't have enough training data.\n",
        "- We initialize embedding matrix from the model with embeddings:\n",
        " - take all words from our 20 Newgroup vocabulary (`MAX_NB_WORDS = 20000`), and look up their embedding \n",
        " - place the Glove embedding at the corresponding index in the matrix\n",
        " - if the word is not in the vocabulary, we only place zeros in the matrix\n",
        "- We may fix these embeddings or fine-tune them"
      ]
    },
    {
      "cell_type": "code",
      "metadata": {
        "deletable": true,
        "editable": true,
        "id": "OgMfL-eZrQys",
        "colab": {
          "base_uri": "https://localhost:8080/"
        },
        "outputId": "c741be9b-1a5a-4c77-e5d4-20d70a6d6a35"
      },
      "source": [
        "EMBEDDING_DIM = 300\n",
        "\n",
        "# prepare embedding matrix\n",
        "nb_words_in_matrix = 0\n",
        "nb_words = min(MAX_NB_WORDS, len(word_index))\n",
        "embedding_matrix = np.zeros((nb_words, EMBEDDING_DIM))\n",
        "\n",
        "for word, i in word_index.items():\n",
        "    if i >= MAX_NB_WORDS:\n",
        "        continue\n",
        "    embedding_vector = get_emb(word)\n",
        "    if embedding_vector is not None:\n",
        "        # words not found in embedding index will be all-zeros.\n",
        "        embedding_matrix[i] = embedding_vector\n",
        "        nb_words_in_matrix = nb_words_in_matrix + 1\n",
        "        \n",
        "print(\"added %d words in the embedding matrix\" % nb_words_in_matrix)"
      ],
      "execution_count": 48,
      "outputs": [
        {
          "output_type": "stream",
          "name": "stdout",
          "text": [
            "added 13368 words in the embedding matrix\n"
          ]
        }
      ]
    },
    {
      "cell_type": "code",
      "metadata": {
        "id": "YxHcT5YfajuG",
        "colab": {
          "base_uri": "https://localhost:8080/"
        },
        "outputId": "ccfd089e-e147-486d-d85d-5f5494bf5ef2"
      },
      "source": [
        "print(embedding_matrix.shape)"
      ],
      "execution_count": 49,
      "outputs": [
        {
          "output_type": "stream",
          "name": "stdout",
          "text": [
            "(20000, 300)\n"
          ]
        }
      ]
    },
    {
      "cell_type": "markdown",
      "metadata": {
        "deletable": true,
        "editable": true,
        "id": "V93Ik4QWrQyv"
      },
      "source": [
        "Build a layer with pre-trained embeddings:"
      ]
    },
    {
      "cell_type": "code",
      "metadata": {
        "deletable": true,
        "editable": true,
        "id": "MhZZdW72rQyy"
      },
      "source": [
        "pretrained_embedding_layer = Embedding(\n",
        "    MAX_NB_WORDS, EMBEDDING_DIM,\n",
        "    weights=[embedding_matrix],\n",
        "    input_length=MAX_SEQUENCE_LENGTH\n",
        ")"
      ],
      "execution_count": 50,
      "outputs": []
    },
    {
      "cell_type": "markdown",
      "metadata": {
        "deletable": true,
        "editable": true,
        "id": "8Y7iUkbwrQzE"
      },
      "source": [
        "### A model with pre-trained Embeddings\n",
        "\n",
        "Average word embeddings pre-trained with Glove / Word2Vec usually works suprisingly well. However, when averaging more than `10-15` words, the resulting vector becomes too noisy and classification performance is degraded."
      ]
    },
    {
      "cell_type": "code",
      "metadata": {
        "deletable": true,
        "editable": true,
        "id": "gG9dWAhorQzH"
      },
      "source": [
        "from keras.layers import LSTM, Conv1D, MaxPooling1D, Flatten\n",
        "sequence_input = Input(shape=(MAX_SEQUENCE_LENGTH,), dtype='int32')\n",
        "emb = Embedding(MAX_NB_WORDS, EMBEDDING_DIM,weights=[embedding_matrix],input_length=MAX_SEQUENCE_LENGTH)(sequence_input)\n",
        "\n",
        "rec = LSTM(units=128,return_sequences = True)(emb)\n",
        "flat = Flatten()(rec)\n",
        "dense = Dense(200,activation='sigmoid') (flat)\n",
        "predictions = Dense(N_CLASSES, activation='softmax')(dense)\n",
        "\n",
        "model = Model(sequence_input, predictions)\n",
        "\n",
        "# We don't want to fine-tune embeddings\n",
        "model.layers[1].trainable=False\n",
        "\n",
        "model.compile(loss='categorical_crossentropy',\n",
        "              optimizer='adam', metrics=['acc'])"
      ],
      "execution_count": 51,
      "outputs": []
    },
    {
      "cell_type": "code",
      "metadata": {
        "id": "C_eSJiYdd_q6",
        "colab": {
          "base_uri": "https://localhost:8080/"
        },
        "outputId": "c045c537-a10c-4778-e6ac-aac57b110df2"
      },
      "source": [
        "from keras.utils import plot_model\n",
        "#plot_model(model)\n",
        "model.summary()"
      ],
      "execution_count": 52,
      "outputs": [
        {
          "output_type": "stream",
          "name": "stdout",
          "text": [
            "Model: \"model_4\"\n",
            "_________________________________________________________________\n",
            " Layer (type)                Output Shape              Param #   \n",
            "=================================================================\n",
            " input_5 (InputLayer)        [(None, 25)]              0         \n",
            "                                                                 \n",
            " embedding_5 (Embedding)     (None, 25, 300)           6000000   \n",
            "                                                                 \n",
            " lstm_2 (LSTM)               (None, 25, 128)           219648    \n",
            "                                                                 \n",
            " flatten_1 (Flatten)         (None, 3200)              0         \n",
            "                                                                 \n",
            " dense_6 (Dense)             (None, 200)               640200    \n",
            "                                                                 \n",
            " dense_7 (Dense)             (None, 2)                 402       \n",
            "                                                                 \n",
            "=================================================================\n",
            "Total params: 6,860,250\n",
            "Trainable params: 860,250\n",
            "Non-trainable params: 6,000,000\n",
            "_________________________________________________________________\n"
          ]
        }
      ]
    },
    {
      "cell_type": "code",
      "metadata": {
        "deletable": true,
        "editable": true,
        "id": "lMt5THcJrQza",
        "colab": {
          "base_uri": "https://localhost:8080/"
        },
        "outputId": "da995818-520e-4059-d981-845e6818b22a"
      },
      "source": [
        "model.fit(x_train, y_train, validation_split=0.1,\n",
        "          epochs=10, batch_size=128)\n",
        "\n",
        "# Note, on this type of task, this technique will \n",
        "# degrade results as we train much less parameters\n",
        "# and we average a large number pre-trained embeddings.\n",
        "# You will notice much less overfitting then!\n",
        "# Using convolutions / LSTM will help\n",
        "# It is also advisable to treat seperately pre-trained\n",
        "# embeddings and words out of vocabulary."
      ],
      "execution_count": 53,
      "outputs": [
        {
          "output_type": "stream",
          "name": "stdout",
          "text": [
            "Epoch 1/10\n",
            "53/53 [==============================] - 6s 18ms/step - loss: 0.5824 - acc: 0.7069 - val_loss: 0.5292 - val_acc: 0.7544\n",
            "Epoch 2/10\n",
            "53/53 [==============================] - 0s 7ms/step - loss: 0.5263 - acc: 0.7523 - val_loss: 0.5947 - val_acc: 0.6923\n",
            "Epoch 3/10\n",
            "53/53 [==============================] - 0s 6ms/step - loss: 0.4851 - acc: 0.7751 - val_loss: 0.5060 - val_acc: 0.7638\n",
            "Epoch 4/10\n",
            "53/53 [==============================] - 0s 6ms/step - loss: 0.4632 - acc: 0.7865 - val_loss: 0.4801 - val_acc: 0.7949\n",
            "Epoch 5/10\n",
            "53/53 [==============================] - 0s 6ms/step - loss: 0.4451 - acc: 0.7941 - val_loss: 0.5223 - val_acc: 0.7584\n",
            "Epoch 6/10\n",
            "53/53 [==============================] - 0s 6ms/step - loss: 0.4329 - acc: 0.8003 - val_loss: 0.5790 - val_acc: 0.7274\n",
            "Epoch 7/10\n",
            "53/53 [==============================] - 0s 6ms/step - loss: 0.4186 - acc: 0.8126 - val_loss: 0.5996 - val_acc: 0.7004\n",
            "Epoch 8/10\n",
            "53/53 [==============================] - 0s 6ms/step - loss: 0.3949 - acc: 0.8240 - val_loss: 0.6292 - val_acc: 0.7085\n",
            "Epoch 9/10\n",
            "53/53 [==============================] - 0s 6ms/step - loss: 0.3752 - acc: 0.8340 - val_loss: 0.6190 - val_acc: 0.7045\n",
            "Epoch 10/10\n",
            "53/53 [==============================] - 0s 6ms/step - loss: 0.3602 - acc: 0.8384 - val_loss: 0.6046 - val_acc: 0.7328\n"
          ]
        },
        {
          "output_type": "execute_result",
          "data": {
            "text/plain": [
              "<keras.callbacks.History at 0x7fee19a7ee00>"
            ]
          },
          "metadata": {},
          "execution_count": 53
        }
      ]
    },
    {
      "cell_type": "code",
      "metadata": {
        "id": "0WKZdqUlXHle",
        "colab": {
          "base_uri": "https://localhost:8080/"
        },
        "outputId": "ecb7338b-cf39-4995-a774-f2b1ae6ac0e7"
      },
      "source": [
        "output_test = model.predict(x_test)\n",
        "test_casses = np.argmax(output_test, axis=-1)\n",
        "\n",
        "print(\"test accuracy:\", accuracy_score(test_casses,y_test))\n",
        "print(\"test precision:\", precision_score(test_casses,y_test,average='macro'))\n",
        "print(\"test recall:\", recall_score(test_casses,y_test,average='macro'))\n",
        "print(\"test F1:\", f1_score(test_casses,y_test,average='macro'))"
      ],
      "execution_count": 54,
      "outputs": [
        {
          "output_type": "stream",
          "name": "stdout",
          "text": [
            "63/63 [==============================] - 0s 2ms/step\n",
            "test accuracy: 0.7415\n",
            "test precision: 0.6085613415710504\n",
            "test recall: 0.590430916758927\n",
            "test F1: 0.5964718999656182\n"
          ]
        }
      ]
    },
    {
      "cell_type": "markdown",
      "metadata": {
        "deletable": true,
        "editable": true,
        "id": "_Q-27vx1rQzq"
      },
      "source": [
        "### Reality check\n",
        "\n",
        "On small/medium datasets, simpler classification methods usually perform better, and are much more efficient to compute. Here are two resources to go further:\n",
        "- Naive Bayes approach, using scikit-learn http://scikit-learn.org/stable/datasets/twenty_newsgroups.html\n",
        "- Alec Radford (OpenAI) gave a very interesting presentation, showing that you need a VERY large dataset to have real gains from GRU/LSTM in text classification https://www.slideshare.net/odsc/alec-radfordodsc-presentation\n",
        "\n",
        "However, when looking at features, one can see that classification using simple methods isn't very robust, and won't generalize well to slightly different domains (e.g. forum posts => emails)\n",
        "\n",
        "Note: Implementation in Keras for text is very slow due to python overhead and lack of hashing techniques. The fastText implementation https://github.com/facebookresearch/fasttext is much, much faster."
      ]
    },
    {
      "cell_type": "markdown",
      "metadata": {
        "collapsed": true,
        "deletable": true,
        "editable": true,
        "id": "8YPxcEvxrQzq"
      },
      "source": [
        "## Going further\n",
        "\n",
        "- Compare pre-trained embeddings vs specifically trained embeddings\n",
        "- Train your own wordvectors in any language using [gensim's word2vec](https://radimrehurek.com/gensim/models/word2vec.html)\n",
        "- Check [Keras Examples](https://github.com/fchollet/keras/tree/master/examples) on `imdb` sentiment analysis\n",
        "- Use GLOVE over Gensim and give it a try on the classification example in its repository.\n",
        "- Try Different pre-processing operations using SpaCy or Ekphrasis (see example below), i.e. stopword removal, stemming, etc.\n"
      ]
    },
    {
      "cell_type": "markdown",
      "metadata": {
        "id": "xxUMzD6MKnnI"
      },
      "source": [
        "#Ekphrasis"
      ]
    },
    {
      "cell_type": "code",
      "metadata": {
        "id": "IS8G1vDLL3kp",
        "colab": {
          "base_uri": "https://localhost:8080/"
        },
        "outputId": "28e490e2-54be-4480-e073-f2241c716b67"
      },
      "source": [
        "!pip install ekphrasis"
      ],
      "execution_count": 55,
      "outputs": [
        {
          "output_type": "stream",
          "name": "stdout",
          "text": [
            "Looking in indexes: https://pypi.org/simple, https://us-python.pkg.dev/colab-wheels/public/simple/\n",
            "Collecting ekphrasis\n",
            "  Downloading ekphrasis-0.5.4-py3-none-any.whl (83 kB)\n",
            "\u001b[2K     \u001b[90m━━━━━━━━━━━━━━━━━━━━━━━━━━━━━━━━━━━━━━━━\u001b[0m \u001b[32m83.8/83.8 kB\u001b[0m \u001b[31m2.0 MB/s\u001b[0m eta \u001b[36m0:00:00\u001b[0m\n",
            "\u001b[?25hRequirement already satisfied: tqdm in /usr/local/lib/python3.10/dist-packages (from ekphrasis) (4.65.0)\n",
            "Requirement already satisfied: termcolor in /usr/local/lib/python3.10/dist-packages (from ekphrasis) (2.3.0)\n",
            "Requirement already satisfied: nltk in /usr/local/lib/python3.10/dist-packages (from ekphrasis) (3.8.1)\n",
            "Requirement already satisfied: numpy in /usr/local/lib/python3.10/dist-packages (from ekphrasis) (1.22.4)\n",
            "Collecting ujson\n",
            "  Downloading ujson-5.7.0-cp310-cp310-manylinux_2_17_x86_64.manylinux2014_x86_64.whl (52 kB)\n",
            "\u001b[2K     \u001b[90m━━━━━━━━━━━━━━━━━━━━━━━━━━━━━━━━━━━━━━━━\u001b[0m \u001b[32m52.8/52.8 kB\u001b[0m \u001b[31m5.1 MB/s\u001b[0m eta \u001b[36m0:00:00\u001b[0m\n",
            "\u001b[?25hRequirement already satisfied: matplotlib in /usr/local/lib/python3.10/dist-packages (from ekphrasis) (3.7.1)\n",
            "Collecting colorama\n",
            "  Downloading colorama-0.4.6-py2.py3-none-any.whl (25 kB)\n",
            "Collecting ftfy\n",
            "  Downloading ftfy-6.1.1-py3-none-any.whl (53 kB)\n",
            "\u001b[2K     \u001b[90m━━━━━━━━━━━━━━━━━━━━━━━━━━━━━━━━━━━━━━━━\u001b[0m \u001b[32m53.1/53.1 kB\u001b[0m \u001b[31m6.3 MB/s\u001b[0m eta \u001b[36m0:00:00\u001b[0m\n",
            "\u001b[?25hRequirement already satisfied: wcwidth>=0.2.5 in /usr/local/lib/python3.10/dist-packages (from ftfy->ekphrasis) (0.2.6)\n",
            "Requirement already satisfied: cycler>=0.10 in /usr/local/lib/python3.10/dist-packages (from matplotlib->ekphrasis) (0.11.0)\n",
            "Requirement already satisfied: python-dateutil>=2.7 in /usr/local/lib/python3.10/dist-packages (from matplotlib->ekphrasis) (2.8.2)\n",
            "Requirement already satisfied: packaging>=20.0 in /usr/local/lib/python3.10/dist-packages (from matplotlib->ekphrasis) (23.1)\n",
            "Requirement already satisfied: fonttools>=4.22.0 in /usr/local/lib/python3.10/dist-packages (from matplotlib->ekphrasis) (4.39.3)\n",
            "Requirement already satisfied: pyparsing>=2.3.1 in /usr/local/lib/python3.10/dist-packages (from matplotlib->ekphrasis) (3.0.9)\n",
            "Requirement already satisfied: kiwisolver>=1.0.1 in /usr/local/lib/python3.10/dist-packages (from matplotlib->ekphrasis) (1.4.4)\n",
            "Requirement already satisfied: contourpy>=1.0.1 in /usr/local/lib/python3.10/dist-packages (from matplotlib->ekphrasis) (1.0.7)\n",
            "Requirement already satisfied: pillow>=6.2.0 in /usr/local/lib/python3.10/dist-packages (from matplotlib->ekphrasis) (8.4.0)\n",
            "Requirement already satisfied: click in /usr/local/lib/python3.10/dist-packages (from nltk->ekphrasis) (8.1.3)\n",
            "Requirement already satisfied: joblib in /usr/local/lib/python3.10/dist-packages (from nltk->ekphrasis) (1.2.0)\n",
            "Requirement already satisfied: regex>=2021.8.3 in /usr/local/lib/python3.10/dist-packages (from nltk->ekphrasis) (2022.10.31)\n",
            "Requirement already satisfied: six>=1.5 in /usr/local/lib/python3.10/dist-packages (from python-dateutil>=2.7->matplotlib->ekphrasis) (1.16.0)\n",
            "Installing collected packages: ujson, ftfy, colorama, ekphrasis\n",
            "Successfully installed colorama-0.4.6 ekphrasis-0.5.4 ftfy-6.1.1 ujson-5.7.0\n"
          ]
        }
      ]
    },
    {
      "cell_type": "code",
      "metadata": {
        "id": "128Mr2rRKpwR",
        "colab": {
          "base_uri": "https://localhost:8080/"
        },
        "outputId": "3e078329-32c8-418b-9cc2-4f67c5c10f2f"
      },
      "source": [
        "from ekphrasis.classes.preprocessor import TextPreProcessor\n",
        "from ekphrasis.classes.tokenizer import SocialTokenizer\n",
        "from ekphrasis.dicts.emoticons import emoticons\n",
        "\n",
        "text_processor = TextPreProcessor(\n",
        "    # terms that will be normalized\n",
        "    normalize=['url', 'email', 'percent', 'money', 'phone', 'user',\n",
        "        'time', 'url', 'date', 'number'],\n",
        "    # terms that will be annotated\n",
        "    annotate={\"hashtag\", \"allcaps\", \"elongated\", \"repeated\",\n",
        "        'emphasis', 'censored'},\n",
        "    fix_html=True,  # fix HTML tokens\n",
        "    \n",
        "    # corpus from which the word statistics are going to be used \n",
        "    # for word segmentation \n",
        "    segmenter=\"twitter\", \n",
        "    \n",
        "    # corpus from which the word statistics are going to be used \n",
        "    # for spell correction\n",
        "    corrector=\"twitter\", \n",
        "    \n",
        "    unpack_hashtags=True,  # perform word segmentation on hashtags\n",
        "    unpack_contractions=True,  # Unpack contractions (can't -> can not)\n",
        "    spell_correct_elong=False,  # spell correction for elongated words\n",
        "    \n",
        "    # select a tokenizer. You can use SocialTokenizer, or pass your own\n",
        "    # the tokenizer, should take as input a string and return a list of tokens\n",
        "    tokenizer=SocialTokenizer(lowercase=True).tokenize,\n",
        "    \n",
        "    # list of dictionaries, for replacing tokens extracted from the text,\n",
        "    # with other expressions. You can pass more than one dictionaries.\n",
        "    dicts=[emoticons]\n",
        ")\n",
        "\n",
        "sentences = [\n",
        "    \"CANT WAIT for the new season of #TwinPeaks ＼(^o^)／!!! #davidlynch #tvseries :)))\",\n",
        "    \"I saw the new #johndoe movie and it suuuuucks!!! WAISTED $10... #badmovies :/\",\n",
        "    \"@SentimentSymp:  can't wait for the Nov 9 #Sentiment talks!  YAAAAAAY !!! :-D http://sentimentsymposium.com/.\"\n",
        "]\n",
        "for s in sentences:\n",
        "    print(\" \".join(text_processor.pre_process_doc(s)))"
      ],
      "execution_count": 56,
      "outputs": [
        {
          "output_type": "stream",
          "name": "stderr",
          "text": [
            "/usr/local/lib/python3.10/dist-packages/ekphrasis/classes/tokenizer.py:225: FutureWarning: Possible nested set at position 2190\n",
            "  self.tok = re.compile(r\"({})\".format(\"|\".join(pipeline)))\n"
          ]
        },
        {
          "output_type": "stream",
          "name": "stdout",
          "text": [
            "Word statistics files not found!\n",
            "Downloading... done!\n",
            "Unpacking... done!\n",
            "Reading twitter - 1grams ...\n",
            "generating cache file for faster loading...\n",
            "reading ngrams /root/.ekphrasis/stats/twitter/counts_1grams.txt\n",
            "Reading twitter - 2grams ...\n",
            "generating cache file for faster loading...\n",
            "reading ngrams /root/.ekphrasis/stats/twitter/counts_2grams.txt\n",
            "Reading twitter - 1grams ...\n",
            "<allcaps> cant wait </allcaps> for the new season of <hashtag> twin peaks </hashtag> ＼(^o^)／ ! <repeated> <hashtag> david lynch </hashtag> <hashtag> tv series </hashtag> <happy>\n",
            "i saw the new <hashtag> john doe </hashtag> movie and it sucks <elongated> ! <repeated> <allcaps> waisted </allcaps> <money> . <repeated> <hashtag> bad movies </hashtag> <annoyed>\n",
            "<user> : can not wait for the <date> <hashtag> sentiment </hashtag> talks ! <allcaps> yay <elongated> </allcaps> ! <repeated> <laugh> <url>\n"
          ]
        },
        {
          "output_type": "stream",
          "name": "stderr",
          "text": [
            "/usr/local/lib/python3.10/dist-packages/ekphrasis/classes/exmanager.py:14: FutureWarning: Possible nested set at position 42\n",
            "  regexes = {k.lower(): re.compile(self.expressions[k]) for k, v in\n"
          ]
        }
      ]
    },
    {
      "cell_type": "code",
      "metadata": {
        "id": "-D5joBTYNEXu",
        "colab": {
          "base_uri": "https://localhost:8080/"
        },
        "outputId": "5417e447-255b-4a94-fbd8-6537c6a0527a"
      },
      "source": [
        "text_processor.pre_process_doc(sentences[1])"
      ],
      "execution_count": 57,
      "outputs": [
        {
          "output_type": "execute_result",
          "data": {
            "text/plain": [
              "['i',\n",
              " 'saw',\n",
              " 'the',\n",
              " 'new',\n",
              " '<hashtag>',\n",
              " 'john',\n",
              " 'doe',\n",
              " '</hashtag>',\n",
              " 'movie',\n",
              " 'and',\n",
              " 'it',\n",
              " 'sucks',\n",
              " '<elongated>',\n",
              " '!',\n",
              " '<repeated>',\n",
              " '<allcaps>',\n",
              " 'waisted',\n",
              " '</allcaps>',\n",
              " '<money>',\n",
              " '.',\n",
              " '<repeated>',\n",
              " '<hashtag>',\n",
              " 'bad',\n",
              " 'movies',\n",
              " '</hashtag>',\n",
              " '<annoyed>']"
            ]
          },
          "metadata": {},
          "execution_count": 57
        }
      ]
    },
    {
      "cell_type": "code",
      "metadata": {
        "id": "R98GyggIMaWX",
        "colab": {
          "base_uri": "https://localhost:8080/"
        },
        "outputId": "e20ea1ad-798a-4b28-c5dd-f35f2d8c09b9"
      },
      "source": [
        "for s in sentences:\n",
        "    print(\" \".join(text_processor.pre_process_doc(s)))"
      ],
      "execution_count": 58,
      "outputs": [
        {
          "output_type": "stream",
          "name": "stdout",
          "text": [
            "<allcaps> cant wait </allcaps> for the new season of <hashtag> twin peaks </hashtag> ＼(^o^)／ ! <repeated> <hashtag> david lynch </hashtag> <hashtag> tv series </hashtag> <happy>\n",
            "i saw the new <hashtag> john doe </hashtag> movie and it sucks <elongated> ! <repeated> <allcaps> waisted </allcaps> <money> . <repeated> <hashtag> bad movies </hashtag> <annoyed>\n",
            "<user> : can not wait for the <date> <hashtag> sentiment </hashtag> talks ! <allcaps> yay <elongated> </allcaps> ! <repeated> <laugh> <url>\n"
          ]
        }
      ]
    }
  ]
}