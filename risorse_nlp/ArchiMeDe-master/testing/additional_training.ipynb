{
 "cells": [
  {
   "cell_type": "markdown",
   "metadata": {
    "colab": {},
    "colab_type": "code",
    "id": "QWPUyzkes1nh"
   },
   "source": [
    "## ! pip install -q tensorflow numpy\n",
    "! cp drive/My\\ Drive/Colab\\ Notebooks/*.csv ./\n",
    "! cp drive/My\\ Drive/Colab\\ Notebooks/*.pkl ./\n",
    "! cp -r drive/My\\ Drive/Colab\\ Notebooks/models/ensemble ./"
   ]
  },
  {
   "cell_type": "code",
   "execution_count": 1,
   "metadata": {
    "colab": {},
    "colab_type": "code",
    "id": "2kvKNpCivlNM"
   },
   "outputs": [],
   "source": [
    "def ohe(map):\n",
    "  one_hot_encode = []\n",
    "  temp = df[['Visual']].values\n",
    "\n",
    "  for i in temp:\n",
    "    arr = list(np.zeros(len(map),dtype=int))\n",
    "    for j in i[0].split():\n",
    "      if j.strip(',') != '0':\n",
    "        arr[map[j.strip(',')]] = 1\n",
    "    one_hot_encode.append(arr)\n",
    "  return np.array(one_hot_encode)"
   ]
  },
  {
   "cell_type": "code",
   "execution_count": 2,
   "metadata": {
    "colab": {},
    "colab_type": "code",
    "id": "SZzp0b6BvqmF"
   },
   "outputs": [],
   "source": [
    "def create_map():\n",
    "  temp = df[['Visual']].values\n",
    "  counter = 0\n",
    "  map = {}\n",
    "  for i in temp:\n",
    "    for j in i[0].split():\n",
    "      if j.strip(',') not in map and j.strip(',') != '0':\n",
    "        map[j.strip(',')] = counter\n",
    "        counter += 1\n",
    "  return map"
   ]
  },
  {
   "cell_type": "code",
   "execution_count": 3,
   "metadata": {
    "colab": {},
    "colab_type": "code",
    "id": "DbonqTr4-Za3"
   },
   "outputs": [],
   "source": [
    "def ds_from_df(df, shuffle=True, batch_size=32):\n",
    "  dataframe = dataframe.copy()\n",
    "  labels = dataframe.pop('Meme')\n",
    "  ds = tf.data.Dataset.from_tensor_slices((dict(dataframe), labels))\n",
    "  if shuffle:\n",
    "    ds = ds.shuffle(buffer_size=len(dataframe))\n",
    "  ds = ds.batch(batch_size)\n",
    "  return ds"
   ]
  },
  {
   "cell_type": "code",
   "execution_count": 4,
   "metadata": {
    "colab": {},
    "colab_type": "code",
    "id": "Byn0b3lFup4v"
   },
   "outputs": [
    {
     "ename": "OSError",
     "evalue": "No file or directory found at ensemble/alexnet_ffwd",
     "output_type": "error",
     "traceback": [
      "\u001b[1;31m---------------------------------------------------------------------------\u001b[0m",
      "\u001b[1;31mOSError\u001b[0m                                   Traceback (most recent call last)",
      "\u001b[1;32m~\\AppData\\Local\\Temp/ipykernel_18524/3333682908.py\u001b[0m in \u001b[0;36m<module>\u001b[1;34m\u001b[0m\n\u001b[0;32m      1\u001b[0m \u001b[1;32mfrom\u001b[0m \u001b[0mtensorflow\u001b[0m \u001b[1;32mimport\u001b[0m \u001b[0mkeras\u001b[0m\u001b[1;33m\u001b[0m\u001b[1;33m\u001b[0m\u001b[0m\n\u001b[0;32m      2\u001b[0m \u001b[1;33m\u001b[0m\u001b[0m\n\u001b[1;32m----> 3\u001b[1;33m \u001b[0malex\u001b[0m \u001b[1;33m=\u001b[0m \u001b[0mkeras\u001b[0m\u001b[1;33m.\u001b[0m\u001b[0mmodels\u001b[0m\u001b[1;33m.\u001b[0m\u001b[0mload_model\u001b[0m\u001b[1;33m(\u001b[0m\u001b[1;34m'ensemble/alexnet_ffwd'\u001b[0m\u001b[1;33m)\u001b[0m\u001b[1;33m\u001b[0m\u001b[1;33m\u001b[0m\u001b[0m\n\u001b[0m\u001b[0;32m      4\u001b[0m \u001b[0mdense\u001b[0m \u001b[1;33m=\u001b[0m \u001b[0mkeras\u001b[0m\u001b[1;33m.\u001b[0m\u001b[0mmodels\u001b[0m\u001b[1;33m.\u001b[0m\u001b[0mload_model\u001b[0m\u001b[1;33m(\u001b[0m\u001b[1;34m'ensemble/densenet_ffwd'\u001b[0m\u001b[1;33m)\u001b[0m\u001b[1;33m\u001b[0m\u001b[1;33m\u001b[0m\u001b[0m\n\u001b[0;32m      5\u001b[0m \u001b[0mresnet\u001b[0m \u001b[1;33m=\u001b[0m \u001b[0mkeras\u001b[0m\u001b[1;33m.\u001b[0m\u001b[0mmodels\u001b[0m\u001b[1;33m.\u001b[0m\u001b[0mload_model\u001b[0m\u001b[1;33m(\u001b[0m\u001b[1;34m'ensemble/resnet_ffwd'\u001b[0m\u001b[1;33m)\u001b[0m\u001b[1;33m\u001b[0m\u001b[1;33m\u001b[0m\u001b[0m\n",
      "\u001b[1;32m~\\AppData\\Local\\Programs\\Python\\Python310\\lib\\site-packages\\keras\\utils\\traceback_utils.py\u001b[0m in \u001b[0;36merror_handler\u001b[1;34m(*args, **kwargs)\u001b[0m\n\u001b[0;32m     65\u001b[0m     \u001b[1;32mexcept\u001b[0m \u001b[0mException\u001b[0m \u001b[1;32mas\u001b[0m \u001b[0me\u001b[0m\u001b[1;33m:\u001b[0m  \u001b[1;31m# pylint: disable=broad-except\u001b[0m\u001b[1;33m\u001b[0m\u001b[1;33m\u001b[0m\u001b[0m\n\u001b[0;32m     66\u001b[0m       \u001b[0mfiltered_tb\u001b[0m \u001b[1;33m=\u001b[0m \u001b[0m_process_traceback_frames\u001b[0m\u001b[1;33m(\u001b[0m\u001b[0me\u001b[0m\u001b[1;33m.\u001b[0m\u001b[0m__traceback__\u001b[0m\u001b[1;33m)\u001b[0m\u001b[1;33m\u001b[0m\u001b[1;33m\u001b[0m\u001b[0m\n\u001b[1;32m---> 67\u001b[1;33m       \u001b[1;32mraise\u001b[0m \u001b[0me\u001b[0m\u001b[1;33m.\u001b[0m\u001b[0mwith_traceback\u001b[0m\u001b[1;33m(\u001b[0m\u001b[0mfiltered_tb\u001b[0m\u001b[1;33m)\u001b[0m \u001b[1;32mfrom\u001b[0m \u001b[1;32mNone\u001b[0m\u001b[1;33m\u001b[0m\u001b[1;33m\u001b[0m\u001b[0m\n\u001b[0m\u001b[0;32m     68\u001b[0m     \u001b[1;32mfinally\u001b[0m\u001b[1;33m:\u001b[0m\u001b[1;33m\u001b[0m\u001b[1;33m\u001b[0m\u001b[0m\n\u001b[0;32m     69\u001b[0m       \u001b[1;32mdel\u001b[0m \u001b[0mfiltered_tb\u001b[0m\u001b[1;33m\u001b[0m\u001b[1;33m\u001b[0m\u001b[0m\n",
      "\u001b[1;32m~\\AppData\\Local\\Programs\\Python\\Python310\\lib\\site-packages\\keras\\saving\\save.py\u001b[0m in \u001b[0;36mload_model\u001b[1;34m(filepath, custom_objects, compile, options)\u001b[0m\n\u001b[0;32m    202\u001b[0m         \u001b[1;32mif\u001b[0m \u001b[0misinstance\u001b[0m\u001b[1;33m(\u001b[0m\u001b[0mfilepath_str\u001b[0m\u001b[1;33m,\u001b[0m \u001b[0mstr\u001b[0m\u001b[1;33m)\u001b[0m\u001b[1;33m:\u001b[0m\u001b[1;33m\u001b[0m\u001b[1;33m\u001b[0m\u001b[0m\n\u001b[0;32m    203\u001b[0m           \u001b[1;32mif\u001b[0m \u001b[1;32mnot\u001b[0m \u001b[0mtf\u001b[0m\u001b[1;33m.\u001b[0m\u001b[0mio\u001b[0m\u001b[1;33m.\u001b[0m\u001b[0mgfile\u001b[0m\u001b[1;33m.\u001b[0m\u001b[0mexists\u001b[0m\u001b[1;33m(\u001b[0m\u001b[0mfilepath_str\u001b[0m\u001b[1;33m)\u001b[0m\u001b[1;33m:\u001b[0m\u001b[1;33m\u001b[0m\u001b[1;33m\u001b[0m\u001b[0m\n\u001b[1;32m--> 204\u001b[1;33m             \u001b[1;32mraise\u001b[0m \u001b[0mIOError\u001b[0m\u001b[1;33m(\u001b[0m\u001b[1;34mf'No file or directory found at {filepath_str}'\u001b[0m\u001b[1;33m)\u001b[0m\u001b[1;33m\u001b[0m\u001b[1;33m\u001b[0m\u001b[0m\n\u001b[0m\u001b[0;32m    205\u001b[0m \u001b[1;33m\u001b[0m\u001b[0m\n\u001b[0;32m    206\u001b[0m           \u001b[1;32mif\u001b[0m \u001b[0mtf\u001b[0m\u001b[1;33m.\u001b[0m\u001b[0mio\u001b[0m\u001b[1;33m.\u001b[0m\u001b[0mgfile\u001b[0m\u001b[1;33m.\u001b[0m\u001b[0misdir\u001b[0m\u001b[1;33m(\u001b[0m\u001b[0mfilepath_str\u001b[0m\u001b[1;33m)\u001b[0m\u001b[1;33m:\u001b[0m\u001b[1;33m\u001b[0m\u001b[1;33m\u001b[0m\u001b[0m\n",
      "\u001b[1;31mOSError\u001b[0m: No file or directory found at ensemble/alexnet_ffwd"
     ]
    }
   ],
   "source": [
    "from tensorflow import keras\n",
    "\n",
    "alex = keras.models.load_model('ensemble/alexnet_ffwd')\n",
    "dense = keras.models.load_model('ensemble/densenet_ffwd')\n",
    "resnet = keras.models.load_model('ensemble/resnet_ffwd')"
   ]
  },
  {
   "cell_type": "code",
   "execution_count": null,
   "metadata": {
    "colab": {},
    "colab_type": "code",
    "id": "Cw-kSFOiupq_"
   },
   "outputs": [],
   "source": [
    "import pandas as pd\n",
    "\n",
    "df = pd.read_csv('dankmemes_task1_train.csv')\n",
    "embedding = pd.read_csv('dankmemes_task1_train_embeddings.csv', header=None)"
   ]
  },
  {
   "cell_type": "code",
   "execution_count": null,
   "metadata": {
    "colab": {},
    "colab_type": "code",
    "id": "eqC7i05luuv_"
   },
   "outputs": [],
   "source": [
    "import numpy as np\n",
    "import pickle\n",
    "\n",
    "des_X, alex_X, res_X, y = pickle.load(open('densenest_embeddings.pkl', 'rb')), pickle.load(open('alexnet_embeddings.pkl', 'rb')), np.array([embedding[1][i].split() for i in range(1600)]).astype(float), df[['Meme']].values"
   ]
  },
  {
   "cell_type": "code",
   "execution_count": null,
   "metadata": {
    "colab": {},
    "colab_type": "code",
    "id": "SDipTuhW60iS"
   },
   "outputs": [],
   "source": [
    "from sklearn.preprocessing import StandardScaler, MinMaxScaler, OneHotEncoder\n",
    "\n",
    "ssc = StandardScaler()\n",
    "mms = MinMaxScaler()"
   ]
  },
  {
   "cell_type": "code",
   "execution_count": null,
   "metadata": {
    "colab": {
     "base_uri": "https://localhost:8080/",
     "height": 324
    },
    "colab_type": "code",
    "id": "rCTKLIXa61kE",
    "outputId": "6cc08edc-514a-4235-e662-3992d2938c8b"
   },
   "outputs": [],
   "source": [
    "import pickle\n",
    "from datetime import date\n",
    "\n",
    "temp = mms.fit_transform(np.array([(date(int(i[0].split('-')[0]), int(i[0].split('-')[1]), int(i[0].split('-')[2])) - date(2015, 1, 1)).days for i in df[['Date']].values.tolist()]).reshape(1600, 1))\n",
    "print(temp.shape)\n",
    "des_X = np.hstack((des_X, temp))\n",
    "alex_X = np.hstack((alex_X, temp))\n",
    "res_X = np.hstack((res_X, temp))\n",
    "print(des_X.shape)\n",
    "print(alex_X.shape)\n",
    "print(res_X.shape)\n",
    "\n",
    "temp = ssc.fit_transform(df[['Engagement']].values)\n",
    "print(temp.shape)\n",
    "des_X = np.hstack((des_X, temp))\n",
    "alex_X = np.hstack((alex_X, temp))\n",
    "res_X = np.hstack((res_X, temp))\n",
    "print(des_X.shape)\n",
    "print(alex_X.shape)\n",
    "print(res_X.shape)\n",
    "\n",
    "temp = ohe(create_map())\n",
    "print(temp.shape)\n",
    "des_X = np.hstack((des_X, temp))\n",
    "alex_X = np.hstack((alex_X, temp))\n",
    "res_X = np.hstack((res_X, temp))\n",
    "print(des_X.shape)\n",
    "print(alex_X.shape)\n",
    "print(res_X.shape)\n",
    "\n",
    "temp = pickle.load(open('cls_umberto_embeddings.pkl', 'rb'))\n",
    "print(temp.shape)\n",
    "des_X = np.hstack((des_X, temp))\n",
    "alex_X = np.hstack((alex_X, temp))\n",
    "res_X = np.hstack((res_X, temp))\n",
    "print(des_X.shape)\n",
    "print(alex_X.shape)\n",
    "print(res_X.shape)"
   ]
  },
  {
   "cell_type": "code",
   "execution_count": null,
   "metadata": {
    "colab": {},
    "colab_type": "code",
    "id": "y0vdplmI8tLX"
   },
   "outputs": [],
   "source": [
    "from sklearn.model_selection import train_test_split\n",
    "\n",
    "res_X_train, res_X_test, res_y_train, res_y_test = train_test_split(res_X, y, test_size=0.2, stratify=y, random_state=42)\n",
    "des_X_train, des_X_test, des_y_train, des_y_test = train_test_split(des_X, y, test_size=0.2, stratify=y, random_state=42)\n",
    "alex_X_train, alex_X_test, alex_y_train, alex_y_test = train_test_split(alex_X, y, test_size=0.2, stratify=y, random_state=42)"
   ]
  },
  {
   "cell_type": "code",
   "execution_count": null,
   "metadata": {
    "colab": {},
    "colab_type": "code",
    "id": "FgDNoC-a9yth"
   },
   "outputs": [],
   "source": [
    "buffer_size = 10000\n",
    "batch_size = 64\n",
    "num_epochs = 10"
   ]
  },
  {
   "cell_type": "code",
   "execution_count": null,
   "metadata": {
    "colab": {},
    "colab_type": "code",
    "id": "6-QcRZIX-X3F"
   },
   "outputs": [],
   "source": [
    "from sklearn.model_selection import train_test_split\n",
    "import tensorflow as tf\n",
    "\n",
    "ds_res = tf.data.Dataset.from_tensor_slices((res_X_test, res_y_test))\n",
    "ds_res = ds_res.shuffle(buffer_size=buffer_size,\n",
    "                            reshuffle_each_iteration=False)\n",
    "ds_res = ds_res.batch(batch_size)\n",
    "\n",
    "ds_des = tf.data.Dataset.from_tensor_slices((des_X_test, des_y_test))\n",
    "ds_des = ds_des.shuffle(buffer_size=buffer_size,\n",
    "                            reshuffle_each_iteration=False)\n",
    "ds_des = ds_des.batch(batch_size)\n",
    "\n",
    "ds_alex = tf.data.Dataset.from_tensor_slices((alex_X_test, alex_y_test))\n",
    "ds_alex = ds_alex.shuffle(buffer_size=buffer_size,\n",
    "                            reshuffle_each_iteration=False)\n",
    "ds_alex = ds_alex.batch(batch_size)"
   ]
  },
  {
   "cell_type": "code",
   "execution_count": null,
   "metadata": {
    "colab": {
     "base_uri": "https://localhost:8080/",
     "height": 1000
    },
    "colab_type": "code",
    "id": "Q7txUetH-dTV",
    "outputId": "c68c09f4-f7a4-41b3-8026-3c8d7c7753f7"
   },
   "outputs": [],
   "source": [
    "# del a, d, r\n",
    "\n",
    "a = alex.fit(ds_alex,\n",
    "             epochs=num_epochs,\n",
    "             batch_size=batch_size,\n",
    "             use_multiprocessing=True)\n",
    "\n",
    "d = dense.fit(ds_des,\n",
    "              epochs=num_epochs,\n",
    "              batch_size=batch_size,\n",
    "              use_multiprocessing=True)\n",
    "              \n",
    "r = resnet.fit(ds_res,\n",
    "               epochs=num_epochs,\n",
    "               batch_size=batch_size,\n",
    "               use_multiprocessing=True)"
   ]
  },
  {
   "cell_type": "code",
   "execution_count": null,
   "metadata": {
    "colab": {
     "base_uri": "https://localhost:8080/",
     "height": 210
    },
    "colab_type": "code",
    "id": "gL9F7rgH8auk",
    "outputId": "348c027b-5d4c-46cb-d9cf-a09622778742"
   },
   "outputs": [],
   "source": [
    "alex.save('models/ensemble_eval/alexnet_ffwd')\n",
    "dense.save('models/ensemble_eval/densenet_ffwd')\n",
    "resnet.save('models/ensemble_eval/resnet_ffwd')"
   ]
  },
  {
   "cell_type": "code",
   "execution_count": null,
   "metadata": {
    "colab": {},
    "colab_type": "code",
    "id": "JGeLetuh8v4n"
   },
   "outputs": [],
   "source": [
    "! cp -r models ./drive/My\\ Drive/Colab\\ Notebooks/"
   ]
  }
 ],
 "metadata": {
  "colab": {
   "collapsed_sections": [],
   "name": "additional_training.ipynb",
   "provenance": []
  },
  "kernelspec": {
   "display_name": "Python 3 (ipykernel)",
   "language": "python",
   "name": "python3"
  },
  "language_info": {
   "codemirror_mode": {
    "name": "ipython",
    "version": 3
   },
   "file_extension": ".py",
   "mimetype": "text/x-python",
   "name": "python",
   "nbconvert_exporter": "python",
   "pygments_lexer": "ipython3",
   "version": "3.10.4"
  }
 },
 "nbformat": 4,
 "nbformat_minor": 1
}
