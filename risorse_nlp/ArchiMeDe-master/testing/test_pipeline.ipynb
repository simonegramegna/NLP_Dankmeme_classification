{
 "cells": [
  {
   "cell_type": "code",
   "execution_count": 5,
   "metadata": {
    "colab": {},
    "colab_type": "code",
    "id": "QWPUyzkes1nh"
   },
   "outputs": [],
   "source": [
    "! pip install -q tensorflow numpy\n",
    "! cp drive/My\\ Drive/Colab\\ Notebooks/1_test/*.csv ./\n",
    "! cp drive/My\\ Drive/Colab\\ Notebooks/*.pkl ./\n",
    "! cp drive/My\\ Drive/Colab\\ Notebooks/*.gz ./\n",
    "! cp -r drive/My\\ Drive/Colab\\ Notebooks/models/ensemble_test ./"
   ]
  },
  {
   "cell_type": "code",
   "execution_count": 35,
   "metadata": {
    "colab": {},
    "colab_type": "code",
    "id": "2kvKNpCivlNM"
   },
   "outputs": [],
   "source": [
    "def ohe(map):\n",
    "  one_hot_encode = []\n",
    "  temp = df[['Visual']].values\n",
    "\n",
    "  for i in temp:\n",
    "    arr = list(np.zeros(len(map),dtype=int))\n",
    "    for j in i[0].split():\n",
    "      if j.strip(',') not in map:\n",
    "        pass\n",
    "      elif j.strip(',') != '0':\n",
    "        arr[map[j.strip(',')]] = 1\n",
    "    one_hot_encode.append(arr)\n",
    "  return np.array(one_hot_encode)"
   ]
  },
  {
   "cell_type": "code",
   "execution_count": null,
   "metadata": {
    "colab": {},
    "colab_type": "code",
    "id": "ENiNRN4pJd08"
   },
   "outputs": [],
   "source": [
    "def ensemble_calc(a, d, r):\n",
    "  final = []\n",
    "  for i in range(len(a)):\n",
    "    if a[i][0] + d[i][0] + r[i][0] >= 2:\n",
    "      final.append(1)\n",
    "    else:\n",
    "      final.append(0)\n",
    "  final = np.array(final)\n",
    "  final = final.reshape(final.shape[0], 1)\n",
    "  return final"
   ]
  },
  {
   "cell_type": "code",
   "execution_count": 6,
   "metadata": {
    "colab": {},
    "colab_type": "code",
    "id": "Byn0b3lFup4v"
   },
   "outputs": [],
   "source": [
    "from tensorflow import keras\n",
    "\n",
    "alex = keras.models.load_model('ensemble_test/alexnet_ffwd')\n",
    "dense = keras.models.load_model('ensemble_test/densenet_ffwd')\n",
    "resnet = keras.models.load_model('ensemble_test/resnet_ffwd')"
   ]
  },
  {
   "cell_type": "code",
   "execution_count": 7,
   "metadata": {
    "colab": {},
    "colab_type": "code",
    "id": "Cw-kSFOiupq_"
   },
   "outputs": [],
   "source": [
    "import pandas as pd\n",
    "\n",
    "df = pd.read_csv('meme_test_final.csv')\n",
    "embedding = pd.read_csv('1_test_embeddings.csv', header=None)"
   ]
  },
  {
   "cell_type": "code",
   "execution_count": 38,
   "metadata": {
    "colab": {},
    "colab_type": "code",
    "id": "eqC7i05luuv_"
   },
   "outputs": [],
   "source": [
    "import numpy as np\n",
    "import pickle\n",
    "\n",
    "des_X, alex_X, res_X = pickle.load(open('densenest_test.pkl', 'rb')), pickle.load(open('alexnet_test.pkl', 'rb')), np.array([embedding[1][i].split() for i in range(400)]).astype(float)"
   ]
  },
  {
   "cell_type": "code",
   "execution_count": 39,
   "metadata": {
    "colab": {},
    "colab_type": "code",
    "id": "SDipTuhW60iS"
   },
   "outputs": [],
   "source": [
    "import joblib\n",
    "\n",
    "ssc = joblib.load('ssc.gz')\n",
    "mms = joblib.load('mms.gz')"
   ]
  },
  {
   "cell_type": "code",
   "execution_count": 40,
   "metadata": {
    "colab": {
     "base_uri": "https://localhost:8080/",
     "height": 324
    },
    "colab_type": "code",
    "id": "rCTKLIXa61kE",
    "outputId": "6bace019-c758-491a-ecef-865e87b0b96e"
   },
   "outputs": [
    {
     "name": "stdout",
     "output_type": "stream",
     "text": [
      "(400, 1)\n",
      "(400, 1001)\n",
      "(400, 4097)\n",
      "(400, 2049)\n",
      "(400, 1)\n",
      "(400, 1002)\n",
      "(400, 4098)\n",
      "(400, 2050)\n",
      "(400, 71)\n",
      "(400, 1073)\n",
      "(400, 4169)\n",
      "(400, 2121)\n",
      "(400, 768)\n",
      "(400, 1841)\n",
      "(400, 4937)\n",
      "(400, 2889)\n"
     ]
    }
   ],
   "source": [
    "import pickle\n",
    "from datetime import date\n",
    "\n",
    "temp = mms.transform(np.array([(date(int(i[0].split('/')[2]), int(i[0].split('/')[1]), int(i[0].split('/')[0])) - date(2015, 1, 1)).days for i in df[['Date']].values.tolist()]).reshape(400, 1))\n",
    "print(temp.shape)\n",
    "des_X = np.hstack((des_X, temp))\n",
    "alex_X = np.hstack((alex_X, temp))\n",
    "res_X = np.hstack((res_X, temp))\n",
    "print(des_X.shape)\n",
    "print(alex_X.shape)\n",
    "print(res_X.shape)\n",
    "\n",
    "temp = ssc.transform(df[['Engagement']].values)\n",
    "print(temp.shape)\n",
    "des_X = np.hstack((des_X, temp))\n",
    "alex_X = np.hstack((alex_X, temp))\n",
    "res_X = np.hstack((res_X, temp))\n",
    "print(des_X.shape)\n",
    "print(alex_X.shape)\n",
    "print(res_X.shape)\n",
    "\n",
    "temp = ohe(pickle.load(open('map.pkl', 'rb')))\n",
    "print(temp.shape)\n",
    "des_X = np.hstack((des_X, temp))\n",
    "alex_X = np.hstack((alex_X, temp))\n",
    "res_X = np.hstack((res_X, temp))\n",
    "print(des_X.shape)\n",
    "print(alex_X.shape)\n",
    "print(res_X.shape)\n",
    "\n",
    "temp = pickle.load(open('cls_umberto_test.pkl', 'rb'))\n",
    "print(temp.shape)\n",
    "des_X = np.hstack((des_X, temp))\n",
    "alex_X = np.hstack((alex_X, temp))\n",
    "res_X = np.hstack((res_X, temp))\n",
    "print(des_X.shape)\n",
    "print(alex_X.shape)\n",
    "print(res_X.shape)"
   ]
  },
  {
   "cell_type": "code",
   "execution_count": 41,
   "metadata": {
    "colab": {},
    "colab_type": "code",
    "id": "uBownZ2p9r5w"
   },
   "outputs": [],
   "source": [
    "### Cumulative Score\n",
    "\n",
    "a = (alex(alex_X) > 0.5).numpy().astype(\"int32\").tolist()\n",
    "d = (dense(des_X) > 0.5).numpy().astype(\"int32\").tolist()\n",
    "r = (resnet(res_X) > 0.5).numpy().astype(\"int32\").tolist()\n",
    "final = ensemble_calc(a, d, r)"
   ]
  },
  {
   "cell_type": "code",
   "execution_count": 44,
   "metadata": {
    "colab": {
     "base_uri": "https://localhost:8080/",
     "height": 56
    },
    "colab_type": "code",
    "id": "2POHGR9FTeea",
    "outputId": "a9e0eeda-6f1a-4a2e-acbf-9d81b524c567"
   },
   "outputs": [
    {
     "name": "stdout",
     "output_type": "stream",
     "text": [
      "[1, 0, 0, 1, 0, 0, 0, 0, 1, 1, 0, 1, 0, 0, 1, 0, 1, 1, 0, 0, 1, 0, 0, 0, 1, 0, 1, 0, 0, 1, 0, 0, 0, 0, 1, 0, 1, 1, 0, 0, 0, 0, 1, 1, 0, 1, 0, 1, 1, 1, 0, 0, 1, 1, 0, 0, 0, 1, 0, 1, 0, 1, 0, 1, 0, 1, 1, 0, 0, 1, 1, 0, 0, 0, 1, 0, 0, 0, 0, 0, 0, 0, 0, 1, 0, 1, 0, 1, 1, 0, 1, 1, 0, 0, 0, 0, 0, 0, 0, 1, 1, 1, 1, 0, 0, 0, 1, 0, 0, 0, 1, 0, 1, 0, 0, 0, 0, 1, 0, 0, 1, 1, 0, 1, 0, 0, 1, 0, 0, 0, 0, 1, 0, 1, 1, 1, 1, 1, 0, 1, 0, 0, 0, 1, 0, 0, 1, 1, 0, 0, 0, 1, 0, 0, 0, 1, 1, 0, 0, 0, 0, 1, 1, 0, 0, 0, 0, 0, 1, 1, 0, 1, 1, 1, 1, 1, 1, 0, 0, 0, 1, 0, 1, 1, 0, 1, 1, 1, 1, 0, 0, 0, 0, 1, 0, 0, 1, 0, 1, 0, 1, 1, 1, 0, 1, 0, 1, 0, 0, 1, 0, 0, 0, 0, 0, 1, 0, 0, 1, 0, 0, 1, 1, 0, 1, 1, 0, 1, 0, 0, 1, 0, 1, 1, 1, 1, 0, 1, 1, 0, 1, 0, 1, 1, 0, 1, 1, 0, 1, 0, 0, 1, 1, 0, 0, 0, 1, 0, 0, 0, 0, 1, 1, 0, 1, 1, 0, 0, 1, 1, 0, 0, 0, 0, 0, 1, 0, 0, 0, 1, 0, 0, 0, 0, 0, 0, 1, 1, 0, 1, 1, 0, 0, 0, 1, 0, 1, 0, 0, 1, 1, 1, 0, 0, 1, 0, 0, 0, 0, 1, 0, 0, 1, 1, 1, 0, 0, 0, 0, 1, 0, 0, 1, 0, 0, 0, 0, 1, 1, 0, 1, 0, 0, 1, 1, 0, 1, 1, 1, 0, 0, 1, 0, 1, 0, 1, 1, 0, 1, 1, 1, 1, 0, 1, 1, 0, 1, 1, 1, 0, 0, 0, 1, 0, 0, 0, 1, 1, 0, 0, 0, 1, 1, 1, 1, 1, 1, 0, 0, 0, 1, 0, 1, 0, 0, 1, 0, 0, 1, 1, 0, 1, 1, 1, 0, 1, 0, 1, 1, 0]\n"
     ]
    }
   ],
   "source": [
    "print(final.ravel().tolist())"
   ]
  }
 ],
 "metadata": {
  "colab": {
   "collapsed_sections": [],
   "name": "test_pipeline.ipynb",
   "provenance": [],
   "toc_visible": true
  },
  "kernelspec": {
   "display_name": "Python 3 (ipykernel)",
   "language": "python",
   "name": "python3"
  },
  "language_info": {
   "codemirror_mode": {
    "name": "ipython",
    "version": 3
   },
   "file_extension": ".py",
   "mimetype": "text/x-python",
   "name": "python",
   "nbconvert_exporter": "python",
   "pygments_lexer": "ipython3",
   "version": "3.10.4"
  }
 },
 "nbformat": 4,
 "nbformat_minor": 1
}
