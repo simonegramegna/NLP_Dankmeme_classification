{
 "cells": [
  {
   "cell_type": "code",
   "execution_count": 1,
   "metadata": {
    "colab": {},
    "colab_type": "code",
    "executionInfo": {
     "elapsed": 13600,
     "status": "ok",
     "timestamp": 1594235309949,
     "user": {
      "displayName": "Jinen Setpal",
      "photoUrl": "https://lh3.googleusercontent.com/a-/AOh14Gipe8JNdbgo-vHXJYvyjvR1hfRzal9h_g3W2DwUWHY=s64",
      "userId": "01891518843930644308"
     },
     "user_tz": -330
    },
    "id": "2-SIcL1tne7F"
   },
   "outputs": [],
   "source": [
    "! pip install -q tensorflow numpy pandas scikit-learn mlxtend\n",
    "! cp drive/My\\ Drive/Colab\\ Notebooks/*.csv ./"
   ]
  },
  {
   "cell_type": "code",
   "execution_count": 2,
   "metadata": {
    "colab": {},
    "colab_type": "code",
    "executionInfo": {
     "elapsed": 3289,
     "status": "ok",
     "timestamp": 1594235313247,
     "user": {
      "displayName": "Jinen Setpal",
      "photoUrl": "https://lh3.googleusercontent.com/a-/AOh14Gipe8JNdbgo-vHXJYvyjvR1hfRzal9h_g3W2DwUWHY=s64",
      "userId": "01891518843930644308"
     },
     "user_tz": -330
    },
    "id": "bSiXjbg5qHZW"
   },
   "outputs": [],
   "source": [
    "import numpy as np\n",
    "import pandas as pd\n",
    "import tensorflow as tf\n",
    "from datetime import date\n",
    "import matplotlib.pyplot as plt\n",
    "from sklearn.model_selection import train_test_split\n",
    "from sklearn.preprocessing import StandardScaler, MinMaxScaler, OneHotEncoder"
   ]
  },
  {
   "cell_type": "code",
   "execution_count": 3,
   "metadata": {
    "colab": {},
    "colab_type": "code",
    "executionInfo": {
     "elapsed": 3283,
     "status": "ok",
     "timestamp": 1594235313250,
     "user": {
      "displayName": "Jinen Setpal",
      "photoUrl": "https://lh3.googleusercontent.com/a-/AOh14Gipe8JNdbgo-vHXJYvyjvR1hfRzal9h_g3W2DwUWHY=s64",
      "userId": "01891518843930644308"
     },
     "user_tz": -330
    },
    "id": "rsqguLXPtBO6"
   },
   "outputs": [],
   "source": [
    "def df_to_dataset(dataframe, shuffle=True, batch_size=32):\n",
    "  dataframe = dataframe.copy()\n",
    "  labels = dataframe.pop('Meme')\n",
    "  ds = tf.data.Dataset.from_tensor_slices((dict(dataframe), labels))\n",
    "  if shuffle:\n",
    "    ds = ds.shuffle(buffer_size=len(dataframe))\n",
    "  ds = ds.batch(batch_size)\n",
    "  return ds"
   ]
  },
  {
   "cell_type": "code",
   "execution_count": 4,
   "metadata": {
    "colab": {},
    "colab_type": "code",
    "executionInfo": {
     "elapsed": 1909,
     "status": "ok",
     "timestamp": 1594235315168,
     "user": {
      "displayName": "Jinen Setpal",
      "photoUrl": "https://lh3.googleusercontent.com/a-/AOh14Gipe8JNdbgo-vHXJYvyjvR1hfRzal9h_g3W2DwUWHY=s64",
      "userId": "01891518843930644308"
     },
     "user_tz": -330
    },
    "id": "P6ipIZ8x4VKC"
   },
   "outputs": [],
   "source": [
    "df = pd.read_csv('dankmemes_task1_train.csv')\n",
    "embedding = pd.read_csv('dankmemes_task1_train_embeddings.csv', header=None)"
   ]
  },
  {
   "cell_type": "code",
   "execution_count": null,
   "metadata": {
    "colab": {},
    "colab_type": "code",
    "id": "qfmR2P6PznLZ"
   },
   "outputs": [],
   "source": [
    "print(np.unique(df[['Visual']].values))"
   ]
  },
  {
   "cell_type": "code",
   "execution_count": 9,
   "metadata": {
    "colab": {
     "base_uri": "https://localhost:8080/",
     "height": 36
    },
    "colab_type": "code",
    "executionInfo": {
     "elapsed": 4190,
     "status": "ok",
     "timestamp": 1594235711463,
     "user": {
      "displayName": "Jinen Setpal",
      "photoUrl": "https://lh3.googleusercontent.com/a-/AOh14Gipe8JNdbgo-vHXJYvyjvR1hfRzal9h_g3W2DwUWHY=s64",
      "userId": "01891518843930644308"
     },
     "user_tz": -330
    },
    "id": "-vUNP32P36Ag",
    "outputId": "e24b755c-648b-4e02-af06-d0170ffa3ea5"
   },
   "outputs": [
    {
     "name": "stdout",
     "output_type": "stream",
     "text": [
      "(1600, 2048)\n"
     ]
    }
   ],
   "source": [
    "X, y = np.array([embedding[1][i].split() for i in range(1600)]).astype(float), df[['Meme']].values\n",
    "print(X.shape)"
   ]
  },
  {
   "cell_type": "code",
   "execution_count": 8,
   "metadata": {
    "colab": {
     "base_uri": "https://localhost:8080/",
     "height": 36
    },
    "colab_type": "code",
    "executionInfo": {
     "elapsed": 1304,
     "status": "ok",
     "timestamp": 1594235544994,
     "user": {
      "displayName": "Jinen Setpal",
      "photoUrl": "https://lh3.googleusercontent.com/a-/AOh14Gipe8JNdbgo-vHXJYvyjvR1hfRzal9h_g3W2DwUWHY=s64",
      "userId": "01891518843930644308"
     },
     "user_tz": -330
    },
    "id": "5XSnL0k71vTf",
    "outputId": "11d50eac-9846-4d17-a0ea-6dd10887c75a"
   },
   "outputs": [
    {
     "name": "stdout",
     "output_type": "stream",
     "text": [
      "Index(['File', 'Engagement', 'Date', 'Manipulation', 'Visual', 'Text', 'Meme'], dtype='object')\n"
     ]
    }
   ],
   "source": [
    "X = df[['Engagement', 'Date', 'Manipulation', 'Visual',]]\n",
    "print(X)"
   ]
  },
  {
   "cell_type": "code",
   "execution_count": null,
   "metadata": {
    "colab": {},
    "colab_type": "code",
    "id": "oIhLMpep4UIb"
   },
   "outputs": [],
   "source": [
    "feature_columns = []"
   ]
  },
  {
   "cell_type": "code",
   "execution_count": null,
   "metadata": {
    "colab": {},
    "colab_type": "code",
    "id": "gd0lgp1CAn-j"
   },
   "outputs": [],
   "source": [
    "for header in ['Embedding', 'Engagement', 'Date', 'Manipulation']:\n",
    "  feature_columns.append(feature_column.numeric_column(header))"
   ]
  },
  {
   "cell_type": "code",
   "execution_count": null,
   "metadata": {
    "colab": {},
    "colab_type": "code",
    "id": "PxY1jcLtD_BI"
   },
   "outputs": [],
   "source": [
    "ssc = StandardScaler()\n",
    "mms = MinMaxScaler()\n",
    "ohe = OneHotEncoder()"
   ]
  },
  {
   "cell_type": "code",
   "execution_count": null,
   "metadata": {
    "colab": {},
    "colab_type": "code",
    "id": "tqIKZvRaInHx"
   },
   "outputs": [],
   "source": [
    "days_df = np.array([(date(int(i[0].split('-')[0]), int(i[0].split('-')[1]), int(i[0].split('-')[2])) - date(2015, 1, 1)).days for i in df[['Date']].values.tolist()]).reshape(1600, 1)\n",
    "days_df_mms = mms.fit_transform(days_df)"
   ]
  },
  {
   "cell_type": "code",
   "execution_count": null,
   "metadata": {
    "colab": {},
    "colab_type": "code",
    "id": "ZVBidqzLJRJS"
   },
   "outputs": [],
   "source": [
    "print(days_df.shape)\n",
    "print(days_df_mms)\n",
    "print(days_df_mms.shape)\n",
    "feature_columns.append(days_df)"
   ]
  },
  {
   "cell_type": "code",
   "execution_count": null,
   "metadata": {
    "colab": {},
    "colab_type": "code",
    "id": "ejC503knJk_a"
   },
   "outputs": [],
   "source": [
    "engagement_df = ssc.fit_transform(df[['Engagement']].values)\n",
    "feature_columns.append(engagement_df)"
   ]
  },
  {
   "cell_type": "code",
   "execution_count": null,
   "metadata": {
    "colab": {},
    "colab_type": "code",
    "id": "xM9K4UheKekX"
   },
   "outputs": [],
   "source": [
    "manipulation_df = df[['Manipulation']].values\n",
    "feature_columns.append(manipulation_df)"
   ]
  },
  {
   "cell_type": "code",
   "execution_count": null,
   "metadata": {
    "colab": {},
    "colab_type": "code",
    "id": "1mhJyBRMLoaF"
   },
   "outputs": [],
   "source": [
    "visual_df = ohe.fit_transform(df[['Visual']].values.reshape(-1, 1)).toarray()\n",
    "print(visual_df)\n",
    "feature_columns.append(visual_df)"
   ]
  },
  {
   "cell_type": "code",
   "execution_count": null,
   "metadata": {
    "colab": {},
    "colab_type": "code",
    "id": "546vrYnQKvxu"
   },
   "outputs": [],
   "source": [
    "print(len(feature_columns))"
   ]
  },
  {
   "cell_type": "code",
   "execution_count": null,
   "metadata": {
    "colab": {},
    "colab_type": "code",
    "id": "5vfDTtNvTsvZ"
   },
   "outputs": [],
   "source": [
    "feature_layer = tf.keras.layers.DenseFeatures(feature_columns)"
   ]
  },
  {
   "cell_type": "code",
   "execution_count": null,
   "metadata": {
    "colab": {},
    "colab_type": "code",
    "id": "urMAvBhV3xds"
   },
   "outputs": [],
   "source": [
    "train, test = train_test_split(df, test_size=0.2)\n",
    "train, val = train_test_split(train, test_size=0.2)\n",
    "print(len(train), 'train examples')\n",
    "print(len(val), 'validation examples')\n",
    "print(len(test), 'test examples')"
   ]
  },
  {
   "cell_type": "code",
   "execution_count": null,
   "metadata": {
    "colab": {},
    "colab_type": "code",
    "id": "s8C8WUnBUNAG"
   },
   "outputs": [],
   "source": [
    "batch_size = 32\n",
    "train_ds = df_to_dataset(train, batch_size=batch_size)\n",
    "val_ds = df_to_dataset(val, shuffle=False, batch_size=batch_size)\n",
    "test_ds = df_to_dataset(test, shuffle=False, batch_size=batch_size)"
   ]
  },
  {
   "cell_type": "code",
   "execution_count": null,
   "metadata": {
    "colab": {},
    "colab_type": "code",
    "id": "ST3EMW4QUPGJ"
   },
   "outputs": [],
   "source": [
    "model = tf.keras.Sequential([\n",
    "  feature_layer,\n",
    "  tf.keras.layers.Dense(1024, activation=tf.keras.activations.relu),\n",
    "  tf.keras.layers.Dropout(rate=0.5),\n",
    "  tf.keras.layers.Dense(512, activation=tf.keras.activations.relu),\n",
    "  tf.keras.layers.Dropout(rate=0.5),\n",
    "  tf.keras.layers.Dense(512, activation=tf.keras.activations.relu),\n",
    "  tf.keras.layers.Dropout(rate=0.5),\n",
    "  tf.keras.layers.Dense(1, activation=tf.keras.activations.sigmoid)])\n",
    "\n",
    "model.compile(optimizer=tf.keras.optimizers.Adam(lr=0.003),\n",
    "              loss=tf.keras.losses.BinaryCrossentropy(from_logits=True),\n",
    "              metrics=[tf.keras.metrics.BinaryAccuracy])\n",
    "\n",
    "hist = model.fit(train_ds,\n",
    "                 validation_data=val_ds,\n",
    "                 epochs=100)"
   ]
  }
 ],
 "metadata": {
  "colab": {
   "authorship_tag": "ABX9TyNHiG4tIePA/fMcA0kSaKy1",
   "mount_file_id": "1YRrxNUP5IE2ozzgxzcQWd1prD1XEBEnc",
   "name": "feature_dnn.ipynb",
   "provenance": []
  },
  "kernelspec": {
   "display_name": "Python 3 (ipykernel)",
   "language": "python",
   "name": "python3"
  },
  "language_info": {
   "codemirror_mode": {
    "name": "ipython",
    "version": 3
   },
   "file_extension": ".py",
   "mimetype": "text/x-python",
   "name": "python",
   "nbconvert_exporter": "python",
   "pygments_lexer": "ipython3",
   "version": "3.10.4"
  }
 },
 "nbformat": 4,
 "nbformat_minor": 1
}
