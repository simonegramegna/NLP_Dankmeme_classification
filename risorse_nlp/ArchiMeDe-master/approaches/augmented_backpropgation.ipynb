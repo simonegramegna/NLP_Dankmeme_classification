{
 "cells": [
  {
   "cell_type": "code",
   "execution_count": 13,
   "metadata": {
    "colab": {
     "base_uri": "https://localhost:8080/",
     "height": 559
    },
    "colab_type": "code",
    "executionInfo": {
     "elapsed": 96618,
     "status": "ok",
     "timestamp": 1596869357963,
     "user": {
      "displayName": "Jinen Setpal",
      "photoUrl": "https://lh3.googleusercontent.com/a-/AOh14Gipe8JNdbgo-vHXJYvyjvR1hfRzal9h_g3W2DwUWHY=s64",
      "userId": "01891518843930644308"
     },
     "user_tz": -330
    },
    "id": "auP7yfRbBKx5",
    "outputId": "a942a63d-955d-41dd-a648-9bdf2f423f19"
   },
   "outputs": [
    {
     "name": "stdout",
     "output_type": "stream",
     "text": [
      "\u001b[?25l\r",
      "\u001b[K     |███▊                            | 10kB 26.2MB/s eta 0:00:01\r",
      "\u001b[K     |███████▌                        | 20kB 6.9MB/s eta 0:00:01\r",
      "\u001b[K     |███████████▎                    | 30kB 7.4MB/s eta 0:00:01\r",
      "\u001b[K     |███████████████                 | 40kB 8.5MB/s eta 0:00:01\r",
      "\u001b[K     |██████████████████▉             | 51kB 7.0MB/s eta 0:00:01\r",
      "\u001b[K     |██████████████████████▋         | 61kB 7.7MB/s eta 0:00:01\r",
      "\u001b[K     |██████████████████████████▎     | 71kB 8.1MB/s eta 0:00:01\r",
      "\u001b[K     |██████████████████████████████  | 81kB 8.4MB/s eta 0:00:01\r",
      "\u001b[K     |████████████████████████████████| 92kB 4.4MB/s \n",
      "\u001b[K     |████████████████████████████████| 778kB 13.8MB/s \n",
      "\u001b[K     |████████████████████████████████| 8.6MB 12.1MB/s \n",
      "\u001b[K     |████████████████████████████████| 798kB 56.9MB/s \n",
      "\u001b[K     |████████████████████████████████| 71kB 6.8MB/s \n",
      "\u001b[K     |████████████████████████████████| 61kB 6.4MB/s \n",
      "\u001b[K     |████████████████████████████████| 1.4MB 50.3MB/s \n",
      "\u001b[K     |████████████████████████████████| 368kB 54.0MB/s \n",
      "\u001b[K     |████████████████████████████████| 512kB 51.1MB/s \n",
      "\u001b[K     |████████████████████████████████| 5.5MB 49.4MB/s \n",
      "\u001b[K     |████████████████████████████████| 2.2MB 56.6MB/s \n",
      "\u001b[K     |████████████████████████████████| 3.0MB 55.6MB/s \n",
      "\u001b[K     |████████████████████████████████| 1.1MB 54.5MB/s \n",
      "\u001b[K     |████████████████████████████████| 890kB 47.4MB/s \n",
      "\u001b[K     |████████████████████████████████| 655kB 53.1MB/s \n",
      "\u001b[K     |████████████████████████████████| 51kB 5.4MB/s \n",
      "\u001b[K     |████████████████████████████████| 102kB 9.3MB/s \n",
      "\u001b[?25h  Building wheel for bokeh (setup.py) ... \u001b[?25l\u001b[?25hdone\n",
      "  Building wheel for jsonpath-ng (setup.py) ... \u001b[?25l\u001b[?25hdone\n",
      "  Building wheel for nltk (setup.py) ... \u001b[?25l\u001b[?25hdone\n",
      "  Building wheel for tornado (setup.py) ... \u001b[?25l\u001b[?25hdone\n",
      "  Building wheel for sacremoses (setup.py) ... \u001b[?25l\u001b[?25hdone\n",
      "  Building wheel for contextvars (setup.py) ... \u001b[?25l\u001b[?25hdone\n",
      "  Building wheel for locket (setup.py) ... \u001b[?25l\u001b[?25hdone\n",
      "\u001b[31mERROR: panel 0.9.7 has requirement bokeh>=2.1, but you'll have bokeh 2.0.2 which is incompatible.\u001b[0m\n",
      "\u001b[31mERROR: google-colab 1.0.0 has requirement tornado~=5.1.0; python_version >= \"3.0\", but you'll have tornado 5.0.2 which is incompatible.\u001b[0m\n",
      "\u001b[31mERROR: distributed 2.22.0 has requirement cloudpickle>=1.5.0, but you'll have cloudpickle 1.3.0 which is incompatible.\u001b[0m\n",
      "\u001b[31mERROR: albumentations 0.1.12 has requirement imgaug<0.2.7,>=0.2.5, but you'll have imgaug 0.2.9 which is incompatible.\u001b[0m\n"
     ]
    }
   ],
   "source": [
    "! pip install -q tensorflow numpy pandas scikit-learn mlxtend dataprep transformers\n",
    "! cp drive/My\\ Drive/Colab\\ Notebooks/*.csv ./\n",
    "! cp drive/My\\ Drive/Colab\\ Notebooks/*.pkl ./"
   ]
  },
  {
   "cell_type": "code",
   "execution_count": null,
   "metadata": {
    "colab": {},
    "colab_type": "code",
    "id": "EIDqGyyq2WyY"
   },
   "outputs": [],
   "source": [
    "! ls"
   ]
  },
  {
   "cell_type": "code",
   "execution_count": 1,
   "metadata": {
    "colab": {
     "base_uri": "https://localhost:8080/",
     "height": 473
    },
    "colab_type": "code",
    "executionInfo": {
     "elapsed": 17665,
     "status": "error",
     "timestamp": 1596869245849,
     "user": {
      "displayName": "Jinen Setpal",
      "photoUrl": "https://lh3.googleusercontent.com/a-/AOh14Gipe8JNdbgo-vHXJYvyjvR1hfRzal9h_g3W2DwUWHY=s64",
      "userId": "01891518843930644308"
     },
     "user_tz": -330
    },
    "id": "aX-OxOSTBXQS",
    "outputId": "d21409a3-408d-459f-9e17-000a6312aa25"
   },
   "outputs": [
    {
     "ename": "FileNotFoundError",
     "evalue": "ignored",
     "output_type": "error",
     "traceback": [
      "\u001b[0;31m---------------------------------------------------------------------------\u001b[0m",
      "\u001b[0;31mFileNotFoundError\u001b[0m                         Traceback (most recent call last)",
      "\u001b[0;32m<ipython-input-1-4326ec970c7b>\u001b[0m in \u001b[0;36m<module>\u001b[0;34m()\u001b[0m\n\u001b[1;32m      1\u001b[0m \u001b[0;32mimport\u001b[0m \u001b[0mpandas\u001b[0m \u001b[0;32mas\u001b[0m \u001b[0mpd\u001b[0m\u001b[0;34m\u001b[0m\u001b[0;34m\u001b[0m\u001b[0m\n\u001b[1;32m      2\u001b[0m \u001b[0;34m\u001b[0m\u001b[0m\n\u001b[0;32m----> 3\u001b[0;31m \u001b[0mdf\u001b[0m \u001b[0;34m=\u001b[0m \u001b[0mpd\u001b[0m\u001b[0;34m.\u001b[0m\u001b[0mread_csv\u001b[0m\u001b[0;34m(\u001b[0m\u001b[0;34m'dankmemes_task1_train.csv'\u001b[0m\u001b[0;34m)\u001b[0m\u001b[0;34m\u001b[0m\u001b[0;34m\u001b[0m\u001b[0m\n\u001b[0m\u001b[1;32m      4\u001b[0m \u001b[0membedding\u001b[0m \u001b[0;34m=\u001b[0m \u001b[0mpd\u001b[0m\u001b[0;34m.\u001b[0m\u001b[0mread_csv\u001b[0m\u001b[0;34m(\u001b[0m\u001b[0;34m'dankmemes_task1_train_embeddings.csv'\u001b[0m\u001b[0;34m,\u001b[0m \u001b[0mheader\u001b[0m\u001b[0;34m=\u001b[0m\u001b[0;32mNone\u001b[0m\u001b[0;34m)\u001b[0m\u001b[0;34m\u001b[0m\u001b[0;34m\u001b[0m\u001b[0m\n",
      "\u001b[0;32m/usr/local/lib/python3.6/dist-packages/pandas/io/parsers.py\u001b[0m in \u001b[0;36mparser_f\u001b[0;34m(filepath_or_buffer, sep, delimiter, header, names, index_col, usecols, squeeze, prefix, mangle_dupe_cols, dtype, engine, converters, true_values, false_values, skipinitialspace, skiprows, skipfooter, nrows, na_values, keep_default_na, na_filter, verbose, skip_blank_lines, parse_dates, infer_datetime_format, keep_date_col, date_parser, dayfirst, cache_dates, iterator, chunksize, compression, thousands, decimal, lineterminator, quotechar, quoting, doublequote, escapechar, comment, encoding, dialect, error_bad_lines, warn_bad_lines, delim_whitespace, low_memory, memory_map, float_precision)\u001b[0m\n\u001b[1;32m    674\u001b[0m         )\n\u001b[1;32m    675\u001b[0m \u001b[0;34m\u001b[0m\u001b[0m\n\u001b[0;32m--> 676\u001b[0;31m         \u001b[0;32mreturn\u001b[0m \u001b[0m_read\u001b[0m\u001b[0;34m(\u001b[0m\u001b[0mfilepath_or_buffer\u001b[0m\u001b[0;34m,\u001b[0m \u001b[0mkwds\u001b[0m\u001b[0;34m)\u001b[0m\u001b[0;34m\u001b[0m\u001b[0;34m\u001b[0m\u001b[0m\n\u001b[0m\u001b[1;32m    677\u001b[0m \u001b[0;34m\u001b[0m\u001b[0m\n\u001b[1;32m    678\u001b[0m     \u001b[0mparser_f\u001b[0m\u001b[0;34m.\u001b[0m\u001b[0m__name__\u001b[0m \u001b[0;34m=\u001b[0m \u001b[0mname\u001b[0m\u001b[0;34m\u001b[0m\u001b[0;34m\u001b[0m\u001b[0m\n",
      "\u001b[0;32m/usr/local/lib/python3.6/dist-packages/pandas/io/parsers.py\u001b[0m in \u001b[0;36m_read\u001b[0;34m(filepath_or_buffer, kwds)\u001b[0m\n\u001b[1;32m    446\u001b[0m \u001b[0;34m\u001b[0m\u001b[0m\n\u001b[1;32m    447\u001b[0m     \u001b[0;31m# Create the parser.\u001b[0m\u001b[0;34m\u001b[0m\u001b[0;34m\u001b[0m\u001b[0;34m\u001b[0m\u001b[0m\n\u001b[0;32m--> 448\u001b[0;31m     \u001b[0mparser\u001b[0m \u001b[0;34m=\u001b[0m \u001b[0mTextFileReader\u001b[0m\u001b[0;34m(\u001b[0m\u001b[0mfp_or_buf\u001b[0m\u001b[0;34m,\u001b[0m \u001b[0;34m**\u001b[0m\u001b[0mkwds\u001b[0m\u001b[0;34m)\u001b[0m\u001b[0;34m\u001b[0m\u001b[0;34m\u001b[0m\u001b[0m\n\u001b[0m\u001b[1;32m    449\u001b[0m \u001b[0;34m\u001b[0m\u001b[0m\n\u001b[1;32m    450\u001b[0m     \u001b[0;32mif\u001b[0m \u001b[0mchunksize\u001b[0m \u001b[0;32mor\u001b[0m \u001b[0miterator\u001b[0m\u001b[0;34m:\u001b[0m\u001b[0;34m\u001b[0m\u001b[0;34m\u001b[0m\u001b[0m\n",
      "\u001b[0;32m/usr/local/lib/python3.6/dist-packages/pandas/io/parsers.py\u001b[0m in \u001b[0;36m__init__\u001b[0;34m(self, f, engine, **kwds)\u001b[0m\n\u001b[1;32m    878\u001b[0m             \u001b[0mself\u001b[0m\u001b[0;34m.\u001b[0m\u001b[0moptions\u001b[0m\u001b[0;34m[\u001b[0m\u001b[0;34m\"has_index_names\"\u001b[0m\u001b[0;34m]\u001b[0m \u001b[0;34m=\u001b[0m \u001b[0mkwds\u001b[0m\u001b[0;34m[\u001b[0m\u001b[0;34m\"has_index_names\"\u001b[0m\u001b[0;34m]\u001b[0m\u001b[0;34m\u001b[0m\u001b[0;34m\u001b[0m\u001b[0m\n\u001b[1;32m    879\u001b[0m \u001b[0;34m\u001b[0m\u001b[0m\n\u001b[0;32m--> 880\u001b[0;31m         \u001b[0mself\u001b[0m\u001b[0;34m.\u001b[0m\u001b[0m_make_engine\u001b[0m\u001b[0;34m(\u001b[0m\u001b[0mself\u001b[0m\u001b[0;34m.\u001b[0m\u001b[0mengine\u001b[0m\u001b[0;34m)\u001b[0m\u001b[0;34m\u001b[0m\u001b[0;34m\u001b[0m\u001b[0m\n\u001b[0m\u001b[1;32m    881\u001b[0m \u001b[0;34m\u001b[0m\u001b[0m\n\u001b[1;32m    882\u001b[0m     \u001b[0;32mdef\u001b[0m \u001b[0mclose\u001b[0m\u001b[0;34m(\u001b[0m\u001b[0mself\u001b[0m\u001b[0;34m)\u001b[0m\u001b[0;34m:\u001b[0m\u001b[0;34m\u001b[0m\u001b[0;34m\u001b[0m\u001b[0m\n",
      "\u001b[0;32m/usr/local/lib/python3.6/dist-packages/pandas/io/parsers.py\u001b[0m in \u001b[0;36m_make_engine\u001b[0;34m(self, engine)\u001b[0m\n\u001b[1;32m   1112\u001b[0m     \u001b[0;32mdef\u001b[0m \u001b[0m_make_engine\u001b[0m\u001b[0;34m(\u001b[0m\u001b[0mself\u001b[0m\u001b[0;34m,\u001b[0m \u001b[0mengine\u001b[0m\u001b[0;34m=\u001b[0m\u001b[0;34m\"c\"\u001b[0m\u001b[0;34m)\u001b[0m\u001b[0;34m:\u001b[0m\u001b[0;34m\u001b[0m\u001b[0;34m\u001b[0m\u001b[0m\n\u001b[1;32m   1113\u001b[0m         \u001b[0;32mif\u001b[0m \u001b[0mengine\u001b[0m \u001b[0;34m==\u001b[0m \u001b[0;34m\"c\"\u001b[0m\u001b[0;34m:\u001b[0m\u001b[0;34m\u001b[0m\u001b[0;34m\u001b[0m\u001b[0m\n\u001b[0;32m-> 1114\u001b[0;31m             \u001b[0mself\u001b[0m\u001b[0;34m.\u001b[0m\u001b[0m_engine\u001b[0m \u001b[0;34m=\u001b[0m \u001b[0mCParserWrapper\u001b[0m\u001b[0;34m(\u001b[0m\u001b[0mself\u001b[0m\u001b[0;34m.\u001b[0m\u001b[0mf\u001b[0m\u001b[0;34m,\u001b[0m \u001b[0;34m**\u001b[0m\u001b[0mself\u001b[0m\u001b[0;34m.\u001b[0m\u001b[0moptions\u001b[0m\u001b[0;34m)\u001b[0m\u001b[0;34m\u001b[0m\u001b[0;34m\u001b[0m\u001b[0m\n\u001b[0m\u001b[1;32m   1115\u001b[0m         \u001b[0;32melse\u001b[0m\u001b[0;34m:\u001b[0m\u001b[0;34m\u001b[0m\u001b[0;34m\u001b[0m\u001b[0m\n\u001b[1;32m   1116\u001b[0m             \u001b[0;32mif\u001b[0m \u001b[0mengine\u001b[0m \u001b[0;34m==\u001b[0m \u001b[0;34m\"python\"\u001b[0m\u001b[0;34m:\u001b[0m\u001b[0;34m\u001b[0m\u001b[0;34m\u001b[0m\u001b[0m\n",
      "\u001b[0;32m/usr/local/lib/python3.6/dist-packages/pandas/io/parsers.py\u001b[0m in \u001b[0;36m__init__\u001b[0;34m(self, src, **kwds)\u001b[0m\n\u001b[1;32m   1889\u001b[0m         \u001b[0mkwds\u001b[0m\u001b[0;34m[\u001b[0m\u001b[0;34m\"usecols\"\u001b[0m\u001b[0;34m]\u001b[0m \u001b[0;34m=\u001b[0m \u001b[0mself\u001b[0m\u001b[0;34m.\u001b[0m\u001b[0musecols\u001b[0m\u001b[0;34m\u001b[0m\u001b[0;34m\u001b[0m\u001b[0m\n\u001b[1;32m   1890\u001b[0m \u001b[0;34m\u001b[0m\u001b[0m\n\u001b[0;32m-> 1891\u001b[0;31m         \u001b[0mself\u001b[0m\u001b[0;34m.\u001b[0m\u001b[0m_reader\u001b[0m \u001b[0;34m=\u001b[0m \u001b[0mparsers\u001b[0m\u001b[0;34m.\u001b[0m\u001b[0mTextReader\u001b[0m\u001b[0;34m(\u001b[0m\u001b[0msrc\u001b[0m\u001b[0;34m,\u001b[0m \u001b[0;34m**\u001b[0m\u001b[0mkwds\u001b[0m\u001b[0;34m)\u001b[0m\u001b[0;34m\u001b[0m\u001b[0;34m\u001b[0m\u001b[0m\n\u001b[0m\u001b[1;32m   1892\u001b[0m         \u001b[0mself\u001b[0m\u001b[0;34m.\u001b[0m\u001b[0munnamed_cols\u001b[0m \u001b[0;34m=\u001b[0m \u001b[0mself\u001b[0m\u001b[0;34m.\u001b[0m\u001b[0m_reader\u001b[0m\u001b[0;34m.\u001b[0m\u001b[0munnamed_cols\u001b[0m\u001b[0;34m\u001b[0m\u001b[0;34m\u001b[0m\u001b[0m\n\u001b[1;32m   1893\u001b[0m \u001b[0;34m\u001b[0m\u001b[0m\n",
      "\u001b[0;32mpandas/_libs/parsers.pyx\u001b[0m in \u001b[0;36mpandas._libs.parsers.TextReader.__cinit__\u001b[0;34m()\u001b[0m\n",
      "\u001b[0;32mpandas/_libs/parsers.pyx\u001b[0m in \u001b[0;36mpandas._libs.parsers.TextReader._setup_parser_source\u001b[0;34m()\u001b[0m\n",
      "\u001b[0;31mFileNotFoundError\u001b[0m: [Errno 2] File dankmemes_task1_train.csv does not exist: 'dankmemes_task1_train.csv'"
     ]
    }
   ],
   "source": [
    "import pandas as pd\n",
    "\n",
    "df = pd.read_csv('dankmemes_task1_train.csv')\n",
    "embedding = pd.read_csv('dankmemes_task1_train_embeddings.csv', header=None)"
   ]
  },
  {
   "cell_type": "code",
   "execution_count": 2,
   "metadata": {
    "colab": {},
    "colab_type": "code",
    "executionInfo": {
     "elapsed": 28343,
     "status": "ok",
     "timestamp": 1596869256537,
     "user": {
      "displayName": "Jinen Setpal",
      "photoUrl": "https://lh3.googleusercontent.com/a-/AOh14Gipe8JNdbgo-vHXJYvyjvR1hfRzal9h_g3W2DwUWHY=s64",
      "userId": "01891518843930644308"
     },
     "user_tz": -330
    },
    "id": "ibcTrVTmBrCN"
   },
   "outputs": [],
   "source": [
    "import tensorflow as tf\n",
    "from tensorflow.keras import Model\n",
    "\n",
    "class MyModel(Model):\n",
    "  def __init__(self):\n",
    "    super(MyModel, self).__init__()\n",
    "    self.dense1 = tf.keras.layers.Dense(1024, activation=tf.keras.activations.relu)\n",
    "    self.drop = tf.keras.layers.Dropout(rate=0.5)\n",
    "    self.dense2 = tf.keras.layers.Dense(512, activation=tf.keras.activations.relu)\n",
    "    self.dense3 = tf.keras.layers.Dense(128, activation=tf.keras.activations.relu)\n",
    "    self.dense4 = tf.keras.layers.Dense(32, activation=tf.keras.activations.relu)\n",
    "    self.dense5 = tf.keras.layers.Dense(1, activation=tf.keras.activations.sigmoid) \n",
    "\n",
    "  def call(self, x):\n",
    "    x = self.dense1(x)\n",
    "    x = self.drop(x)\n",
    "    x = self.dense2(x)\n",
    "    x = self.dense3(x)\n",
    "    x = self.dense4(x)\n",
    "    return self.dense5(x)\n",
    "\n",
    "model = MyModel()"
   ]
  },
  {
   "cell_type": "code",
   "execution_count": 3,
   "metadata": {
    "colab": {},
    "colab_type": "code",
    "executionInfo": {
     "elapsed": 28338,
     "status": "ok",
     "timestamp": 1596869256539,
     "user": {
      "displayName": "Jinen Setpal",
      "photoUrl": "https://lh3.googleusercontent.com/a-/AOh14Gipe8JNdbgo-vHXJYvyjvR1hfRzal9h_g3W2DwUWHY=s64",
      "userId": "01891518843930644308"
     },
     "user_tz": -330
    },
    "id": "JRzGL7_6FjqF"
   },
   "outputs": [],
   "source": [
    "loss_object = tf.keras.losses.BinaryCrossentropy(from_logits=False)\n",
    "optimizer = tf.keras.optimizers.RMSprop()"
   ]
  },
  {
   "cell_type": "code",
   "execution_count": 4,
   "metadata": {
    "colab": {},
    "colab_type": "code",
    "executionInfo": {
     "elapsed": 28336,
     "status": "ok",
     "timestamp": 1596869256541,
     "user": {
      "displayName": "Jinen Setpal",
      "photoUrl": "https://lh3.googleusercontent.com/a-/AOh14Gipe8JNdbgo-vHXJYvyjvR1hfRzal9h_g3W2DwUWHY=s64",
      "userId": "01891518843930644308"
     },
     "user_tz": -330
    },
    "id": "04qDSq6UGGyW"
   },
   "outputs": [],
   "source": [
    "train_loss = tf.keras.metrics.Mean(name='train_loss')\n",
    "train_accuracy = tf.keras.metrics.BinaryAccuracy(name='train_accuracy')\n",
    "\n",
    "test_loss = tf.keras.metrics.Mean(name='test_loss')\n",
    "test_accuracy = tf.keras.metrics.BinaryAccuracy(name='test_accuracy')"
   ]
  },
  {
   "cell_type": "code",
   "execution_count": 5,
   "metadata": {
    "colab": {},
    "colab_type": "code",
    "executionInfo": {
     "elapsed": 28335,
     "status": "ok",
     "timestamp": 1596869256543,
     "user": {
      "displayName": "Jinen Setpal",
      "photoUrl": "https://lh3.googleusercontent.com/a-/AOh14Gipe8JNdbgo-vHXJYvyjvR1hfRzal9h_g3W2DwUWHY=s64",
      "userId": "01891518843930644308"
     },
     "user_tz": -330
    },
    "id": "9Wx0v9sXGRzw"
   },
   "outputs": [],
   "source": [
    "@tf.function\n",
    "def train_step(images, labels):\n",
    "  with tf.GradientTape() as tape:\n",
    "    predictions = model(images, training=True)\n",
    "    loss = loss_object(labels, predictions)\n",
    "  gradients = tape.gradient(loss, model.trainable_variables)\n",
    "  optimizer.apply_gradients(zip(gradients, model.trainable_variables))\n",
    "\n",
    "  train_loss(loss)\n",
    "  train_accuracy(labels, predictions)"
   ]
  },
  {
   "cell_type": "code",
   "execution_count": 6,
   "metadata": {
    "colab": {},
    "colab_type": "code",
    "executionInfo": {
     "elapsed": 28334,
     "status": "ok",
     "timestamp": 1596869256547,
     "user": {
      "displayName": "Jinen Setpal",
      "photoUrl": "https://lh3.googleusercontent.com/a-/AOh14Gipe8JNdbgo-vHXJYvyjvR1hfRzal9h_g3W2DwUWHY=s64",
      "userId": "01891518843930644308"
     },
     "user_tz": -330
    },
    "id": "Ln_uIdPEGapm"
   },
   "outputs": [],
   "source": [
    "@tf.function\n",
    "def test_step(images, labels):\n",
    "  predictions = model(images, training=False)\n",
    "  t_loss = loss_object(labels, predictions)\n",
    "\n",
    "  test_loss(t_loss)\n",
    "  test_accuracy(labels, predictions)"
   ]
  },
  {
   "cell_type": "code",
   "execution_count": 7,
   "metadata": {
    "colab": {},
    "colab_type": "code",
    "executionInfo": {
     "elapsed": 28332,
     "status": "ok",
     "timestamp": 1596869256548,
     "user": {
      "displayName": "Jinen Setpal",
      "photoUrl": "https://lh3.googleusercontent.com/a-/AOh14Gipe8JNdbgo-vHXJYvyjvR1hfRzal9h_g3W2DwUWHY=s64",
      "userId": "01891518843930644308"
     },
     "user_tz": -330
    },
    "id": "sKK3zJgZGdbr"
   },
   "outputs": [],
   "source": [
    "def ds_from_df(df, shuffle=True, batch_size=32):\n",
    "  dataframe = dataframe.copy()\n",
    "  labels = dataframe.pop('Meme')\n",
    "  ds = tf.data.Dataset.from_tensor_slices((dict(dataframe), labels))\n",
    "  if shuffle:\n",
    "    ds = ds.shuffle(buffer_size=len(dataframe))\n",
    "  ds = ds.batch(batch_size)\n",
    "  return ds"
   ]
  },
  {
   "cell_type": "code",
   "execution_count": 8,
   "metadata": {
    "colab": {},
    "colab_type": "code",
    "executionInfo": {
     "elapsed": 28332,
     "status": "ok",
     "timestamp": 1596869256550,
     "user": {
      "displayName": "Jinen Setpal",
      "photoUrl": "https://lh3.googleusercontent.com/a-/AOh14Gipe8JNdbgo-vHXJYvyjvR1hfRzal9h_g3W2DwUWHY=s64",
      "userId": "01891518843930644308"
     },
     "user_tz": -330
    },
    "id": "1nad8SZqN9Mh"
   },
   "outputs": [],
   "source": [
    "def create_map():\n",
    "  temp = df[['Visual']].values\n",
    "  counter = 0\n",
    "  map = {}\n",
    "  for i in temp:\n",
    "    for j in i[0].split():\n",
    "      if j.strip(',') not in map and j.strip(',') != '0':\n",
    "        map[j.strip(',')] = counter\n",
    "        counter += 1\n",
    "  return map"
   ]
  },
  {
   "cell_type": "code",
   "execution_count": 9,
   "metadata": {
    "colab": {},
    "colab_type": "code",
    "executionInfo": {
     "elapsed": 28330,
     "status": "ok",
     "timestamp": 1596869256552,
     "user": {
      "displayName": "Jinen Setpal",
      "photoUrl": "https://lh3.googleusercontent.com/a-/AOh14Gipe8JNdbgo-vHXJYvyjvR1hfRzal9h_g3W2DwUWHY=s64",
      "userId": "01891518843930644308"
     },
     "user_tz": -330
    },
    "id": "M5z7SNzLS3KI"
   },
   "outputs": [],
   "source": [
    "def ohe(map):\n",
    "  one_hot_encode = []\n",
    "  temp = df[['Visual']].values\n",
    "\n",
    "  for i in temp:\n",
    "    arr = list(np.zeros(len(map),dtype=int))\n",
    "    for j in i[0].split():\n",
    "      if j.strip(',') != '0':\n",
    "        arr[map[j.strip(',')]] = 1\n",
    "    one_hot_encode.append(arr)\n",
    "  return np.array(one_hot_encode)"
   ]
  },
  {
   "cell_type": "code",
   "execution_count": 10,
   "metadata": {
    "colab": {},
    "colab_type": "code",
    "executionInfo": {
     "elapsed": 28328,
     "status": "ok",
     "timestamp": 1596869256553,
     "user": {
      "displayName": "Jinen Setpal",
      "photoUrl": "https://lh3.googleusercontent.com/a-/AOh14Gipe8JNdbgo-vHXJYvyjvR1hfRzal9h_g3W2DwUWHY=s64",
      "userId": "01891518843930644308"
     },
     "user_tz": -330
    },
    "id": "JBUEJgdiiyvV"
   },
   "outputs": [],
   "source": [
    "def augment(training):\n",
    "  training = np.repeat(training, 10, axis=0)\n",
    "  for i in range(0, len(temp), 10):\n",
    "    for j in range(len(X)):\n",
    "        if (training[i][:1000] == X[j][:1000]).all():\n",
    "          for k in range(1, 10):\n",
    "            training[i+k] = np.concatenate([X[i+k][:1000], training[i+k][1000:]])\n",
    "          break\n",
    "  return training"
   ]
  },
  {
   "cell_type": "code",
   "execution_count": 11,
   "metadata": {
    "colab": {},
    "colab_type": "code",
    "executionInfo": {
     "elapsed": 28326,
     "status": "ok",
     "timestamp": 1596869256555,
     "user": {
      "displayName": "Jinen Setpal",
      "photoUrl": "https://lh3.googleusercontent.com/a-/AOh14Gipe8JNdbgo-vHXJYvyjvR1hfRzal9h_g3W2DwUWHY=s64",
      "userId": "01891518843930644308"
     },
     "user_tz": -330
    },
    "id": "zMTkRkPxzeqU"
   },
   "outputs": [],
   "source": [
    "def get_X(temp):\n",
    "  res = []\n",
    "  for i in range(0, len(temp), 10):\n",
    "    res.append(temp[i])\n",
    "  return np.array(res)"
   ]
  },
  {
   "cell_type": "code",
   "execution_count": 12,
   "metadata": {
    "colab": {
     "base_uri": "https://localhost:8080/",
     "height": 236
    },
    "colab_type": "code",
    "executionInfo": {
     "elapsed": 28336,
     "status": "error",
     "timestamp": 1596869256569,
     "user": {
      "displayName": "Jinen Setpal",
      "photoUrl": "https://lh3.googleusercontent.com/a-/AOh14Gipe8JNdbgo-vHXJYvyjvR1hfRzal9h_g3W2DwUWHY=s64",
      "userId": "01891518843930644308"
     },
     "user_tz": -330
    },
    "id": "tWG59jgqHVuQ",
    "outputId": "df89ed73-a015-4d7f-84f0-cba2acec5dbc"
   },
   "outputs": [
    {
     "ename": "FileNotFoundError",
     "evalue": "ignored",
     "output_type": "error",
     "traceback": [
      "\u001b[0;31m---------------------------------------------------------------------------\u001b[0m",
      "\u001b[0;31mFileNotFoundError\u001b[0m                         Traceback (most recent call last)",
      "\u001b[0;32m<ipython-input-12-3428daa33568>\u001b[0m in \u001b[0;36m<module>\u001b[0;34m()\u001b[0m\n\u001b[1;32m      2\u001b[0m \u001b[0;32mimport\u001b[0m \u001b[0mpickle\u001b[0m\u001b[0;34m\u001b[0m\u001b[0;34m\u001b[0m\u001b[0m\n\u001b[1;32m      3\u001b[0m \u001b[0;34m\u001b[0m\u001b[0m\n\u001b[0;32m----> 4\u001b[0;31m \u001b[0mX\u001b[0m\u001b[0;34m,\u001b[0m \u001b[0my\u001b[0m \u001b[0;34m=\u001b[0m \u001b[0mget_X\u001b[0m\u001b[0;34m(\u001b[0m\u001b[0mpickle\u001b[0m\u001b[0;34m.\u001b[0m\u001b[0mload\u001b[0m\u001b[0;34m(\u001b[0m\u001b[0mopen\u001b[0m\u001b[0;34m(\u001b[0m\u001b[0;34m'resnest_embeddings.pkl'\u001b[0m\u001b[0;34m,\u001b[0m \u001b[0;34m'rb'\u001b[0m\u001b[0;34m)\u001b[0m\u001b[0;34m)\u001b[0m\u001b[0;34m)\u001b[0m\u001b[0;34m,\u001b[0m \u001b[0mdf\u001b[0m\u001b[0;34m[\u001b[0m\u001b[0;34m[\u001b[0m\u001b[0;34m'Meme'\u001b[0m\u001b[0;34m]\u001b[0m\u001b[0;34m]\u001b[0m\u001b[0;34m.\u001b[0m\u001b[0mvalues\u001b[0m\u001b[0;34m\u001b[0m\u001b[0;34m\u001b[0m\u001b[0m\n\u001b[0m\u001b[1;32m      5\u001b[0m \u001b[0;31m# X, y = np.array([embedding[1][i].split() for i in range(1600)]).astype(float), df[['Meme']].values\u001b[0m\u001b[0;34m\u001b[0m\u001b[0;34m\u001b[0m\u001b[0;34m\u001b[0m\u001b[0m\n",
      "\u001b[0;31mFileNotFoundError\u001b[0m: [Errno 2] No such file or directory: 'resnest_embeddings.pkl'"
     ]
    }
   ],
   "source": [
    "import numpy as np\n",
    "import pickle\n",
    "\n",
    "X, y = get_X(pickle.load(open('resnest_embeddings.pkl', 'rb'))), df[['Meme']].values\n",
    "# X, y = np.array([embedding[1][i].split() for i in range(1600)]).astype(float), df[['Meme']].values"
   ]
  },
  {
   "cell_type": "code",
   "execution_count": null,
   "metadata": {
    "colab": {},
    "colab_type": "code",
    "id": "2j8VeymhHdTa"
   },
   "outputs": [],
   "source": [
    "from sklearn.preprocessing import StandardScaler, MinMaxScaler, OneHotEncoder\n",
    "\n",
    "ssc = StandardScaler()\n",
    "mms = MinMaxScaler()"
   ]
  },
  {
   "cell_type": "code",
   "execution_count": null,
   "metadata": {
    "colab": {
     "base_uri": "https://localhost:8080/",
     "height": 172
    },
    "colab_type": "code",
    "executionInfo": {
     "elapsed": 1813,
     "status": "ok",
     "timestamp": 1596838453842,
     "user": {
      "displayName": "Jinen Setpal",
      "photoUrl": "https://lh3.googleusercontent.com/a-/AOh14Gipe8JNdbgo-vHXJYvyjvR1hfRzal9h_g3W2DwUWHY=s64",
      "userId": "01891518843930644308"
     },
     "user_tz": -330
    },
    "id": "RSFo01qhHY0s",
    "outputId": "6cf104fc-f98e-4c22-c5ed-91c7a3d7d810"
   },
   "outputs": [
    {
     "name": "stdout",
     "output_type": "stream",
     "text": [
      "(1600, 1)\n",
      "(1600, 1001)\n",
      "(1600, 1)\n",
      "(1600, 1002)\n",
      "(1600, 71)\n",
      "(1600, 1073)\n",
      "(1600, 768)\n",
      "(1600, 1841)\n"
     ]
    }
   ],
   "source": [
    "import pickle\n",
    "from datetime import date\n",
    "\n",
    "temp = mms.fit_transform(np.array([(date(int(i[0].split('-')[0]), int(i[0].split('-')[1]), int(i[0].split('-')[2])) - date(2015, 1, 1)).days for i in df[['Date']].values.tolist()]).reshape(1600, 1))\n",
    "print(temp.shape)\n",
    "X = np.hstack((X, temp))\n",
    "print(X.shape)\n",
    "\n",
    "temp = ssc.fit_transform(df[['Engagement']].values)\n",
    "print(temp.shape)\n",
    "X = np.hstack((X, temp))\n",
    "print(X.shape)\n",
    "\n",
    "temp = ohe(create_map())\n",
    "print(temp.shape)\n",
    "X = np.hstack((X, temp))\n",
    "print(X.shape)\n",
    "\n",
    "temp = pickle.load(open('bert_embeddings.pkl', 'rb'))\n",
    "print(temp.shape)\n",
    "X = np.hstack((X, temp))\n",
    "print(X.shape)"
   ]
  },
  {
   "cell_type": "code",
   "execution_count": null,
   "metadata": {
    "colab": {},
    "colab_type": "code",
    "executionInfo": {
     "elapsed": 28308,
     "status": "aborted",
     "timestamp": 1596869256556,
     "user": {
      "displayName": "Jinen Setpal",
      "photoUrl": "https://lh3.googleusercontent.com/a-/AOh14Gipe8JNdbgo-vHXJYvyjvR1hfRzal9h_g3W2DwUWHY=s64",
      "userId": "01891518843930644308"
     },
     "user_tz": -330
    },
    "id": "V9jCpHDO1_Ig"
   },
   "outputs": [],
   "source": [
    "print(X.shape, X_train.shape, y_train.shape, X_test.shape, y_test.shape)"
   ]
  },
  {
   "cell_type": "code",
   "execution_count": null,
   "metadata": {
    "colab": {},
    "colab_type": "code",
    "executionInfo": {
     "elapsed": 28305,
     "status": "aborted",
     "timestamp": 1596869256557,
     "user": {
      "displayName": "Jinen Setpal",
      "photoUrl": "https://lh3.googleusercontent.com/a-/AOh14Gipe8JNdbgo-vHXJYvyjvR1hfRzal9h_g3W2DwUWHY=s64",
      "userId": "01891518843930644308"
     },
     "user_tz": -330
    },
    "id": "77oUZHfJHpV3"
   },
   "outputs": [],
   "source": [
    "from sklearn.model_selection import train_test_split\n",
    "\n",
    "X_train, X_test, y_train, y_test = train_test_split(X, y, test_size=0.2, stratify=y)\n",
    "# X_train = augment(X_train)\n",
    "# y_train = np.repeat(y_train, 10, axis=0)\n",
    "\n",
    "ds_train = tf.data.Dataset.from_tensor_slices((X_train, y_train))\n",
    "ds_test = tf.data.Dataset.from_tensor_slices((X_test, y_test))"
   ]
  },
  {
   "cell_type": "code",
   "execution_count": null,
   "metadata": {
    "colab": {},
    "colab_type": "code",
    "executionInfo": {
     "elapsed": 28300,
     "status": "aborted",
     "timestamp": 1596869256560,
     "user": {
      "displayName": "Jinen Setpal",
      "photoUrl": "https://lh3.googleusercontent.com/a-/AOh14Gipe8JNdbgo-vHXJYvyjvR1hfRzal9h_g3W2DwUWHY=s64",
      "userId": "01891518843930644308"
     },
     "user_tz": -330
    },
    "id": "T1Yl52BIH0-C"
   },
   "outputs": [],
   "source": [
    "print(ds_train)\n",
    "print(ds_test)"
   ]
  },
  {
   "cell_type": "code",
   "execution_count": null,
   "metadata": {
    "colab": {},
    "colab_type": "code",
    "executionInfo": {
     "elapsed": 28298,
     "status": "aborted",
     "timestamp": 1596869256562,
     "user": {
      "displayName": "Jinen Setpal",
      "photoUrl": "https://lh3.googleusercontent.com/a-/AOh14Gipe8JNdbgo-vHXJYvyjvR1hfRzal9h_g3W2DwUWHY=s64",
      "userId": "01891518843930644308"
     },
     "user_tz": -330
    },
    "id": "fiF3Ss4oH-cD"
   },
   "outputs": [],
   "source": [
    "buffer_size = 10000\n",
    "batch_size = 128\n",
    "num_epochs = 100"
   ]
  },
  {
   "cell_type": "code",
   "execution_count": null,
   "metadata": {
    "colab": {},
    "colab_type": "code",
    "executionInfo": {
     "elapsed": 28298,
     "status": "aborted",
     "timestamp": 1596869256566,
     "user": {
      "displayName": "Jinen Setpal",
      "photoUrl": "https://lh3.googleusercontent.com/a-/AOh14Gipe8JNdbgo-vHXJYvyjvR1hfRzal9h_g3W2DwUWHY=s64",
      "userId": "01891518843930644308"
     },
     "user_tz": -330
    },
    "id": "sarCqMdvIRV6"
   },
   "outputs": [],
   "source": [
    "ds_train = ds_train.shuffle(buffer_size=buffer_size,\n",
    "                            reshuffle_each_iteration=False)\n",
    "ds_test = ds_test.batch(batch_size)\n",
    "ds_train = ds_train.batch(batch_size)"
   ]
  },
  {
   "cell_type": "code",
   "execution_count": null,
   "metadata": {
    "colab": {},
    "colab_type": "code",
    "executionInfo": {
     "elapsed": 28292,
     "status": "aborted",
     "timestamp": 1596869256568,
     "user": {
      "displayName": "Jinen Setpal",
      "photoUrl": "https://lh3.googleusercontent.com/a-/AOh14Gipe8JNdbgo-vHXJYvyjvR1hfRzal9h_g3W2DwUWHY=s64",
      "userId": "01891518843930644308"
     },
     "user_tz": -330
    },
    "id": "PTRkOMruIS8I"
   },
   "outputs": [],
   "source": [
    "for epoch in range(110):\n",
    "  train_loss.reset_states()\n",
    "  train_accuracy.reset_states()\n",
    "  test_loss.reset_states()\n",
    "  test_accuracy.reset_states()\n",
    "\n",
    "  for features, labels in ds_train:\n",
    "    train_step(features, labels)\n",
    "\n",
    "  for test_features, test_labels in ds_test:\n",
    "    test_step(test_features, test_labels)\n",
    "\n",
    "  template = 'Epoch {}, Loss: {}, Accuracy: {}, Test Loss: {}, Test Accuracy: {}'\n",
    "  print(template.format(epoch + 1,\n",
    "                        train_loss.result(),\n",
    "                        train_accuracy.result() * 100,\n",
    "                        test_loss.result(),\n",
    "                        test_accuracy.result() * 100))\n",
    "  # if test_accuracy.result() > 0.90 and train_accuracy.result() > 0.90:\n",
    "    # break"
   ]
  },
  {
   "cell_type": "code",
   "execution_count": null,
   "metadata": {
    "colab": {},
    "colab_type": "code",
    "id": "sbHDCRmbk2Jf"
   },
   "outputs": [],
   "source": [
    "model.save('models/augmented_backpropogation')\n",
    "! cp -r models ./drive/My\\ Drive/Colab\\ Notebooks/"
   ]
  }
 ],
 "metadata": {
  "colab": {
   "authorship_tag": "ABX9TyNrktfV3MQWdIWWyZwQuKjE",
   "collapsed_sections": [],
   "mount_file_id": "1iVKUCfWIzyQjrHAU8xeapy0T0Zg8YDOQ",
   "name": "reworked_backprop.ipynb",
   "provenance": [],
   "toc_visible": true
  },
  "kernelspec": {
   "display_name": "Python 3 (ipykernel)",
   "language": "python",
   "name": "python3"
  },
  "language_info": {
   "codemirror_mode": {
    "name": "ipython",
    "version": 3
   },
   "file_extension": ".py",
   "mimetype": "text/x-python",
   "name": "python",
   "nbconvert_exporter": "python",
   "pygments_lexer": "ipython3",
   "version": "3.10.4"
  }
 },
 "nbformat": 4,
 "nbformat_minor": 1
}
