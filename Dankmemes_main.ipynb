{
 "cells": [
  {
   "cell_type": "markdown",
   "id": "b89fcfa5",
   "metadata": {},
   "source": [
    "#**1) PRE-PROCESSING**\n",
    "\n",
    "---\n"
   ]
  },
  {
   "cell_type": "code",
   "execution_count": 1,
   "id": "51dee2e1",
   "metadata": {},
   "outputs": [],
   "source": [
    "import warnings\n",
    "warnings.filterwarnings('ignore')\n",
    "\n",
    "import numpy as np\n",
    "import pandas as pd\n",
    "import string\n",
    "\n",
    "# Graphics Libs\n",
    "import matplotlib.pyplot as plt\n",
    "%matplotlib inline\n",
    "plt.rcParams['figure.figsize'] = 18, 8\n",
    "import seaborn as sns\n",
    "\n",
    "# nlp libraries\n",
    "import nltk"
   ]
  },
  {
   "cell_type": "code",
   "execution_count": 2,
   "id": "f1c8309f",
   "metadata": {},
   "outputs": [
    {
     "name": "stderr",
     "output_type": "stream",
     "text": [
      "[nltk_data] Downloading package stopwords to\n",
      "[nltk_data]     C:\\Users\\Lenovo\\AppData\\Roaming\\nltk_data...\n",
      "[nltk_data]   Package stopwords is already up-to-date!\n"
     ]
    },
    {
     "data": {
      "text/plain": [
       "True"
      ]
     },
     "execution_count": 2,
     "metadata": {},
     "output_type": "execute_result"
    }
   ],
   "source": [
    "nltk.download('stopwords')"
   ]
  },
  {
   "cell_type": "code",
   "execution_count": 3,
   "id": "f56aff50",
   "metadata": {},
   "outputs": [
    {
     "data": {
      "text/html": [
       "<div>\n",
       "<style scoped>\n",
       "    .dataframe tbody tr th:only-of-type {\n",
       "        vertical-align: middle;\n",
       "    }\n",
       "\n",
       "    .dataframe tbody tr th {\n",
       "        vertical-align: top;\n",
       "    }\n",
       "\n",
       "    .dataframe thead th {\n",
       "        text-align: right;\n",
       "    }\n",
       "</style>\n",
       "<table border=\"1\" class=\"dataframe\">\n",
       "  <thead>\n",
       "    <tr style=\"text-align: right;\">\n",
       "      <th></th>\n",
       "      <th>File</th>\n",
       "      <th>Engagement</th>\n",
       "      <th>Manipulation</th>\n",
       "      <th>Visual</th>\n",
       "      <th>Text</th>\n",
       "      <th>Hate Speech</th>\n",
       "    </tr>\n",
       "  </thead>\n",
       "  <tbody>\n",
       "    <tr>\n",
       "      <th>0</th>\n",
       "      <td>1000.jpg</td>\n",
       "      <td>381</td>\n",
       "      <td>0</td>\n",
       "      <td>0</td>\n",
       "      <td>quando ti chiedono se sia peggiore fratelli d'...</td>\n",
       "      <td>1</td>\n",
       "    </tr>\n",
       "    <tr>\n",
       "      <th>1</th>\n",
       "      <td>1001.jpg</td>\n",
       "      <td>142</td>\n",
       "      <td>1</td>\n",
       "      <td>0</td>\n",
       "      <td>conte entra in un negozio di telefonia e passa...</td>\n",
       "      <td>0</td>\n",
       "    </tr>\n",
       "    <tr>\n",
       "      <th>2</th>\n",
       "      <td>1002.jpg</td>\n",
       "      <td>3598</td>\n",
       "      <td>1</td>\n",
       "      <td>Di Maio, Zingaretti, Berlusconi, Salvini</td>\n",
       "      <td>i politicanti italici non vedono l'ora di anda...</td>\n",
       "      <td>1</td>\n",
       "    </tr>\n",
       "    <tr>\n",
       "      <th>3</th>\n",
       "      <td>1003.jpg</td>\n",
       "      <td>165</td>\n",
       "      <td>1</td>\n",
       "      <td>Salvini, Renzi</td>\n",
       "      <td>sono scemo. io di più. scemo &amp; più scemo</td>\n",
       "      <td>1</td>\n",
       "    </tr>\n",
       "    <tr>\n",
       "      <th>4</th>\n",
       "      <td>1004.jpg</td>\n",
       "      <td>44</td>\n",
       "      <td>0</td>\n",
       "      <td>0</td>\n",
       "      <td>beppe grillo (2017) genova, 21 luglio 1948 pol...</td>\n",
       "      <td>0</td>\n",
       "    </tr>\n",
       "  </tbody>\n",
       "</table>\n",
       "</div>"
      ],
      "text/plain": [
       "       File  Engagement  Manipulation  \\\n",
       "0  1000.jpg         381             0   \n",
       "1  1001.jpg         142             1   \n",
       "2  1002.jpg        3598             1   \n",
       "3  1003.jpg         165             1   \n",
       "4  1004.jpg          44             0   \n",
       "\n",
       "                                     Visual  \\\n",
       "0                                         0   \n",
       "1                                         0   \n",
       "2  Di Maio, Zingaretti, Berlusconi, Salvini   \n",
       "3                            Salvini, Renzi   \n",
       "4                                         0   \n",
       "\n",
       "                                                Text  Hate Speech  \n",
       "0  quando ti chiedono se sia peggiore fratelli d'...            1  \n",
       "1  conte entra in un negozio di telefonia e passa...            0  \n",
       "2  i politicanti italici non vedono l'ora di anda...            1  \n",
       "3           sono scemo. io di più. scemo & più scemo            1  \n",
       "4  beppe grillo (2017) genova, 21 luglio 1948 pol...            0  "
      ]
     },
     "execution_count": 3,
     "metadata": {},
     "output_type": "execute_result"
    }
   ],
   "source": [
    "DATA_PATH = 'datasets/dankmemes_task2_train.csv'\n",
    "data = pd.read_csv(DATA_PATH)\n",
    "data.head()"
   ]
  },
  {
   "cell_type": "code",
   "execution_count": 4,
   "id": "467b69be",
   "metadata": {},
   "outputs": [
    {
     "data": {
      "text/html": [
       "<div>\n",
       "<style scoped>\n",
       "    .dataframe tbody tr th:only-of-type {\n",
       "        vertical-align: middle;\n",
       "    }\n",
       "\n",
       "    .dataframe tbody tr th {\n",
       "        vertical-align: top;\n",
       "    }\n",
       "\n",
       "    .dataframe thead th {\n",
       "        text-align: right;\n",
       "    }\n",
       "</style>\n",
       "<table border=\"1\" class=\"dataframe\">\n",
       "  <thead>\n",
       "    <tr style=\"text-align: right;\">\n",
       "      <th></th>\n",
       "      <th>Engagement</th>\n",
       "      <th>Manipulation</th>\n",
       "      <th>Hate Speech</th>\n",
       "    </tr>\n",
       "  </thead>\n",
       "  <tbody>\n",
       "    <tr>\n",
       "      <th>count</th>\n",
       "      <td>800.000000</td>\n",
       "      <td>800.000000</td>\n",
       "      <td>800.000000</td>\n",
       "    </tr>\n",
       "    <tr>\n",
       "      <th>mean</th>\n",
       "      <td>587.813750</td>\n",
       "      <td>0.370000</td>\n",
       "      <td>0.493750</td>\n",
       "    </tr>\n",
       "    <tr>\n",
       "      <th>std</th>\n",
       "      <td>2298.689127</td>\n",
       "      <td>0.483106</td>\n",
       "      <td>0.500274</td>\n",
       "    </tr>\n",
       "    <tr>\n",
       "      <th>min</th>\n",
       "      <td>0.000000</td>\n",
       "      <td>0.000000</td>\n",
       "      <td>0.000000</td>\n",
       "    </tr>\n",
       "    <tr>\n",
       "      <th>25%</th>\n",
       "      <td>18.000000</td>\n",
       "      <td>0.000000</td>\n",
       "      <td>0.000000</td>\n",
       "    </tr>\n",
       "    <tr>\n",
       "      <th>50%</th>\n",
       "      <td>57.000000</td>\n",
       "      <td>0.000000</td>\n",
       "      <td>0.000000</td>\n",
       "    </tr>\n",
       "    <tr>\n",
       "      <th>75%</th>\n",
       "      <td>228.250000</td>\n",
       "      <td>1.000000</td>\n",
       "      <td>1.000000</td>\n",
       "    </tr>\n",
       "    <tr>\n",
       "      <th>max</th>\n",
       "      <td>38994.000000</td>\n",
       "      <td>1.000000</td>\n",
       "      <td>1.000000</td>\n",
       "    </tr>\n",
       "  </tbody>\n",
       "</table>\n",
       "</div>"
      ],
      "text/plain": [
       "         Engagement  Manipulation  Hate Speech\n",
       "count    800.000000    800.000000   800.000000\n",
       "mean     587.813750      0.370000     0.493750\n",
       "std     2298.689127      0.483106     0.500274\n",
       "min        0.000000      0.000000     0.000000\n",
       "25%       18.000000      0.000000     0.000000\n",
       "50%       57.000000      0.000000     0.000000\n",
       "75%      228.250000      1.000000     1.000000\n",
       "max    38994.000000      1.000000     1.000000"
      ]
     },
     "execution_count": 4,
     "metadata": {},
     "output_type": "execute_result"
    }
   ],
   "source": [
    "data.describe()"
   ]
  },
  {
   "cell_type": "code",
   "execution_count": 5,
   "id": "956d9d68",
   "metadata": {},
   "outputs": [
    {
     "data": {
      "text/plain": [
       "File            object\n",
       "Engagement       int64\n",
       "Manipulation     int64\n",
       "Visual          object\n",
       "Text            object\n",
       "Hate Speech      int64\n",
       "dtype: object"
      ]
     },
     "execution_count": 5,
     "metadata": {},
     "output_type": "execute_result"
    }
   ],
   "source": [
    "data.dtypes"
   ]
  },
  {
   "cell_type": "code",
   "execution_count": 7,
   "id": "d2bce79a",
   "metadata": {},
   "outputs": [
    {
     "data": {
      "image/png": "[encoded data removed]",
      "text/plain": [
       "<Figure size 1296x576 with 1 Axes>"
      ]
     },
     "metadata": {
      "needs_background": "light"
     },
     "output_type": "display_data"
    }
   ],
   "source": [
    "# Count the number of memes and non-memes\n",
    "number_of_memes = data['Hate Speech'].sum()\n",
    "number_of_non_memes = len(data) - number_of_memes\n",
    "\n",
    "\n",
    "\n",
    "# Create the bar plot\n",
    "plt.bar(['Hate', 'Non-hate'], [number_of_memes, number_of_non_memes], color=['#8fce00', '#ff1100'])\n",
    "\n",
    "# Set labels and title\n",
    "plt.xlabel('Type', labelpad=20)\n",
    "plt.ylabel('Number of Images', labelpad=20)\n",
    "plt.title('Number of Memes and Non-Memes in the Dataset')\n",
    "\n",
    "# Show the plot\n",
    "plt.show()"
   ]
  },
  {
   "cell_type": "code",
   "execution_count": 9,
   "id": "188808d4",
   "metadata": {},
   "outputs": [
    {
     "data": {
      "image/png": "[encoded data removed]",
      "text/plain": [
       "<Figure size 1296x576 with 1 Axes>"
      ]
     },
     "metadata": {},
     "output_type": "display_data"
    }
   ],
   "source": [
    "count = data['Hate Speech'].value_counts()\n",
    "labels = ['Not hate', 'Hate']\n",
    "\n",
    "plt.pie(count, \n",
    "        labels=labels,\n",
    "        autopct = '%1.2f%%')\n",
    "plt.axis('equal') # center the plot\n",
    "plt.title('Target values \\n\\n', fontsize = 16)\n",
    "plt.show()"
   ]
  },
  {
   "cell_type": "code",
   "execution_count": 11,
   "id": "469f8c7a",
   "metadata": {},
   "outputs": [
    {
     "data": {
      "text/html": [
       "<div>\n",
       "<style scoped>\n",
       "    .dataframe tbody tr th:only-of-type {\n",
       "        vertical-align: middle;\n",
       "    }\n",
       "\n",
       "    .dataframe tbody tr th {\n",
       "        vertical-align: top;\n",
       "    }\n",
       "\n",
       "    .dataframe thead th {\n",
       "        text-align: right;\n",
       "    }\n",
       "</style>\n",
       "<table border=\"1\" class=\"dataframe\">\n",
       "  <thead>\n",
       "    <tr style=\"text-align: right;\">\n",
       "      <th></th>\n",
       "      <th>File</th>\n",
       "      <th>Engagement</th>\n",
       "      <th>Manipulation</th>\n",
       "      <th>Visual</th>\n",
       "      <th>Text</th>\n",
       "      <th>Hate Speech</th>\n",
       "      <th>N_words_text</th>\n",
       "    </tr>\n",
       "  </thead>\n",
       "  <tbody>\n",
       "    <tr>\n",
       "      <th>0</th>\n",
       "      <td>1000.jpg</td>\n",
       "      <td>381</td>\n",
       "      <td>0</td>\n",
       "      <td>0</td>\n",
       "      <td>quando ti chiedono se sia peggiore fratelli d'...</td>\n",
       "      <td>1</td>\n",
       "      <td>15</td>\n",
       "    </tr>\n",
       "    <tr>\n",
       "      <th>1</th>\n",
       "      <td>1001.jpg</td>\n",
       "      <td>142</td>\n",
       "      <td>1</td>\n",
       "      <td>0</td>\n",
       "      <td>conte entra in un negozio di telefonia e passa...</td>\n",
       "      <td>0</td>\n",
       "      <td>14</td>\n",
       "    </tr>\n",
       "    <tr>\n",
       "      <th>2</th>\n",
       "      <td>1002.jpg</td>\n",
       "      <td>3598</td>\n",
       "      <td>1</td>\n",
       "      <td>Di Maio, Zingaretti, Berlusconi, Salvini</td>\n",
       "      <td>i politicanti italici non vedono l'ora di anda...</td>\n",
       "      <td>1</td>\n",
       "      <td>17</td>\n",
       "    </tr>\n",
       "    <tr>\n",
       "      <th>3</th>\n",
       "      <td>1003.jpg</td>\n",
       "      <td>165</td>\n",
       "      <td>1</td>\n",
       "      <td>Salvini, Renzi</td>\n",
       "      <td>sono scemo. io di più. scemo &amp; più scemo</td>\n",
       "      <td>1</td>\n",
       "      <td>9</td>\n",
       "    </tr>\n",
       "    <tr>\n",
       "      <th>4</th>\n",
       "      <td>1004.jpg</td>\n",
       "      <td>44</td>\n",
       "      <td>0</td>\n",
       "      <td>0</td>\n",
       "      <td>beppe grillo (2017) genova, 21 luglio 1948 pol...</td>\n",
       "      <td>0</td>\n",
       "      <td>26</td>\n",
       "    </tr>\n",
       "  </tbody>\n",
       "</table>\n",
       "</div>"
      ],
      "text/plain": [
       "       File  Engagement  Manipulation  \\\n",
       "0  1000.jpg         381             0   \n",
       "1  1001.jpg         142             1   \n",
       "2  1002.jpg        3598             1   \n",
       "3  1003.jpg         165             1   \n",
       "4  1004.jpg          44             0   \n",
       "\n",
       "                                     Visual  \\\n",
       "0                                         0   \n",
       "1                                         0   \n",
       "2  Di Maio, Zingaretti, Berlusconi, Salvini   \n",
       "3                            Salvini, Renzi   \n",
       "4                                         0   \n",
       "\n",
       "                                                Text  Hate Speech  \\\n",
       "0  quando ti chiedono se sia peggiore fratelli d'...            1   \n",
       "1  conte entra in un negozio di telefonia e passa...            0   \n",
       "2  i politicanti italici non vedono l'ora di anda...            1   \n",
       "3           sono scemo. io di più. scemo & più scemo            1   \n",
       "4  beppe grillo (2017) genova, 21 luglio 1948 pol...            0   \n",
       "\n",
       "   N_words_text  \n",
       "0            15  \n",
       "1            14  \n",
       "2            17  \n",
       "3             9  \n",
       "4            26  "
      ]
     },
     "execution_count": 11,
     "metadata": {},
     "output_type": "execute_result"
    }
   ],
   "source": [
    "data[\"N_words_text\"] = data['Text'].apply(lambda x:len(str(x).split()))\n",
    "data.head()"
   ]
  },
  {
   "cell_type": "code",
   "execution_count": 14,
   "id": "02be0f1f",
   "metadata": {},
   "outputs": [
    {
     "data": {
      "image/png": "[encoded data removed]",
      "text/plain": [
       "<Figure size 1296x576 with 1 Axes>"
      ]
     },
     "metadata": {
      "needs_background": "light"
     },
     "output_type": "display_data"
    }
   ],
   "source": [
    "# Visualizzo la lunghezza del testo dei meme e delle immagini che non sono meme\n",
    "# Filtra il dataset per i valori con meme = 1\n",
    "meme_dataset = data[data['Hate Speech'] == 1]\n",
    "non_meme_dataset = data[data['Hate Speech'] == 0]\n",
    "\n",
    "# Calcola la lunghezza del testo per i valori con meme = 1\n",
    "meme_dataset['Text_Length'] = meme_dataset['Text'].apply(len)\n",
    "non_meme_dataset['Text_Length'] = non_meme_dataset['Text'].apply(len)\n",
    "\n",
    "# Crea il plot della lunghezza del testo per meme e non meme\n",
    "plt.hist(meme_dataset['Text_Length'], bins=20, alpha=0.5, label='Hate Speech', color='#8fce00')\n",
    "plt.hist(non_meme_dataset['Text_Length'], bins=20, alpha=0.5, label='Non Hate Speech', color='#ff1100')\n",
    "plt.xlabel('Lunghezza del testo')\n",
    "plt.ylabel('Numero di esempi')\n",
    "plt.title('Distribuzione della lunghezza del testo')\n",
    "plt.legend()\n",
    "plt.show()"
   ]
  },
  {
   "cell_type": "code",
   "execution_count": 15,
   "id": "0465dbd5",
   "metadata": {},
   "outputs": [],
   "source": [
    "# Definisci le stopwords italiane\n",
    "stopwords = nltk.corpus.stopwords.words('italian')"
   ]
  },
  {
   "cell_type": "code",
   "execution_count": 16,
   "id": "9c48c3f6",
   "metadata": {},
   "outputs": [],
   "source": [
    "# Rimuovi le stopwords e i segni di punteggiatura dal testo del meme\n",
    "def preprocess_text(text):\n",
    "    # Rimuovi la punteggiatura\n",
    "    text = text.translate(str.maketrans('', '', string.punctuation))\n",
    "    \n",
    "    # Tokenizzazione del testo\n",
    "    tokens = nltk.word_tokenize(text)\n",
    "    \n",
    "    # Rimuovi le stopwords\n",
    "    tokens = [token for token in tokens if token.lower() not in stopwords]\n",
    "    \n",
    "    # Ricomponi il testo senza stopwords\n",
    "    processed_text = ' '.join(tokens)\n",
    "    \n",
    "    return processed_text"
   ]
  },
  {
   "cell_type": "code",
   "execution_count": 17,
   "id": "5e9c125b",
   "metadata": {},
   "outputs": [
    {
     "data": {
      "text/html": [
       "<div>\n",
       "<style scoped>\n",
       "    .dataframe tbody tr th:only-of-type {\n",
       "        vertical-align: middle;\n",
       "    }\n",
       "\n",
       "    .dataframe tbody tr th {\n",
       "        vertical-align: top;\n",
       "    }\n",
       "\n",
       "    .dataframe thead th {\n",
       "        text-align: right;\n",
       "    }\n",
       "</style>\n",
       "<table border=\"1\" class=\"dataframe\">\n",
       "  <thead>\n",
       "    <tr style=\"text-align: right;\">\n",
       "      <th></th>\n",
       "      <th>File</th>\n",
       "      <th>Engagement</th>\n",
       "      <th>Manipulation</th>\n",
       "      <th>Visual</th>\n",
       "      <th>Text</th>\n",
       "      <th>Hate Speech</th>\n",
       "      <th>N_words_text</th>\n",
       "      <th>Processed_Text</th>\n",
       "    </tr>\n",
       "  </thead>\n",
       "  <tbody>\n",
       "    <tr>\n",
       "      <th>0</th>\n",
       "      <td>1000.jpg</td>\n",
       "      <td>381</td>\n",
       "      <td>0</td>\n",
       "      <td>0</td>\n",
       "      <td>quando ti chiedono se sia peggiore fratelli d'...</td>\n",
       "      <td>1</td>\n",
       "      <td>15</td>\n",
       "      <td>quando chiedono peggiore fratelli ditalia lega...</td>\n",
       "    </tr>\n",
       "    <tr>\n",
       "      <th>1</th>\n",
       "      <td>1001.jpg</td>\n",
       "      <td>142</td>\n",
       "      <td>1</td>\n",
       "      <td>0</td>\n",
       "      <td>conte entra in un negozio di telefonia e passa...</td>\n",
       "      <td>0</td>\n",
       "      <td>14</td>\n",
       "      <td>conte entra negozio telefonia passa pd mantene...</td>\n",
       "    </tr>\n",
       "    <tr>\n",
       "      <th>2</th>\n",
       "      <td>1002.jpg</td>\n",
       "      <td>3598</td>\n",
       "      <td>1</td>\n",
       "      <td>Di Maio, Zingaretti, Berlusconi, Salvini</td>\n",
       "      <td>i politicanti italici non vedono l'ora di anda...</td>\n",
       "      <td>1</td>\n",
       "      <td>17</td>\n",
       "      <td>politicanti italici vedono lora andar urne acc...</td>\n",
       "    </tr>\n",
       "    <tr>\n",
       "      <th>3</th>\n",
       "      <td>1003.jpg</td>\n",
       "      <td>165</td>\n",
       "      <td>1</td>\n",
       "      <td>Salvini, Renzi</td>\n",
       "      <td>sono scemo. io di più. scemo &amp; più scemo</td>\n",
       "      <td>1</td>\n",
       "      <td>9</td>\n",
       "      <td>scemo scemo scemo</td>\n",
       "    </tr>\n",
       "    <tr>\n",
       "      <th>4</th>\n",
       "      <td>1004.jpg</td>\n",
       "      <td>44</td>\n",
       "      <td>0</td>\n",
       "      <td>0</td>\n",
       "      <td>beppe grillo (2017) genova, 21 luglio 1948 pol...</td>\n",
       "      <td>0</td>\n",
       "      <td>26</td>\n",
       "      <td>beppe grillo 2017 genova 21 luglio 1948 politi...</td>\n",
       "    </tr>\n",
       "  </tbody>\n",
       "</table>\n",
       "</div>"
      ],
      "text/plain": [
       "       File  Engagement  Manipulation  \\\n",
       "0  1000.jpg         381             0   \n",
       "1  1001.jpg         142             1   \n",
       "2  1002.jpg        3598             1   \n",
       "3  1003.jpg         165             1   \n",
       "4  1004.jpg          44             0   \n",
       "\n",
       "                                     Visual  \\\n",
       "0                                         0   \n",
       "1                                         0   \n",
       "2  Di Maio, Zingaretti, Berlusconi, Salvini   \n",
       "3                            Salvini, Renzi   \n",
       "4                                         0   \n",
       "\n",
       "                                                Text  Hate Speech  \\\n",
       "0  quando ti chiedono se sia peggiore fratelli d'...            1   \n",
       "1  conte entra in un negozio di telefonia e passa...            0   \n",
       "2  i politicanti italici non vedono l'ora di anda...            1   \n",
       "3           sono scemo. io di più. scemo & più scemo            1   \n",
       "4  beppe grillo (2017) genova, 21 luglio 1948 pol...            0   \n",
       "\n",
       "   N_words_text                                     Processed_Text  \n",
       "0            15  quando chiedono peggiore fratelli ditalia lega...  \n",
       "1            14  conte entra negozio telefonia passa pd mantene...  \n",
       "2            17  politicanti italici vedono lora andar urne acc...  \n",
       "3             9                                  scemo scemo scemo  \n",
       "4            26  beppe grillo 2017 genova 21 luglio 1948 politi...  "
      ]
     },
     "execution_count": 17,
     "metadata": {},
     "output_type": "execute_result"
    }
   ],
   "source": [
    "data['Processed_Text'] = data['Text'].apply(preprocess_text)\n",
    "data.head()"
   ]
  },
  {
   "cell_type": "code",
   "execution_count": 18,
   "id": "0a88f1a6",
   "metadata": {},
   "outputs": [
    {
     "data": {
      "image/png": "[encoded data removed]",
      "text/plain": [
       "<Figure size 1296x576 with 2 Axes>"
      ]
     },
     "metadata": {
      "needs_background": "light"
     },
     "output_type": "display_data"
    }
   ],
   "source": [
    "plt.figure()\n",
    "plt.title(\"Features correlation matrix\")\n",
    "sns.heatmap(data.corr(), linewidths=.5)\n",
    "plt.show()"
   ]
  },
  {
   "cell_type": "code",
   "execution_count": null,
   "id": "8e858d7e",
   "metadata": {},
   "outputs": [],
   "source": []
  }
 ],
 "metadata": {
  "kernelspec": {
   "display_name": "Python 3 (ipykernel)",
   "language": "python",
   "name": "python3"
  },
  "language_info": {
   "codemirror_mode": {
    "name": "ipython",
    "version": 3
   },
   "file_extension": ".py",
   "mimetype": "text/x-python",
   "name": "python",
   "nbconvert_exporter": "python",
   "pygments_lexer": "ipython3",
   "version": "3.10.4"
  }
 },
 "nbformat": 4,
 "nbformat_minor": 5
}
