{
 "cells": [
  {
   "cell_type": "code",
   "execution_count": 1,
   "id": "51dee2e1",
   "metadata": {},
   "outputs": [],
   "source": [
    "import numpy as np\n",
    "import pandas as pd"
   ]
  },
  {
   "cell_type": "code",
   "execution_count": 3,
   "id": "f56aff50",
   "metadata": {},
   "outputs": [
    {
     "data": {
      "text/html": [
       "<div>\n",
       "<style scoped>\n",
       "    .dataframe tbody tr th:only-of-type {\n",
       "        vertical-align: middle;\n",
       "    }\n",
       "\n",
       "    .dataframe tbody tr th {\n",
       "        vertical-align: top;\n",
       "    }\n",
       "\n",
       "    .dataframe thead th {\n",
       "        text-align: right;\n",
       "    }\n",
       "</style>\n",
       "<table border=\"1\" class=\"dataframe\">\n",
       "  <thead>\n",
       "    <tr style=\"text-align: right;\">\n",
       "      <th></th>\n",
       "      <th>File</th>\n",
       "      <th>Engagement</th>\n",
       "      <th>Date</th>\n",
       "      <th>Manipulation</th>\n",
       "      <th>Visual</th>\n",
       "      <th>Text</th>\n",
       "      <th>Meme</th>\n",
       "    </tr>\n",
       "  </thead>\n",
       "  <tbody>\n",
       "    <tr>\n",
       "      <th>0</th>\n",
       "      <td>0.jpg</td>\n",
       "      <td>11</td>\n",
       "      <td>2019-08-12</td>\n",
       "      <td>1</td>\n",
       "      <td>Salvini</td>\n",
       "      <td>satira cruda votaci.. saremo di parola il part...</td>\n",
       "      <td>1</td>\n",
       "    </tr>\n",
       "    <tr>\n",
       "      <th>1</th>\n",
       "      <td>1.jpg</td>\n",
       "      <td>2261</td>\n",
       "      <td>2019-08-21</td>\n",
       "      <td>0</td>\n",
       "      <td>0</td>\n",
       "      <td>peccato per le accise, dai. c'eravamo quasi.</td>\n",
       "      <td>0</td>\n",
       "    </tr>\n",
       "    <tr>\n",
       "      <th>2</th>\n",
       "      <td>2.jpg</td>\n",
       "      <td>1327</td>\n",
       "      <td>2019-08-23</td>\n",
       "      <td>0</td>\n",
       "      <td>Salvini, Di Maio</td>\n",
       "      <td>\"che c'è ancora?\" \"aspetto un bambino\"</td>\n",
       "      <td>1</td>\n",
       "    </tr>\n",
       "    <tr>\n",
       "      <th>3</th>\n",
       "      <td>3.jpg</td>\n",
       "      <td>18</td>\n",
       "      <td>2019-08-27</td>\n",
       "      <td>0</td>\n",
       "      <td>0</td>\n",
       "      <td>ora in onda speciale gr1 ascolta la diretta se...</td>\n",
       "      <td>0</td>\n",
       "    </tr>\n",
       "    <tr>\n",
       "      <th>4</th>\n",
       "      <td>4.jpg</td>\n",
       "      <td>617</td>\n",
       "      <td>2019-08-25</td>\n",
       "      <td>0</td>\n",
       "      <td>Salvini, Di Maio</td>\n",
       "      <td>sta sciocchezza che sto pe fa e solo colpa tua</td>\n",
       "      <td>1</td>\n",
       "    </tr>\n",
       "  </tbody>\n",
       "</table>\n",
       "</div>"
      ],
      "text/plain": [
       "    File  Engagement        Date  Manipulation            Visual  \\\n",
       "0  0.jpg          11  2019-08-12             1           Salvini   \n",
       "1  1.jpg        2261  2019-08-21             0                 0   \n",
       "2  2.jpg        1327  2019-08-23             0  Salvini, Di Maio   \n",
       "3  3.jpg          18  2019-08-27             0                 0   \n",
       "4  4.jpg         617  2019-08-25             0  Salvini, Di Maio   \n",
       "\n",
       "                                                Text  Meme  \n",
       "0  satira cruda votaci.. saremo di parola il part...     1  \n",
       "1       peccato per le accise, dai. c'eravamo quasi.     0  \n",
       "2             \"che c'è ancora?\" \"aspetto un bambino\"     1  \n",
       "3  ora in onda speciale gr1 ascolta la diretta se...     0  \n",
       "4     sta sciocchezza che sto pe fa e solo colpa tua     1  "
      ]
     },
     "execution_count": 3,
     "metadata": {},
     "output_type": "execute_result"
    }
   ],
   "source": [
    "DATA_PATH = 'datasets/dankmemes_task1_train.csv'\n",
    "data = pd.read_csv(DATA_PATH)\n",
    "data.head()"
   ]
  },
  {
   "cell_type": "code",
   "execution_count": null,
   "id": "e9964d5a",
   "metadata": {},
   "outputs": [],
   "source": []
  }
 ],
 "metadata": {
  "kernelspec": {
   "display_name": "Python 3 (ipykernel)",
   "language": "python",
   "name": "python3"
  },
  "language_info": {
   "codemirror_mode": {
    "name": "ipython",
    "version": 3
   },
   "file_extension": ".py",
   "mimetype": "text/x-python",
   "name": "python",
   "nbconvert_exporter": "python",
   "pygments_lexer": "ipython3",
   "version": "3.10.4"
  }
 },
 "nbformat": 4,
 "nbformat_minor": 5
}
