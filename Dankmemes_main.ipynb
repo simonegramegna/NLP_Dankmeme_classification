{
 "cells": [
  {
   "cell_type": "code",
   "execution_count": 94,
   "id": "51dee2e1",
   "metadata": {},
   "outputs": [],
   "source": [
    "import warnings\n",
    "warnings.filterwarnings('ignore')\n",
    "\n",
    "import numpy as np\n",
    "import pandas as pd\n",
    "\n",
    "# Graphics Libs\n",
    "import matplotlib.pyplot as plt\n",
    "\n",
    "# nlp libraries\n",
    "import spacy\n",
    "from sklearn.feature_extraction.text import CountVectorizer,TfidfVectorizer\n",
    "from sklearn.base import TransformerMixin\n",
    "from sklearn.pipeline import Pipeline\n",
    "from spacy.lang.it.stop_words import STOP_WORDS\n",
    "from spacy.lang.it import Italian\n",
    "\n",
    "# models\n",
    "from sklearn import svm"
   ]
  },
  {
   "cell_type": "code",
   "execution_count": 95,
   "id": "f56aff50",
   "metadata": {},
   "outputs": [
    {
     "data": {
      "text/html": [
       "<div>\n",
       "<style scoped>\n",
       "    .dataframe tbody tr th:only-of-type {\n",
       "        vertical-align: middle;\n",
       "    }\n",
       "\n",
       "    .dataframe tbody tr th {\n",
       "        vertical-align: top;\n",
       "    }\n",
       "\n",
       "    .dataframe thead th {\n",
       "        text-align: right;\n",
       "    }\n",
       "</style>\n",
       "<table border=\"1\" class=\"dataframe\">\n",
       "  <thead>\n",
       "    <tr style=\"text-align: right;\">\n",
       "      <th></th>\n",
       "      <th>File</th>\n",
       "      <th>Engagement</th>\n",
       "      <th>Date</th>\n",
       "      <th>Manipulation</th>\n",
       "      <th>Visual</th>\n",
       "      <th>Text</th>\n",
       "      <th>Meme</th>\n",
       "    </tr>\n",
       "  </thead>\n",
       "  <tbody>\n",
       "    <tr>\n",
       "      <th>0</th>\n",
       "      <td>0.jpg</td>\n",
       "      <td>11</td>\n",
       "      <td>2019-08-12</td>\n",
       "      <td>1</td>\n",
       "      <td>Salvini</td>\n",
       "      <td>satira cruda votaci.. saremo di parola il part...</td>\n",
       "      <td>1</td>\n",
       "    </tr>\n",
       "    <tr>\n",
       "      <th>1</th>\n",
       "      <td>1.jpg</td>\n",
       "      <td>2261</td>\n",
       "      <td>2019-08-21</td>\n",
       "      <td>0</td>\n",
       "      <td>0</td>\n",
       "      <td>peccato per le accise, dai. c'eravamo quasi.</td>\n",
       "      <td>0</td>\n",
       "    </tr>\n",
       "    <tr>\n",
       "      <th>2</th>\n",
       "      <td>2.jpg</td>\n",
       "      <td>1327</td>\n",
       "      <td>2019-08-23</td>\n",
       "      <td>0</td>\n",
       "      <td>Salvini, Di Maio</td>\n",
       "      <td>\"che c'è ancora?\" \"aspetto un bambino\"</td>\n",
       "      <td>1</td>\n",
       "    </tr>\n",
       "    <tr>\n",
       "      <th>3</th>\n",
       "      <td>3.jpg</td>\n",
       "      <td>18</td>\n",
       "      <td>2019-08-27</td>\n",
       "      <td>0</td>\n",
       "      <td>0</td>\n",
       "      <td>ora in onda speciale gr1 ascolta la diretta se...</td>\n",
       "      <td>0</td>\n",
       "    </tr>\n",
       "    <tr>\n",
       "      <th>4</th>\n",
       "      <td>4.jpg</td>\n",
       "      <td>617</td>\n",
       "      <td>2019-08-25</td>\n",
       "      <td>0</td>\n",
       "      <td>Salvini, Di Maio</td>\n",
       "      <td>sta sciocchezza che sto pe fa e solo colpa tua</td>\n",
       "      <td>1</td>\n",
       "    </tr>\n",
       "  </tbody>\n",
       "</table>\n",
       "</div>"
      ],
      "text/plain": [
       "    File  Engagement        Date  Manipulation            Visual  \\\n",
       "0  0.jpg          11  2019-08-12             1           Salvini   \n",
       "1  1.jpg        2261  2019-08-21             0                 0   \n",
       "2  2.jpg        1327  2019-08-23             0  Salvini, Di Maio   \n",
       "3  3.jpg          18  2019-08-27             0                 0   \n",
       "4  4.jpg         617  2019-08-25             0  Salvini, Di Maio   \n",
       "\n",
       "                                                Text  Meme  \n",
       "0  satira cruda votaci.. saremo di parola il part...     1  \n",
       "1       peccato per le accise, dai. c'eravamo quasi.     0  \n",
       "2             \"che c'è ancora?\" \"aspetto un bambino\"     1  \n",
       "3  ora in onda speciale gr1 ascolta la diretta se...     0  \n",
       "4     sta sciocchezza che sto pe fa e solo colpa tua     1  "
      ]
     },
     "execution_count": 95,
     "metadata": {},
     "output_type": "execute_result"
    }
   ],
   "source": [
    "DATA_PATH = 'datasets/dankmemes_task1_train.csv'\n",
    "data = pd.read_csv(DATA_PATH)\n",
    "data.head()"
   ]
  },
  {
   "cell_type": "code",
   "execution_count": 96,
   "id": "467b69be",
   "metadata": {},
   "outputs": [
    {
     "data": {
      "text/html": [
       "<div>\n",
       "<style scoped>\n",
       "    .dataframe tbody tr th:only-of-type {\n",
       "        vertical-align: middle;\n",
       "    }\n",
       "\n",
       "    .dataframe tbody tr th {\n",
       "        vertical-align: top;\n",
       "    }\n",
       "\n",
       "    .dataframe thead th {\n",
       "        text-align: right;\n",
       "    }\n",
       "</style>\n",
       "<table border=\"1\" class=\"dataframe\">\n",
       "  <thead>\n",
       "    <tr style=\"text-align: right;\">\n",
       "      <th></th>\n",
       "      <th>Engagement</th>\n",
       "      <th>Manipulation</th>\n",
       "      <th>Meme</th>\n",
       "    </tr>\n",
       "  </thead>\n",
       "  <tbody>\n",
       "    <tr>\n",
       "      <th>count</th>\n",
       "      <td>1600.000000</td>\n",
       "      <td>1600.000000</td>\n",
       "      <td>1600.00000</td>\n",
       "    </tr>\n",
       "    <tr>\n",
       "      <th>mean</th>\n",
       "      <td>410.330625</td>\n",
       "      <td>0.205000</td>\n",
       "      <td>0.49750</td>\n",
       "    </tr>\n",
       "    <tr>\n",
       "      <th>std</th>\n",
       "      <td>1987.871324</td>\n",
       "      <td>0.403828</td>\n",
       "      <td>0.50015</td>\n",
       "    </tr>\n",
       "    <tr>\n",
       "      <th>min</th>\n",
       "      <td>0.000000</td>\n",
       "      <td>0.000000</td>\n",
       "      <td>0.00000</td>\n",
       "    </tr>\n",
       "    <tr>\n",
       "      <th>25%</th>\n",
       "      <td>14.000000</td>\n",
       "      <td>0.000000</td>\n",
       "      <td>0.00000</td>\n",
       "    </tr>\n",
       "    <tr>\n",
       "      <th>50%</th>\n",
       "      <td>38.000000</td>\n",
       "      <td>0.000000</td>\n",
       "      <td>0.00000</td>\n",
       "    </tr>\n",
       "    <tr>\n",
       "      <th>75%</th>\n",
       "      <td>163.000000</td>\n",
       "      <td>0.000000</td>\n",
       "      <td>1.00000</td>\n",
       "    </tr>\n",
       "    <tr>\n",
       "      <th>max</th>\n",
       "      <td>38994.000000</td>\n",
       "      <td>1.000000</td>\n",
       "      <td>1.00000</td>\n",
       "    </tr>\n",
       "  </tbody>\n",
       "</table>\n",
       "</div>"
      ],
      "text/plain": [
       "         Engagement  Manipulation        Meme\n",
       "count   1600.000000   1600.000000  1600.00000\n",
       "mean     410.330625      0.205000     0.49750\n",
       "std     1987.871324      0.403828     0.50015\n",
       "min        0.000000      0.000000     0.00000\n",
       "25%       14.000000      0.000000     0.00000\n",
       "50%       38.000000      0.000000     0.00000\n",
       "75%      163.000000      0.000000     1.00000\n",
       "max    38994.000000      1.000000     1.00000"
      ]
     },
     "execution_count": 96,
     "metadata": {},
     "output_type": "execute_result"
    }
   ],
   "source": [
    "data.describe()"
   ]
  },
  {
   "cell_type": "code",
   "execution_count": 97,
   "id": "956d9d68",
   "metadata": {},
   "outputs": [
    {
     "data": {
      "text/plain": [
       "File            object\n",
       "Engagement       int64\n",
       "Date            object\n",
       "Manipulation     int64\n",
       "Visual          object\n",
       "Text            object\n",
       "Meme             int64\n",
       "dtype: object"
      ]
     },
     "execution_count": 97,
     "metadata": {},
     "output_type": "execute_result"
    }
   ],
   "source": [
    "data.dtypes"
   ]
  },
  {
   "cell_type": "code",
   "execution_count": 98,
   "id": "d2bce79a",
   "metadata": {},
   "outputs": [
    {
     "data": {
      "image/png": "[encoded data removed]",
      "text/plain": [
       "<Figure size 432x288 with 1 Axes>"
      ]
     },
     "metadata": {
      "needs_background": "light"
     },
     "output_type": "display_data"
    }
   ],
   "source": [
    "# Count the number of memes and non-memes\n",
    "number_of_memes = data['Meme'].sum()\n",
    "number_of_non_memes = len(data) - number_of_memes\n",
    "\n",
    "\n",
    "\n",
    "# Create the bar plot\n",
    "plt.bar(['Memes', 'Non-Memes'], [number_of_memes, number_of_non_memes], color=['#8fce00', '#ff1100'])\n",
    "\n",
    "# Set labels and title\n",
    "plt.xlabel('Type', labelpad=20)\n",
    "plt.ylabel('Number of Images', labelpad=20)\n",
    "plt.title('Number of Memes and Non-Memes in the Dataset')\n",
    "\n",
    "# Show the plot\n",
    "plt.show()"
   ]
  },
  {
   "cell_type": "code",
   "execution_count": 99,
   "id": "188808d4",
   "metadata": {},
   "outputs": [
    {
     "data": {
      "image/png": "[encoded data removed]",
      "text/plain": [
       "<Figure size 432x288 with 1 Axes>"
      ]
     },
     "metadata": {},
     "output_type": "display_data"
    }
   ],
   "source": [
    "count = data.Meme.value_counts()\n",
    "labels = ['Not a meme', 'Meme']\n",
    "\n",
    "plt.pie(count, \n",
    "        labels=labels,\n",
    "        autopct = '%1.2f%%')\n",
    "plt.axis('equal') # center the plot\n",
    "plt.title('Target values \\n\\n', fontsize = 16)\n",
    "plt.show()"
   ]
  },
  {
   "cell_type": "code",
   "execution_count": 100,
   "id": "436f14d0",
   "metadata": {},
   "outputs": [
    {
     "data": {
      "image/png": "[encoded data removed]",
      "text/plain": [
       "<Figure size 720x432 with 1 Axes>"
      ]
     },
     "metadata": {
      "needs_background": "light"
     },
     "output_type": "display_data"
    }
   ],
   "source": [
    "# Group the data by date and count the number of memes for each date\n",
    "memes_by_date = data[data['Meme'] == 1].groupby('Date').size()\n",
    "\n",
    "# Create the line plot\n",
    "memes_by_date.plot(kind='line', marker='o', figsize=(10, 6))\n",
    "\n",
    "# Set labels and title\n",
    "plt.xlabel('Date')\n",
    "plt.ylabel('Number of Memes')\n",
    "plt.title('Distribution of Memes over Dates')\n",
    "\n",
    "# Show the plot\n",
    "plt.show()"
   ]
  },
  {
   "cell_type": "code",
   "execution_count": 101,
   "id": "b9511b17",
   "metadata": {},
   "outputs": [
    {
     "data": {
      "image/png": "[encoded data removed]",
      "text/plain": [
       "<Figure size 720x432 with 1 Axes>"
      ]
     },
     "metadata": {
      "needs_background": "light"
     },
     "output_type": "display_data"
    }
   ],
   "source": [
    "# Convert the 'Date' column to datetime format\n",
    "data['Date'] = pd.to_datetime(data['Date'])\n",
    "\n",
    "# Group the data by date and calculate the average engagement\n",
    "engagement_over_time = data.groupby('Date')['Engagement'].mean()\n",
    "\n",
    "# Create the line plot\n",
    "engagement_over_time.plot(kind='line', marker='o', figsize=(10, 6))\n",
    "\n",
    "# Set labels and title\n",
    "plt.xlabel('Date')\n",
    "plt.ylabel('Engagement')\n",
    "plt.title('Engagement Over Time')\n",
    "\n",
    "# Show the plot\n",
    "plt.show()"
   ]
  },
  {
   "cell_type": "code",
   "execution_count": 110,
   "id": "0465dbd5",
   "metadata": {},
   "outputs": [],
   "source": [
    "#init spaCy\n",
    "punctuations = string.punctuation\n",
    "stop_words_it = spacy.lang.it.stop_words.STOP_WORDS\n",
    "parser_it = Italian()"
   ]
  },
  {
   "cell_type": "code",
   "execution_count": 111,
   "id": "bfd85799",
   "metadata": {},
   "outputs": [],
   "source": [
    "# Custom transformer using spaCy\n",
    "class predictors(TransformerMixin):\n",
    "    def transform(self, X, **transform_params):\n",
    "        # Cleaning Text\n",
    "        return [clean_text(text) for text in X]\n",
    "\n",
    "    def fit(self, X, y=None, **fit_params):\n",
    "        return self\n",
    "\n",
    "    def get_params(self, deep=True):\n",
    "        return {}\n",
    "\n",
    "# Basic function to clean the text\n",
    "def clean_text(text):\n",
    "    # Removing spaces and converting text into lowercase\n",
    "    return text.strip().lower()\n",
    "\n",
    "# Tokenizer function\n",
    "def spacy_tokenizer_it(sentence):\n",
    "    mytokens = parser_it(sentence)\n",
    "    mytokens = [ word.text for word in mytokens ]\n",
    "    # remove stop words\n",
    "    mytokens = [ word for word in mytokens if word not in stop_words_it and word not in punctuations ]\n",
    "    # return preprocessed list of tokens\n",
    "    return mytokens"
   ]
  },
  {
   "cell_type": "code",
   "execution_count": 112,
   "id": "92e76af6",
   "metadata": {},
   "outputs": [],
   "source": [
    "tfidf_vector = TfidfVectorizer(tokenizer = spacy_tokenizer_it)\n",
    "X = data.Text\n",
    "y = data.Meme"
   ]
  },
  {
   "cell_type": "code",
   "execution_count": 113,
   "id": "605417c0",
   "metadata": {},
   "outputs": [
    {
     "data": {
      "text/plain": [
       "Pipeline(steps=[('cleaner', <__main__.predictors object at 0x00000222ACB77880>),\n",
       "                ('vectorizer',\n",
       "                 TfidfVectorizer(tokenizer=<function spacy_tokenizer_it at 0x00000222AEDFB010>)),\n",
       "                ('classifier', LinearSVC())])"
      ]
     },
     "execution_count": 113,
     "metadata": {},
     "output_type": "execute_result"
    }
   ],
   "source": [
    "# Training\n",
    "tfidf_vector = TfidfVectorizer(tokenizer = spacy_tokenizer_it)\n",
    "classifier = svm.LinearSVC()\n",
    "pipe = Pipeline([(\"cleaner\", predictors()),\n",
    "  ('vectorizer', tfidf_vector),\n",
    "  ('classifier', classifier)])\n",
    "pipe.fit(X, np.array(y))"
   ]
  },
  {
   "cell_type": "code",
   "execution_count": null,
   "id": "097a8a8b",
   "metadata": {},
   "outputs": [],
   "source": []
  }
 ],
 "metadata": {
  "kernelspec": {
   "display_name": "Python 3 (ipykernel)",
   "language": "python",
   "name": "python3"
  },
  "language_info": {
   "codemirror_mode": {
    "name": "ipython",
    "version": 3
   },
   "file_extension": ".py",
   "mimetype": "text/x-python",
   "name": "python",
   "nbconvert_exporter": "python",
   "pygments_lexer": "ipython3",
   "version": "3.10.4"
  }
 },
 "nbformat": 4,
 "nbformat_minor": 5
}
